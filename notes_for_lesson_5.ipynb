{
  "nbformat": 4,
  "nbformat_minor": 0,
  "metadata": {
    "colab": {
      "name": "notes_for_lesson_5.ipynb",
      "provenance": [],
      "authorship_tag": "ABX9TyOpdPqNzZJKKYGAdjvRZsVW",
      "include_colab_link": true
    },
    "kernelspec": {
      "name": "python3",
      "display_name": "Python 3"
    },
    "language_info": {
      "name": "python"
    }
  },
  "cells": [
    {
      "cell_type": "markdown",
      "metadata": {
        "id": "view-in-github",
        "colab_type": "text"
      },
      "source": [
        "<a href=\"https://colab.research.google.com/github/mozgsvina/hse_python_intro/blob/main/notes_for_lesson_5.ipynb\" target=\"_parent\"><img src=\"https://colab.research.google.com/assets/colab-badge.svg\" alt=\"Open In Colab\"/></a>"
      ]
    },
    {
      "cell_type": "markdown",
      "metadata": {
        "id": "zp9Zj5aqGOAn"
      },
      "source": [
        "Небольшое отступление про кортежи:"
      ]
    },
    {
      "cell_type": "code",
      "metadata": {
        "id": "Kc-dWoiKnW9w",
        "colab": {
          "base_uri": "https://localhost:8080/"
        },
        "outputId": "02140379-d242-4ab5-8eb5-f6140a08721e"
      },
      "source": [
        "# это интерпретируется питоном как кортеж:\n",
        "1, 3, 4"
      ],
      "execution_count": 1,
      "outputs": [
        {
          "output_type": "execute_result",
          "data": {
            "text/plain": [
              "(1, 3, 4)"
            ]
          },
          "metadata": {},
          "execution_count": 1
        }
      ]
    },
    {
      "cell_type": "code",
      "metadata": {
        "id": "ddkvfz6kBg0j",
        "colab": {
          "base_uri": "https://localhost:8080/"
        },
        "outputId": "8553bf37-e134-43e6-a5fd-4ac375cfb0e3"
      },
      "source": [
        "# потенциальная ошибка\n",
        "num = 1,35 # это кортеж!\n",
        "num *= 3\n",
        "print(num) # prints (1, 35, 1, 35, 1, 35)"
      ],
      "execution_count": 2,
      "outputs": [
        {
          "output_type": "stream",
          "name": "stdout",
          "text": [
            "(1, 35, 1, 35, 1, 35)\n"
          ]
        }
      ]
    },
    {
      "cell_type": "code",
      "metadata": {
        "id": "41nJCf--GcP_"
      },
      "source": [
        "# для наглядности можно добавлять скобочки\n",
        "num_tuple = (1, 2) # same as num_tuple = 1, 2"
      ],
      "execution_count": 3,
      "outputs": []
    },
    {
      "cell_type": "code",
      "metadata": {
        "id": "kAIiNSH7B74C",
        "colab": {
          "base_uri": "https://localhost:8080/"
        },
        "outputId": "5e49d0f2-3455-4a4f-c6b2-d78e0cbc0939"
      },
      "source": [
        "# превращение списка в кортеж\n",
        "nums = [1, 2, 3]\n",
        "nums_tuple = tuple(nums)\n",
        "\n",
        "nums_tuple"
      ],
      "execution_count": 4,
      "outputs": [
        {
          "output_type": "execute_result",
          "data": {
            "text/plain": [
              "(1, 2, 3)"
            ]
          },
          "metadata": {},
          "execution_count": 4
        }
      ]
    },
    {
      "cell_type": "markdown",
      "metadata": {
        "id": "c2Ne7sZVnatP"
      },
      "source": [
        "Разбор д / з"
      ]
    },
    {
      "cell_type": "code",
      "metadata": {
        "id": "HHh79PlICPbS",
        "colab": {
          "base_uri": "https://localhost:8080/"
        },
        "outputId": "05d162a2-6c4a-4284-fce8-7acb9768ab71"
      },
      "source": [
        "# (1)\n",
        "words = [\"раз\", \"два\", \"три\", \"десять\"]\n",
        "letters_dict = {}\n",
        "for w in words:\n",
        "    if w[0] in letters_dict:\n",
        "        letters_dict[w[0]].append(w)\n",
        "    else:\n",
        "        letters_dict[w[0]] = [w]\n",
        "\n",
        "print(letters_dict)"
      ],
      "execution_count": 5,
      "outputs": [
        {
          "output_type": "stream",
          "name": "stdout",
          "text": [
            "{'р': ['раз'], 'д': ['два', 'десять'], 'т': ['три']}\n"
          ]
        }
      ]
    },
    {
      "cell_type": "code",
      "metadata": {
        "id": "RsE1gKJlB4M7",
        "colab": {
          "base_uri": "https://localhost:8080/"
        },
        "outputId": "6dd97399-04c5-46c4-b954-503c06c3d99e"
      },
      "source": [
        "# (2a)\n",
        "adv_dict = {\n",
        "    \"громко\":\n",
        "        {\n",
        "            \"len\": 0,\n",
        "            \"syn\": \"шумно\",\n",
        "            \"ant\": \"тихо\"\n",
        "        },\n",
        "    \"весело\":\n",
        "        {\n",
        "            \"len\": 0,\n",
        "            \"syn\": \"радостно\",\n",
        "            \"ant\": \"грустно\"\n",
        "        },\n",
        "    \"мокро\":\n",
        "        {\n",
        "            \"len\": 0,\n",
        "            \"syn\": \"влажно\",\n",
        "            \"ant\": \"сухо\"\n",
        "        },\n",
        "}\n",
        "\n",
        "for key, val in adv_dict.items():\n",
        "    print(f\"Ключ имеет тип {type(key)}, значение имеет тип {type(val)}.\")\n",
        "    for inner_key, inner_val in val.items():\n",
        "        print(f\"Внутренний ключ: {type(inner_key)}, внутреннее значение: {type(inner_val)}.\")"
      ],
      "execution_count": 6,
      "outputs": [
        {
          "output_type": "stream",
          "name": "stdout",
          "text": [
            "Ключ имеет тип <class 'str'>, значение имеет тип <class 'dict'>.\n",
            "Внутренний ключ: <class 'str'>, внутреннее значение: <class 'int'>.\n",
            "Внутренний ключ: <class 'str'>, внутреннее значение: <class 'str'>.\n",
            "Внутренний ключ: <class 'str'>, внутреннее значение: <class 'str'>.\n",
            "Ключ имеет тип <class 'str'>, значение имеет тип <class 'dict'>.\n",
            "Внутренний ключ: <class 'str'>, внутреннее значение: <class 'int'>.\n",
            "Внутренний ключ: <class 'str'>, внутреннее значение: <class 'str'>.\n",
            "Внутренний ключ: <class 'str'>, внутреннее значение: <class 'str'>.\n",
            "Ключ имеет тип <class 'str'>, значение имеет тип <class 'dict'>.\n",
            "Внутренний ключ: <class 'str'>, внутреннее значение: <class 'int'>.\n",
            "Внутренний ключ: <class 'str'>, внутреннее значение: <class 'str'>.\n",
            "Внутренний ключ: <class 'str'>, внутреннее значение: <class 'str'>.\n"
          ]
        }
      ]
    },
    {
      "cell_type": "code",
      "metadata": {
        "id": "YVLLOkvTFBG_",
        "colab": {
          "base_uri": "https://localhost:8080/"
        },
        "outputId": "049927aa-579c-4b1c-f6a4-a3e777b85bd9"
      },
      "source": [
        "# (2b)\n",
        "for entry in adv_dict:\n",
        "    adv_dict[entry][\"len\"] = len(entry)\n",
        "\n",
        "adv_dict"
      ],
      "execution_count": 7,
      "outputs": [
        {
          "output_type": "execute_result",
          "data": {
            "text/plain": [
              "{'весело': {'ant': 'грустно', 'len': 6, 'syn': 'радостно'},\n",
              " 'громко': {'ant': 'тихо', 'len': 6, 'syn': 'шумно'},\n",
              " 'мокро': {'ant': 'сухо', 'len': 5, 'syn': 'влажно'}}"
            ]
          },
          "metadata": {},
          "execution_count": 7
        }
      ]
    },
    {
      "cell_type": "code",
      "metadata": {
        "id": "BPXgftmtEMdO",
        "colab": {
          "base_uri": "https://localhost:8080/"
        },
        "outputId": "533886bb-6797-4374-a46f-06e9e23e83ec"
      },
      "source": [
        "# (3,4)\n",
        "try:\n",
        "    time = input(\"Введите время: \").split(':')\n",
        "    if len(time) != 3:\n",
        "        print(\"что-то точно не так с форматом!\")\n",
        "    else:\n",
        "        time_tuple = tuple(time)      \n",
        "        hours, minutes, seconds = time_tuple\n",
        "        print(f\"Сейчас {int(hours)} часов или больше.\")\n",
        "except ValueError:\n",
        "    print(\"Наверное, вы все-таки ввели данные не в том формате.\")\n",
        "except:\n",
        "    print(\"Что-то сломалось!\")"
      ],
      "execution_count": 8,
      "outputs": [
        {
          "output_type": "stream",
          "name": "stdout",
          "text": [
            "Введите время: 12:13:12\n",
            "Сейчас 12 часов или больше.\n"
          ]
        }
      ]
    },
    {
      "cell_type": "code",
      "metadata": {
        "id": "Z5vFt92FKRAq",
        "colab": {
          "base_uri": "https://localhost:8080/"
        },
        "outputId": "336c2f8d-57a0-4b4b-99c9-e21932b7704b"
      },
      "source": [
        "# ZeroDivisionError\n",
        "try:\n",
        "    numbers = input(\"Введите два числа: \").split()\n",
        "    a, b  = numbers\n",
        "    print(int(a) / int(b))\n",
        "except ZeroDivisionError:\n",
        "    print(\"нельзя делить на ноль!\")\n",
        "except ValueError:\n",
        "    print(\"введите числа через пробел!\")\n",
        "except:\n",
        "    print(\"Что-то сломалось!\")"
      ],
      "execution_count": 9,
      "outputs": [
        {
          "output_type": "stream",
          "name": "stdout",
          "text": [
            "Введите два числа: 13 0\n",
            "нельзя делить на ноль!\n"
          ]
        }
      ]
    },
    {
      "cell_type": "code",
      "metadata": {
        "id": "pX_mP206LmIM",
        "colab": {
          "base_uri": "https://localhost:8080/"
        },
        "outputId": "5be2b864-a21b-408b-9d0d-34226ab4360b"
      },
      "source": [
        "# (5)\n",
        "letters = \"asda  123jfds 90f3\"\n",
        "def sum_nums(line):\n",
        "    total = 0\n",
        "    for char in line:\n",
        "        if char.isdigit():\n",
        "            total += int(char)\n",
        "    return total\n",
        "\n",
        "sum_nums(letters)"
      ],
      "execution_count": 10,
      "outputs": [
        {
          "output_type": "execute_result",
          "data": {
            "text/plain": [
              "18"
            ]
          },
          "metadata": {},
          "execution_count": 10
        }
      ]
    },
    {
      "cell_type": "markdown",
      "metadata": {
        "id": "GmK_1YrNKiGa"
      },
      "source": [
        "Еще про определение собственных функций"
      ]
    },
    {
      "cell_type": "code",
      "metadata": {
        "id": "QFNit0bpL5GM",
        "colab": {
          "base_uri": "https://localhost:8080/"
        },
        "outputId": "b538d07c-42cb-46ae-8eaf-cd3cdc9be635"
      },
      "source": [
        "def print_hello():\n",
        "    print(\"Hello!\")\n",
        "\n",
        "print_hello()\n",
        "\n",
        "# так можно задать значение по умолчанию\n",
        "def say_hello(name=\"Stranger\"):\n",
        "    print(\"Hello, \", name + \"!\")\n",
        "\n",
        "# вызов функции с передачей аргумента\n",
        "say_hello(\"Natasha\")\n",
        "my_name = \"Anya\"\n",
        "\n",
        "# вызов функции без передачи аргумента, используется значения параметра по умолчанию\n",
        "say_hello()"
      ],
      "execution_count": 11,
      "outputs": [
        {
          "output_type": "stream",
          "name": "stdout",
          "text": [
            "Hello!\n",
            "Hello,  Natasha!\n",
            "Hello,  Stranger!\n"
          ]
        }
      ]
    },
    {
      "cell_type": "code",
      "metadata": {
        "id": "4T30OYN5NOJ8",
        "colab": {
          "base_uri": "https://localhost:8080/"
        },
        "outputId": "071d423b-3943-4398-ffe5-2dcb06a663ed"
      },
      "source": [
        "# пример встроенной функции, которая возвращает значение\n",
        "min_val = min([11, 2, 4, 66])\n",
        "print(min_val)"
      ],
      "execution_count": 12,
      "outputs": [
        {
          "output_type": "stream",
          "name": "stdout",
          "text": [
            "2\n"
          ]
        }
      ]
    },
    {
      "cell_type": "code",
      "metadata": {
        "id": "-dlhMnRHNu7L",
        "colab": {
          "base_uri": "https://localhost:8080/"
        },
        "outputId": "42af1fff-757d-4bdb-94bc-30bc9b7f3ce3"
      },
      "source": [
        "# собственная функция, которая возвращает значение\n",
        "def sum_of_two(a, b):\n",
        "    res = a + b\n",
        "    return res\n",
        "\n",
        "# сохраняем возвращенное значение в переменную\n",
        "res_num = sum_of_two(3, 2)\n",
        "print(res_num)"
      ],
      "execution_count": 13,
      "outputs": [
        {
          "output_type": "stream",
          "name": "stdout",
          "text": [
            "5\n"
          ]
        }
      ]
    },
    {
      "cell_type": "code",
      "metadata": {
        "id": "QnnDXfW3nj6_",
        "colab": {
          "base_uri": "https://localhost:8080/"
        },
        "outputId": "fa1264a8-a6a3-4ac9-bed2-bc7900c0d19e"
      },
      "source": [
        "# пример использования собственной функции \n",
        "\n",
        "sentence = \"Не то чтоб он был так труслив и забит, совсем даже напротив; \"\\\n",
        "            \"но с некоторого времени он был в раздражительном и напряженном \"\\\n",
        "            \"состоянии, похожем на ипохондрию.\"\n",
        "\n",
        "words = sentence.split()\n",
        "print(words)\n",
        "\n",
        "def remove_punkt(word):\n",
        "    word = [char for char in word if char.isalnum()]\n",
        "    word = \"\".join(word)\n",
        "    return word\n",
        "\n",
        "print(remove_punkt(\"/сл-ово.\"))"
      ],
      "execution_count": 14,
      "outputs": [
        {
          "output_type": "stream",
          "name": "stdout",
          "text": [
            "['Не', 'то', 'чтоб', 'он', 'был', 'так', 'труслив', 'и', 'забит,', 'совсем', 'даже', 'напротив;', 'но', 'с', 'некоторого', 'времени', 'он', 'был', 'в', 'раздражительном', 'и', 'напряженном', 'состоянии,', 'похожем', 'на', 'ипохондрию.']\n",
            "слово\n"
          ]
        }
      ]
    },
    {
      "cell_type": "code",
      "metadata": {
        "id": "k_a1JVuRoHtq",
        "colab": {
          "base_uri": "https://localhost:8080/"
        },
        "outputId": "edde8c0f-6ded-4041-bcc6-a223bb6e3d3c"
      },
      "source": [
        "# вызываем функцию, которую определили выше\n",
        "words = [remove_punkt(w) for w in words]\n",
        "print(words)"
      ],
      "execution_count": 15,
      "outputs": [
        {
          "output_type": "stream",
          "name": "stdout",
          "text": [
            "['Не', 'то', 'чтоб', 'он', 'был', 'так', 'труслив', 'и', 'забит', 'совсем', 'даже', 'напротив', 'но', 'с', 'некоторого', 'времени', 'он', 'был', 'в', 'раздражительном', 'и', 'напряженном', 'состоянии', 'похожем', 'на', 'ипохондрию']\n"
          ]
        }
      ]
    },
    {
      "cell_type": "markdown",
      "metadata": {
        "id": "S3-A9-1OKzr5"
      },
      "source": [
        "Область видимости"
      ]
    },
    {
      "cell_type": "code",
      "metadata": {
        "id": "cMUe8yJMpmWx",
        "colab": {
          "base_uri": "https://localhost:8080/"
        },
        "outputId": "82cd9c82-2ff7-4b45-db71-95246633d2d9"
      },
      "source": [
        "# глобальная область видимости, переменная определена вне функции, \n",
        "# видна программы из любой точки после определения\n",
        "numb = 4 \n",
        "\n",
        "def cm_to_inches(num):\n",
        "    num *= 0.393701 # локальная область видимости\n",
        "    return round(num, 2)\n",
        "\n",
        "# print(num)  # не можем обращаться к локальной переменной извне функции\n",
        "cm_to_inches(3)"
      ],
      "execution_count": 16,
      "outputs": [
        {
          "output_type": "execute_result",
          "data": {
            "text/plain": [
              "1.18"
            ]
          },
          "metadata": {},
          "execution_count": 16
        }
      ]
    },
    {
      "cell_type": "code",
      "metadata": {
        "id": "AQZQBg4HTnnV",
        "colab": {
          "base_uri": "https://localhost:8080/"
        },
        "outputId": "e6e9f9bc-5191-4cd0-9da3-a95d5619faea"
      },
      "source": [
        "PI = 3.14 # глобальная переменная\n",
        "\n",
        "\n",
        "def access_local():\n",
        "    print(PI) # обратились к глобальной переменной изнутри функции\n",
        "\n",
        "\n",
        "access_local()"
      ],
      "execution_count": 17,
      "outputs": [
        {
          "output_type": "stream",
          "name": "stdout",
          "text": [
            "3.14\n"
          ]
        }
      ]
    },
    {
      "cell_type": "code",
      "metadata": {
        "colab": {
          "base_uri": "https://localhost:8080/"
        },
        "id": "ROkV_zjOMYFL",
        "outputId": "f7038e80-6bb0-463e-b880-0874fef0508b"
      },
      "source": [
        "PI = 3.14 # глобальная переменная\n",
        "\n",
        "\n",
        "def try_modify_global():\n",
        "    # без следующей строки возникнет ошибка. а с этой сторокой питон начинает считать PI \n",
        "    # локальной (новой) переменной, потому что мы пытаемся ее изменить\n",
        "    PI = 0 \n",
        "    PI += 1 \n",
        "    return PI\n",
        "\n",
        "\n",
        "new_pi = try_modify_global()\n",
        "\n",
        "# вывожу округляя до второго знака\n",
        "print(f\"{new_pi:.2f}\")\n",
        "print(f\"{PI:.2f}\")"
      ],
      "execution_count": 18,
      "outputs": [
        {
          "output_type": "stream",
          "name": "stdout",
          "text": [
            "1.00\n",
            "3.14\n"
          ]
        }
      ]
    },
    {
      "cell_type": "code",
      "metadata": {
        "id": "4LV7b7CPV-tA",
        "colab": {
          "base_uri": "https://localhost:8080/"
        },
        "outputId": "cdd2f05f-cf99-4377-fb13-8413b3085a75"
      },
      "source": [
        "PI = 3.14 # глобальная переменная\n",
        "\n",
        "# если нужно менять глобальну переменную\n",
        "def modify_global():\n",
        "    global PI\n",
        "    PI += 1 \n",
        "    return PI\n",
        "\n",
        "\n",
        "new_pi = modify_global()\n",
        "\n",
        "# вывожу округляя до второго знака\n",
        "print(f\"{new_pi:.2f}\")\n",
        "print(f\"{PI:.2f}\")"
      ],
      "execution_count": 20,
      "outputs": [
        {
          "output_type": "stream",
          "name": "stdout",
          "text": [
            "4.14\n",
            "4.14\n"
          ]
        }
      ]
    },
    {
      "cell_type": "markdown",
      "metadata": {
        "id": "AXCW6gdvOz-s"
      },
      "source": [
        "Отсутупление про float"
      ]
    },
    {
      "cell_type": "code",
      "metadata": {
        "id": "fgArMzZ3XsUJ",
        "colab": {
          "base_uri": "https://localhost:8080/"
        },
        "outputId": "158fbd19-7ec9-4f8e-a46a-54a98f4995f4"
      },
      "source": [
        "PI = 3.14 # глобальная переменная\n",
        "# нельзя сравнивать на равенство значения с плавающей запятой, \n",
        "# потому что для оптимизации памяти они хранятся не совсем в таком виде, как выглядят\n",
        "\n",
        "print(4.14 == PI + 1) # False\n",
        "print(4.2 / 3 == 1.4) # False\n",
        "\n",
        "# если сравнить нужно, можно задать точность и проверять модуль разности с учетом допустимой погрешности\n",
        "print(abs(PI - 3.14) < 0.0001) # True"
      ],
      "execution_count": 21,
      "outputs": [
        {
          "output_type": "stream",
          "name": "stdout",
          "text": [
            "False\n",
            "False\n",
            "True\n"
          ]
        }
      ]
    },
    {
      "cell_type": "code",
      "metadata": {
        "colab": {
          "base_uri": "https://localhost:8080/"
        },
        "id": "1D4keHL3QZI_",
        "outputId": "11a9cfac-f8d4-4d7b-b223-c75c2adf333c"
      },
      "source": [
        "# если нужна идеальная точность, есть специальные библиотеки. но для обычных задач это не нужно\n",
        "from decimal import Decimal # для работы с абсолютной точностью после запятой\n",
        "PI = 3.14\n",
        "print(PI)\n",
        "PI = Decimal(PI)\n",
        "print(PI)"
      ],
      "execution_count": 22,
      "outputs": [
        {
          "output_type": "stream",
          "name": "stdout",
          "text": [
            "3.14\n",
            "3.140000000000000124344978758017532527446746826171875\n"
          ]
        }
      ]
    },
    {
      "cell_type": "markdown",
      "metadata": {
        "id": "sJV2QOtRVTzf"
      },
      "source": [
        "Дальше про функции"
      ]
    },
    {
      "cell_type": "code",
      "metadata": {
        "id": "fiS2XUCVZPK2",
        "colab": {
          "base_uri": "https://localhost:8080/"
        },
        "outputId": "5e0002ec-37cd-46be-d77f-519f2d6de34b"
      },
      "source": [
        "# позиционные и ключевые аргменты\n",
        "\n",
        "def sum_of_two(a=2, b=3):\n",
        "    res = a + b\n",
        "    return res\n",
        "\n",
        "sum_of_two(5) # подставляется слева направо (позиционные)\n",
        "\n",
        "# ключевые аргументы\n",
        "print(\"Hello\", \"world!\", sep='_', end='\\n')\n",
        "print(\"Hello\", \"world!\", end='\\n', sep='_', )\n",
        "\n",
        "def division(a=10, b=2):\n",
        "    print(round(a / b, 2))\n",
        "\n",
        "division()\n",
        "division(7, 3) # same\n",
        "division(3, 7)\n",
        "division(b=3, a=7) # same"
      ],
      "execution_count": 61,
      "outputs": [
        {
          "output_type": "stream",
          "name": "stdout",
          "text": [
            "Hello_world!\n",
            "Hello_world!\n",
            "5.0\n",
            "2.33\n",
            "0.43\n",
            "2.33\n"
          ]
        }
      ]
    },
    {
      "cell_type": "code",
      "metadata": {
        "id": "OSDMYoDLZPAn",
        "colab": {
          "base_uri": "https://localhost:8080/"
        },
        "outputId": "23a240d1-37c9-4a9c-82f8-dfa70b500f91"
      },
      "source": [
        "# функции с произвольным количеством аргументов\n",
        "max(1,2,3,7)\n",
        "\n",
        "def add(*args):\n",
        "    \"\"\"Возвращает cумму аргументов\"\"\"\n",
        "    total = 0\n",
        "    for arg in args:\n",
        "        total += arg\n",
        "    return total\n",
        "\n",
        "add(15, 15)"
      ],
      "execution_count": 23,
      "outputs": [
        {
          "output_type": "execute_result",
          "data": {
            "text/plain": [
              "30"
            ]
          },
          "metadata": {},
          "execution_count": 23
        }
      ]
    },
    {
      "cell_type": "code",
      "metadata": {
        "id": "unK6cJTqfljR",
        "colab": {
          "base_uri": "https://localhost:8080/"
        },
        "outputId": "7fdcd3bc-862e-4b0e-864a-61a90252c73d"
      },
      "source": [
        "# ЗАДАЧА на использование контрольного значения\n",
        "# пользователь поочередно вводит числа, не введет 0. Найдите наибольшее из этих чисел\n",
        "\n",
        "num = input(\"Введите числа, 0 чтобы закончить:\\n\")\n",
        "numbers = []\n",
        "while num != 0:\n",
        "    num = int(input())\n",
        "    numbers.append(num)\n",
        "\n",
        "print(f\"Максимум = {max(numbers)}\")"
      ],
      "execution_count": 24,
      "outputs": [
        {
          "output_type": "stream",
          "name": "stdout",
          "text": [
            "Введите числа, 0 чтобы закончить:\n",
            "23\n",
            "12\n",
            "9\n",
            "66\n",
            "0\n",
            "Максимум = 66\n"
          ]
        }
      ]
    },
    {
      "cell_type": "code",
      "metadata": {
        "id": "Os4DjFgRkGN7",
        "colab": {
          "base_uri": "https://localhost:8080/"
        },
        "outputId": "908bd8c0-0647-44b3-9fda-d3b50bdb8725"
      },
      "source": [
        "new_numbers = []\n",
        "while True:\n",
        "    num = int(input())\n",
        "    new_numbers.append(num)\n",
        "    if num == 0:\n",
        "        break\n",
        "\n",
        "print(f\"Максимум = {max(new_numbers)}\")"
      ],
      "execution_count": 25,
      "outputs": [
        {
          "output_type": "stream",
          "name": "stdout",
          "text": [
            "2\n",
            "3\n",
            "4\n",
            "1\n",
            "0\n",
            "Максимум = 4\n"
          ]
        }
      ]
    },
    {
      "cell_type": "markdown",
      "metadata": {
        "id": "qFxcwGnTTSc0"
      },
      "source": [
        "Работа с файлами. Открываем для чтения и записи. Подробнее в следующий раз :)"
      ]
    },
    {
      "cell_type": "code",
      "metadata": {
        "id": "z9PwBp2e3VTZ",
        "colab": {
          "base_uri": "https://localhost:8080/"
        },
        "outputId": "0ffc0b89-3a6a-4729-fc12-7e22a1936f8e"
      },
      "source": [
        "# открываем существующий файл для чтения\n",
        "with open(\"/content/The_End_of_the_Raven.txt\", mode='r', encoding=\"UTF-8\") as file: \n",
        "    text = file.read()\n",
        "    print(type(text))\n",
        "\n",
        "print(text[:171])\n",
        "words = text.split()\n",
        "print(words[:50])"
      ],
      "execution_count": 26,
      "outputs": [
        {
          "output_type": "stream",
          "name": "stdout",
          "text": [
            "<class 'str'>\n",
            "The End of the Raven\n",
            "by Edgar Allan Poe's Cat\n",
            "\n",
            "\n",
            "On a night quite unenchanting,\n",
            "when the rain was downward slanting,\n",
            "I awakened to the ranting\n",
            "of the man I catch mice for.\n",
            "\n",
            "['The', 'End', 'of', 'the', 'Raven', 'by', 'Edgar', 'Allan', \"Poe's\", 'Cat', 'On', 'a', 'night', 'quite', 'unenchanting,', 'when', 'the', 'rain', 'was', 'downward', 'slanting,', 'I', 'awakened', 'to', 'the', 'ranting', 'of', 'the', 'man', 'I', 'catch', 'mice', 'for.', 'Tipsy', 'and', 'a', 'bit', 'unshaven,', 'in', 'a', 'tone', 'I', 'found', 'quite', 'craven,', 'Poe', 'was', 'talking', 'to', 'a']\n"
          ]
        }
      ]
    },
    {
      "cell_type": "code",
      "metadata": {
        "id": "9q3_XlX3mks0"
      },
      "source": [
        "# открываем файл для (пере)записи. Если файла нет, он создается\n",
        "with open(\"text_new.txt\", mode='w', encoding=\"UTF-8\") as file:\n",
        "    file.write(\"Hello, I'm a text!\")"
      ],
      "execution_count": 27,
      "outputs": []
    },
    {
      "cell_type": "code",
      "metadata": {
        "id": "RxxsNiuAnAEU"
      },
      "source": [
        "# открываем файл для дозаписи\n",
        "with open(\"text_new.txt\", mode='a', encoding=\"UTF-8\") as file:\n",
        "    file.write(\"\\nHello again!\")"
      ],
      "execution_count": 28,
      "outputs": []
    },
    {
      "cell_type": "markdown",
      "metadata": {
        "id": "O7n0gYupQoc8"
      },
      "source": [
        "Переменные, ссылки, память, id"
      ]
    },
    {
      "cell_type": "code",
      "metadata": {
        "id": "DvisqwZ1Y6Ag",
        "colab": {
          "base_uri": "https://localhost:8080/"
        },
        "outputId": "03d6b9af-540c-48cb-f6de-952b4e4a52a0"
      },
      "source": [
        "# переменные хранят ссылки на объекты. в функцию передается та же ссылка\n",
        "# функция может изменить объект по переданной ссылке, если он изменяемый (здесь - нет)\n",
        "# можно поэкспериментировать, чтобы вникнуть\n",
        "\n",
        "number_cm = 7\n",
        "print(\"переменная до вызовы функции\", id(number_cm)) \n",
        "\n",
        "def cm_to_inches(num):\n",
        "    print(\"переменная попала в функцию как аргумент\", id(num))\n",
        "    num *= 0.393701\n",
        "    print(\"изменили значение переменной в функции\", id(num))\n",
        "    return num\n",
        "\n",
        "num_inches = cm_to_inches(number_cm)\n",
        "print(\"новая переменная в которую записали значение, возвращенной функцией\", id(num_inches))\n",
        "print(\"исходная переменная\", id(number_cm))"
      ],
      "execution_count": 30,
      "outputs": [
        {
          "output_type": "stream",
          "name": "stdout",
          "text": [
            "переменная до вызовы функции 94886837426880\n",
            "переменная попала в функцию как аргумент 94886837426880\n",
            "изменили значение переменной в функции 140431992987568\n",
            "новая переменная в которую записали значение, возвращенной функцией 140431992987568\n",
            "исходная переменная 94886837426880\n"
          ]
        }
      ]
    }
  ]
}