{
  "nbformat": 4,
  "nbformat_minor": 0,
  "metadata": {
    "colab": {
      "name": "lesson_5_notes.ipynb",
      "private_outputs": true,
      "provenance": [],
      "authorship_tag": "ABX9TyOpdPqNzZJKKYGAdjvRZsVW",
      "include_colab_link": true
    },
    "kernelspec": {
      "name": "python3",
      "display_name": "Python 3"
    },
    "language_info": {
      "name": "python"
    }
  },
  "cells": [
    {
      "cell_type": "markdown",
      "metadata": {
        "id": "view-in-github",
        "colab_type": "text"
      },
      "source": [
        "<a href=\"https://colab.research.google.com/github/mozgsvina/hse_python_intro/blob/main/notes_for_lesson_5.ipynb\" target=\"_parent\"><img src=\"https://colab.research.google.com/assets/colab-badge.svg\" alt=\"Open In Colab\"/></a>"
      ]
    },
    {
      "cell_type": "markdown",
      "metadata": {
        "id": "zp9Zj5aqGOAn"
      },
      "source": [
        "Небольшое отступление про кортежи:"
      ]
    },
    {
      "cell_type": "code",
      "metadata": {
        "id": "Kc-dWoiKnW9w"
      },
      "source": [
        "# это интерпретируется питоном как кортеж:\n",
        "1, 3, 4"
      ],
      "execution_count": null,
      "outputs": []
    },
    {
      "cell_type": "code",
      "metadata": {
        "id": "ddkvfz6kBg0j"
      },
      "source": [
        "# потенциальная ошибка\n",
        "num = 1,35 # это кортеж!\n",
        "num *= 3\n",
        "print(num) # prints (1, 35, 1, 35, 1, 35)"
      ],
      "execution_count": null,
      "outputs": []
    },
    {
      "cell_type": "code",
      "metadata": {
        "id": "41nJCf--GcP_"
      },
      "source": [
        "# для наглядности можно добавлять скобочки\n",
        "num_tuple = (1, 2) # same as num_tuple = 1, 2"
      ],
      "execution_count": null,
      "outputs": []
    },
    {
      "cell_type": "code",
      "metadata": {
        "id": "kAIiNSH7B74C"
      },
      "source": [
        "# превращение списка в кортеж\n",
        "nums = [1, 2, 3]\n",
        "nums_tuple = tuple(nums)\n",
        "\n",
        "nums_tuple"
      ],
      "execution_count": null,
      "outputs": []
    },
    {
      "cell_type": "markdown",
      "metadata": {
        "id": "c2Ne7sZVnatP"
      },
      "source": [
        "Разбор д / з"
      ]
    },
    {
      "cell_type": "code",
      "metadata": {
        "id": "HHh79PlICPbS"
      },
      "source": [
        "# (1)\n",
        "words = [\"раз\", \"два\", \"три\", \"десять\"]\n",
        "letters_dict = {}\n",
        "for w in words:\n",
        "    if w[0] in letters_dict:\n",
        "        letters_dict[w[0]].append(w)\n",
        "    else:\n",
        "        letters_dict[w[0]] = [w]\n",
        "\n",
        "print(letters_dict)"
      ],
      "execution_count": null,
      "outputs": []
    },
    {
      "cell_type": "code",
      "metadata": {
        "id": "RsE1gKJlB4M7"
      },
      "source": [
        "# (2a)\n",
        "adv_dict = {\n",
        "    \"громко\":\n",
        "        {\n",
        "            \"len\": 0,\n",
        "            \"syn\": \"шумно\",\n",
        "            \"ant\": \"тихо\"\n",
        "        },\n",
        "    \"весело\":\n",
        "        {\n",
        "            \"len\": 0,\n",
        "            \"syn\": \"радостно\",\n",
        "            \"ant\": \"грустно\"\n",
        "        },\n",
        "    \"мокро\":\n",
        "        {\n",
        "            \"len\": 0,\n",
        "            \"syn\": \"влажно\",\n",
        "            \"ant\": \"сухо\"\n",
        "        },\n",
        "}\n",
        "\n",
        "for key, val in adv_dict.items():\n",
        "    print(f\"Ключ имеет тип {type(key)}, значение имеет тип {type(val)}.\")\n",
        "    for inner_key, inner_val in val.items():\n",
        "        print(f\"Внутренний ключ: {type(inner_key)}, внутреннее значение: {type(inner_val)}.\")"
      ],
      "execution_count": null,
      "outputs": []
    },
    {
      "cell_type": "code",
      "metadata": {
        "id": "YVLLOkvTFBG_"
      },
      "source": [
        "# (2b)\n",
        "for entry in adv_dict:\n",
        "    adv_dict[entry][\"len\"] = len(entry)\n",
        "\n",
        "adv_dict"
      ],
      "execution_count": null,
      "outputs": []
    },
    {
      "cell_type": "code",
      "metadata": {
        "id": "BPXgftmtEMdO"
      },
      "source": [
        "# (3,4)\n",
        "try:\n",
        "    time = input(\"Введите время: \").split(':')\n",
        "    if len(time) != 3:\n",
        "        print(\"что-то точно не так с форматом!\")\n",
        "    else:\n",
        "        time_tuple = tuple(time)      \n",
        "        hours, minutes, seconds = time_tuple\n",
        "        print(f\"Сейчас {int(hours)} часов или больше.\")\n",
        "except ValueError:\n",
        "    print(\"Наверное, вы все-таки ввели данные не в том формате.\")\n",
        "except:\n",
        "    print(\"Что-то сломалось!\")"
      ],
      "execution_count": null,
      "outputs": []
    },
    {
      "cell_type": "code",
      "metadata": {
        "id": "Z5vFt92FKRAq"
      },
      "source": [
        "# ZeroDivisionError\n",
        "try:\n",
        "    numbers = input(\"Введите два числа: \").split()\n",
        "    a, b  = numbers\n",
        "    print(int(a) / int(b))\n",
        "except ZeroDivisionError:\n",
        "    print(\"нельзя делить на ноль!\")\n",
        "except ValueError:\n",
        "    print(\"введите числа через пробел!\")\n",
        "except:\n",
        "    print(\"Что-то сломалось!\")"
      ],
      "execution_count": null,
      "outputs": []
    },
    {
      "cell_type": "code",
      "metadata": {
        "id": "pX_mP206LmIM"
      },
      "source": [
        "# (5)\n",
        "letters = \"asda  123jfds 90f3\"\n",
        "def sum_nums(line):\n",
        "    total = 0\n",
        "    for char in line:\n",
        "        if char.isdigit():\n",
        "            total += int(char)\n",
        "    return total\n",
        "\n",
        "sum_nums(letters)"
      ],
      "execution_count": null,
      "outputs": []
    },
    {
      "cell_type": "markdown",
      "metadata": {
        "id": "GmK_1YrNKiGa"
      },
      "source": [
        "Еще про определение собственных функций"
      ]
    },
    {
      "cell_type": "code",
      "metadata": {
        "id": "QFNit0bpL5GM"
      },
      "source": [
        "def print_hello():\n",
        "    print(\"Hello!\")\n",
        "\n",
        "print_hello()\n",
        "\n",
        "# так можно задать значение по умолчанию\n",
        "def say_hello(name=\"Stranger\"):\n",
        "    print(\"Hello, \", name + \"!\")\n",
        "\n",
        "# вызов функции с передачей аргумента\n",
        "say_hello(\"Natasha\")\n",
        "my_name = \"Anya\"\n",
        "\n",
        "# вызов функции без передачи аргумента, используется значения параметра по умолчанию\n",
        "say_hello()"
      ],
      "execution_count": null,
      "outputs": []
    },
    {
      "cell_type": "code",
      "metadata": {
        "id": "4T30OYN5NOJ8"
      },
      "source": [
        "# пример встроенной функции, которая возвращает значение\n",
        "min_val = min([11, 2, 4, 66])\n",
        "print(min_val)"
      ],
      "execution_count": null,
      "outputs": []
    },
    {
      "cell_type": "code",
      "metadata": {
        "id": "-dlhMnRHNu7L"
      },
      "source": [
        "# собственная функция, которая возвращает значение\n",
        "def sum_of_two(a, b):\n",
        "    res = a + b\n",
        "    return res\n",
        "\n",
        "# сохраняем возвращенное значение в переменную\n",
        "res_num = sum_of_two(3, 2)\n",
        "print(res_num)"
      ],
      "execution_count": null,
      "outputs": []
    },
    {
      "cell_type": "code",
      "metadata": {
        "id": "QnnDXfW3nj6_"
      },
      "source": [
        "# пример использования собственной функции \n",
        "\n",
        "sentence = \"Не то чтоб он был так труслив и забит, совсем даже напротив; \"\\\n",
        "            \"но с некоторого времени он был в раздражительном и напряженном \"\\\n",
        "            \"состоянии, похожем на ипохондрию.\"\n",
        "\n",
        "words = sentence.split()\n",
        "print(words)\n",
        "\n",
        "def remove_punkt(word):\n",
        "    word = [char for char in word if char.isalnum()]\n",
        "    word = \"\".join(word)\n",
        "    return word\n",
        "\n",
        "print(remove_punkt(\"/сл-ово.\"))"
      ],
      "execution_count": null,
      "outputs": []
    },
    {
      "cell_type": "code",
      "metadata": {
        "id": "k_a1JVuRoHtq"
      },
      "source": [
        "# вызываем функцию, которую определили выше\n",
        "words = [remove_punkt(w) for w in words]\n",
        "print(words)"
      ],
      "execution_count": null,
      "outputs": []
    },
    {
      "cell_type": "markdown",
      "metadata": {
        "id": "S3-A9-1OKzr5"
      },
      "source": [
        "Область видимости"
      ]
    },
    {
      "cell_type": "code",
      "metadata": {
        "id": "cMUe8yJMpmWx"
      },
      "source": [
        "# глобальная область видимости, переменная определена вне функции, \n",
        "# видна программы из любой точки после определения\n",
        "numb = 4 \n",
        "\n",
        "def cm_to_inches(num):\n",
        "    num *= 0.393701 # локальная область видимости\n",
        "    return round(num, 2)\n",
        "\n",
        "# print(num)  # не можем обращаться к локальной переменной извне функции\n",
        "cm_to_inches(3)"
      ],
      "execution_count": null,
      "outputs": []
    },
    {
      "cell_type": "code",
      "metadata": {
        "id": "AQZQBg4HTnnV"
      },
      "source": [
        "PI = 3.14 # глобальная переменная\n",
        "\n",
        "\n",
        "def access_local():\n",
        "    print(PI) # обратились к глобальной переменной изнутри функции\n",
        "\n",
        "\n",
        "access_local()"
      ],
      "execution_count": null,
      "outputs": []
    },
    {
      "cell_type": "code",
      "metadata": {
        "id": "ROkV_zjOMYFL"
      },
      "source": [
        "PI = 3.14 # глобальная переменная\n",
        "\n",
        "\n",
        "def try_modify_global():\n",
        "    # без следующей строки возникнет ошибка. а с этой сторокой питон начинает считать PI \n",
        "    # локальной (новой) переменной, потому что мы пытаемся ее изменить\n",
        "    PI = 0 \n",
        "    PI += 1 \n",
        "    return PI\n",
        "\n",
        "\n",
        "new_pi = try_modify_global()\n",
        "\n",
        "# вывожу округляя до второго знака\n",
        "print(f\"{new_pi:.2f}\")\n",
        "print(f\"{PI:.2f}\")"
      ],
      "execution_count": null,
      "outputs": []
    },
    {
      "cell_type": "code",
      "metadata": {
        "id": "4LV7b7CPV-tA"
      },
      "source": [
        "PI = 3.14 # глобальная переменная\n",
        "\n",
        "# если нужно менять глобальну переменную\n",
        "def modify_global():\n",
        "    global PI\n",
        "    PI += 1 \n",
        "    return PI\n",
        "\n",
        "\n",
        "new_pi = modify_global()\n",
        "\n",
        "# вывожу округляя до второго знака\n",
        "print(f\"{new_pi:.2f}\")\n",
        "print(f\"{PI:.2f}\")"
      ],
      "execution_count": null,
      "outputs": []
    },
    {
      "cell_type": "markdown",
      "metadata": {
        "id": "AXCW6gdvOz-s"
      },
      "source": [
        "Отсутупление про float"
      ]
    },
    {
      "cell_type": "code",
      "metadata": {
        "id": "fgArMzZ3XsUJ"
      },
      "source": [
        "PI = 3.14 # глобальная переменная\n",
        "# нельзя сравнивать на равенство значения с плавающей запятой, \n",
        "# потому что для оптимизации памяти они хранятся не совсем в таком виде, как выглядят\n",
        "\n",
        "print(4.14 == PI + 1) # False\n",
        "print(4.2 / 3 == 1.4) # False\n",
        "\n",
        "# если сравнить нужно, можно задать точность и проверять модуль разности с учетом допустимой погрешности\n",
        "print(abs(PI - 3.14) < 0.0001) # True"
      ],
      "execution_count": null,
      "outputs": []
    },
    {
      "cell_type": "code",
      "metadata": {
        "id": "1D4keHL3QZI_"
      },
      "source": [
        "# если нужна идеальная точность, есть специальные библиотеки. но для обычных задач это не нужно\n",
        "from decimal import Decimal # для работы с абсолютной точностью после запятой\n",
        "PI = 3.14\n",
        "print(PI)\n",
        "PI = Decimal(PI)\n",
        "print(PI)"
      ],
      "execution_count": null,
      "outputs": []
    },
    {
      "cell_type": "markdown",
      "metadata": {
        "id": "sJV2QOtRVTzf"
      },
      "source": [
        "Дальше про функции"
      ]
    },
    {
      "cell_type": "code",
      "metadata": {
        "id": "fiS2XUCVZPK2"
      },
      "source": [
        "# позиционные и ключевые аргменты\n",
        "\n",
        "def sum_of_two(a=2, b=3):\n",
        "    res = a + b\n",
        "    return res\n",
        "\n",
        "sum_of_two(5) # подставляется слева направо (позиционные)\n",
        "\n",
        "# ключевые аргументы\n",
        "print(\"Hello\", \"world!\", sep='_', end='\\n')\n",
        "print(\"Hello\", \"world!\", end='\\n', sep='_', )\n",
        "\n",
        "def division(a=10, b=2):\n",
        "    print(round(a / b, 2))\n",
        "\n",
        "division()\n",
        "division(7, 3) # same\n",
        "division(3, 7)\n",
        "division(b=3, a=7) # same"
      ],
      "execution_count": null,
      "outputs": []
    },
    {
      "cell_type": "code",
      "metadata": {
        "id": "OSDMYoDLZPAn"
      },
      "source": [
        "# функции с произвольным количеством аргументов\n",
        "max(1,2,3,7)\n",
        "\n",
        "def add(*args):\n",
        "    \"\"\"Возвращает cумму аргументов\"\"\"\n",
        "    total = 0\n",
        "    for arg in args:\n",
        "        total += arg\n",
        "    return total\n",
        "\n",
        "add(15, 15)"
      ],
      "execution_count": null,
      "outputs": []
    },
    {
      "cell_type": "code",
      "metadata": {
        "id": "unK6cJTqfljR"
      },
      "source": [
        "# ЗАДАЧА на использование контрольного значения\n",
        "# пользователь поочередно вводит числа, не введет 0. Найдите наибольшее из этих чисел\n",
        "\n",
        "num = input(\"Введите числа, 0 чтобы закончить:\\n\")\n",
        "numbers = []\n",
        "while num != 0:\n",
        "    num = int(input())\n",
        "    numbers.append(num)\n",
        "\n",
        "print(f\"Максимум = {max(numbers)}\")"
      ],
      "execution_count": null,
      "outputs": []
    },
    {
      "cell_type": "code",
      "metadata": {
        "id": "Os4DjFgRkGN7"
      },
      "source": [
        "new_numbers = []\n",
        "while True:\n",
        "    num = int(input())\n",
        "    new_numbers.append(num)\n",
        "    if num == 0:\n",
        "        break\n",
        "\n",
        "print(f\"Максимум = {max(new_numbers)}\")"
      ],
      "execution_count": null,
      "outputs": []
    },
    {
      "cell_type": "markdown",
      "metadata": {
        "id": "qFxcwGnTTSc0"
      },
      "source": [
        "Работа с файлами. Открываем для чтения и записи. Подробнее в следующий раз :)"
      ]
    },
    {
      "cell_type": "code",
      "metadata": {
        "id": "z9PwBp2e3VTZ"
      },
      "source": [
        "# открываем существующий файл для чтения\n",
        "with open(\"/content/The_End_of_the_Raven.txt\", mode='r', encoding=\"UTF-8\") as file: \n",
        "    text = file.read()\n",
        "    print(type(text))\n",
        "\n",
        "print(text[:171])\n",
        "words = text.split()\n",
        "print(words[:50])"
      ],
      "execution_count": null,
      "outputs": []
    },
    {
      "cell_type": "code",
      "metadata": {
        "id": "9q3_XlX3mks0"
      },
      "source": [
        "# открываем файл для (пере)записи. Если файла нет, он создается\n",
        "with open(\"text_new.txt\", mode='w', encoding=\"UTF-8\") as file:\n",
        "    file.write(\"Hello, I'm a text!\")"
      ],
      "execution_count": null,
      "outputs": []
    },
    {
      "cell_type": "code",
      "metadata": {
        "id": "RxxsNiuAnAEU"
      },
      "source": [
        "# открываем файл для дозаписи\n",
        "with open(\"text_new.txt\", mode='a', encoding=\"UTF-8\") as file:\n",
        "    file.write(\"\\nHello again!\")"
      ],
      "execution_count": null,
      "outputs": []
    },
    {
      "cell_type": "markdown",
      "metadata": {
        "id": "O7n0gYupQoc8"
      },
      "source": [
        "Переменные, ссылки, память, id"
      ]
    },
    {
      "cell_type": "code",
      "metadata": {
        "id": "DvisqwZ1Y6Ag"
      },
      "source": [
        "# переменные хранят ссылки на объекты. в функцию передается та же ссылка\n",
        "# функция может изменить объект по переданной ссылке, если он изменяемый (здесь - нет)\n",
        "# можно поэкспериментировать, чтобы вникнуть\n",
        "\n",
        "number_cm = 7\n",
        "print(\"переменная до вызовы функции\", id(number_cm)) \n",
        "\n",
        "def cm_to_inches(num):\n",
        "    print(\"переменная попала в функцию как аргумент\", id(num))\n",
        "    num *= 0.393701\n",
        "    print(\"изменили значение переменной в функции\", id(num))\n",
        "    return num\n",
        "\n",
        "num_inches = cm_to_inches(number_cm)\n",
        "print(\"новая переменная в которую записали значение, возвращенной функцией\", id(num_inches))\n",
        "print(\"исходная переменная\", id(number_cm))"
      ],
      "execution_count": null,
      "outputs": []
    }
  ]
}