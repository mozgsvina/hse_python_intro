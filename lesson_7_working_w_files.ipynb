{
  "nbformat": 4,
  "nbformat_minor": 0,
  "metadata": {
    "colab": {
      "name": "lesson_7_working_w_files.ipynb",
      "provenance": [],
      "authorship_tag": "ABX9TyOwmGXIqERu0Pn7q+cagle2",
      "include_colab_link": true
    },
    "kernelspec": {
      "name": "python3",
      "display_name": "Python 3"
    },
    "language_info": {
      "name": "python"
    }
  },
  "cells": [
    {
      "cell_type": "markdown",
      "metadata": {
        "id": "view-in-github",
        "colab_type": "text"
      },
      "source": [
        "<a href=\"https://colab.research.google.com/github/mozgsvina/hse_python_intro/blob/main/lesson_7_working_w_files.ipynb\" target=\"_parent\"><img src=\"https://colab.research.google.com/assets/colab-badge.svg\" alt=\"Open In Colab\"/></a>"
      ]
    },
    {
      "cell_type": "markdown",
      "metadata": {
        "id": "QWRI1NDFrrGn"
      },
      "source": [
        "Чтение и запись текстовых файлов:"
      ]
    },
    {
      "cell_type": "code",
      "metadata": {
        "colab": {
          "base_uri": "https://localhost:8080/"
        },
        "id": "GyGwQTFGmeei",
        "outputId": "af9e1a51-4c34-4595-d8d0-256bf9459283"
      },
      "source": [
        "# absolute / relative path\n",
        "rel_path = \"new_file.txt\"\n",
        "abs_path = \"/Users/anya/PycharmProjects/lesson_7_pandas/new_file.txt\"\n",
        "\n",
        "# открыть файл для записи: путь (обязательно), значение режима по умолчанию — чтение, кодировка — опционально, но лучше указывать при работе с русским особенно\n",
        "with open(\"new_file.txt\", mode=\"w\") as file:\n",
        "    file.write(\"Hello!\\nI'm a file with two lines!\")\n",
        "\n",
        "# открыть файл для чтения\n",
        "with open(\"new_file.txt\", mode=\"r\") as file:\n",
        "    text = file.read()\n",
        "    print(text)\n"
      ],
      "execution_count": 1,
      "outputs": [
        {
          "output_type": "stream",
          "name": "stdout",
          "text": [
            "Hello!\n",
            "I'm a file with two lines!\n"
          ]
        }
      ]
    },
    {
      "cell_type": "code",
      "metadata": {
        "colab": {
          "base_uri": "https://localhost:8080/"
        },
        "id": "UxzIjXjw6kie",
        "outputId": "27b2bd5a-4070-4a91-c10e-86b4ae46cc23"
      },
      "source": [
        "# построчное считываение файла\n",
        "# i am a line \n",
        "#        and some more lines\n",
        "#        and more words like line\n",
        "# cause i like words and lines\n",
        "# файлы можно взять тут: https://drive.google.com/drive/folders/1mC-yrYub7ERAr_dhWXUnq0MwNW6iuL7J\n",
        "\n",
        "with open(\"data/text.txt\", mode=\"r\") as multiline_file:\n",
        "    # получаем список строк\n",
        "    lines = multiline_file.readlines()\n",
        "    for line in lines:\n",
        "        print(line.strip())"
      ],
      "execution_count": 21,
      "outputs": [
        {
          "output_type": "stream",
          "name": "stdout",
          "text": [
            "i am a line\n",
            "and some more lines\n",
            "and more words like line\n",
            "cause i like words and lines\n"
          ]
        }
      ]
    },
    {
      "cell_type": "code",
      "metadata": {
        "colab": {
          "base_uri": "https://localhost:8080/"
        },
        "id": "tYUm5sqavPgV",
        "outputId": "0fbc3e94-3831-4562-a4e2-4ad231e3af6d"
      },
      "source": [
        "# здесь нужно заранее создать папку data в которой должен быть файл words.txt\n",
        "# файлы можно взять тут: https://drive.google.com/drive/folders/1mC-yrYub7ERAr_dhWXUnq0MwNW6iuL7J\n",
        "with open(\"data/words.txt\", mode=\"r\", encoding=\"utf-8\") as words_freq:\n",
        "    print(f'{\"lemma\":<13}{\"pos\":<14}{\"freq\":<13}')\n",
        "    for line in words_freq:\n",
        "        lemma, pos, freq = line.split()\n",
        "        print(f\"{lemma:<14}{pos:<14}{freq:<14}\")\n"
      ],
      "execution_count": 2,
      "outputs": [
        {
          "output_type": "stream",
          "name": "stdout",
          "text": [
            "lemma        pos           freq         \n",
            "ночь          noun          5.7           \n",
            "день          noun          6.6           \n",
            "идти          verb          8.9           \n",
            "быстро        adverb        4.1           \n"
          ]
        }
      ]
    },
    {
      "cell_type": "code",
      "metadata": {
        "colab": {
          "base_uri": "https://localhost:8080/"
        },
        "id": "Gs_fHQEvvNAK",
        "outputId": "95ca1bd7-fa90-4b10-f3ee-0b0e961d9d52"
      },
      "source": [
        "# чтение csv файла обычным образом (не очень удобно)\n",
        "# файлы можно взять тут: https://drive.google.com/drive/folders/1mC-yrYub7ERAr_dhWXUnq0MwNW6iuL7J\n",
        "with open(\"data/metal_bands_2017.csv\", mode=\"r\") as bands:\n",
        "    bands_list = bands.readlines()\n",
        "    print(bands_list)"
      ],
      "execution_count": 3,
      "outputs": [
        {
          "output_type": "stream",
          "name": "stdout",
          "text": [
            "['band_name,fans,formed,origin,split,style\\n', 'Iron Maiden,4195,1975,United Kingdom,-,\"New wave of british heavy,Heavy\"\\n', 'Opeth,4147,1990,Sweden,1990,\"Extreme progressive,Progressive rock,Progressive\"\\n', 'Metallica,3712,1981,USA,-,\"Heavy,Bay area thrash\"\\n', 'Megadeth,3105,1983,USA,1983,\"Thrash,Heavy,Hard rock\"\\n', 'Amon Amarth,3054,1988,Sweden,-,Melodic death\\n', 'Slayer,2955,1981,USA,1981,Thrash\\n', 'Death,2690,1983,USA,2001,\"Progressive death,Death,Progressive thrash\"\\n', 'Dream Theater,2329,1985,USA,1985,Progressive']\n"
          ]
        }
      ]
    },
    {
      "cell_type": "code",
      "metadata": {
        "colab": {
          "base_uri": "https://localhost:8080/"
        },
        "id": "o0sztE1SrZYL",
        "outputId": "f43e1c0e-73fe-4b4e-fb54-4d686b98d844"
      },
      "source": [
        "# работа с модулем csv стандартной библиотеки\n",
        "# данные можно взять здесь: https://drive.google.com/drive/folders/1mC-yrYub7ERAr_dhWXUnq0MwNW6iuL7J\n",
        "import csv\n",
        "\n",
        "# выводим содержимое всего файла. получаем списки для каждой строки\n",
        "with open(\"data/metal_bands_2017.csv\") as bands:\n",
        "    bands_data = csv.reader(bands)\n",
        "    for row in bands_data:\n",
        "        print(row)"
      ],
      "execution_count": 4,
      "outputs": [
        {
          "output_type": "stream",
          "name": "stdout",
          "text": [
            "['band_name', 'fans', 'formed', 'origin', 'split', 'style']\n",
            "['Iron Maiden', '4195', '1975', 'United Kingdom', '-', 'New wave of british heavy,Heavy']\n",
            "['Opeth', '4147', '1990', 'Sweden', '1990', 'Extreme progressive,Progressive rock,Progressive']\n",
            "['Metallica', '3712', '1981', 'USA', '-', 'Heavy,Bay area thrash']\n",
            "['Megadeth', '3105', '1983', 'USA', '1983', 'Thrash,Heavy,Hard rock']\n",
            "['Amon Amarth', '3054', '1988', 'Sweden', '-', 'Melodic death']\n",
            "['Slayer', '2955', '1981', 'USA', '1981', 'Thrash']\n",
            "['Death', '2690', '1983', 'USA', '2001', 'Progressive death,Death,Progressive thrash']\n",
            "['Dream Theater', '2329', '1985', 'USA', '1985', 'Progressive']\n"
          ]
        }
      ]
    },
    {
      "cell_type": "code",
      "metadata": {
        "colab": {
          "base_uri": "https://localhost:8080/"
        },
        "id": "P_bJliHJvJez",
        "outputId": "93cebfd5-de2e-4b0f-ebd4-db847c400cd6"
      },
      "source": [
        "# делаем список всех названий групп из таблицы\n",
        "with open(\"data/metal_bands_2017.csv\") as bands:\n",
        "    bands_data = csv.reader(bands)\n",
        "    band_names = []\n",
        "    for row in bands_data:\n",
        "        if row[0] != \"band_name\":\n",
        "            band_names.append(row[0])\n",
        "print(band_names)\n"
      ],
      "execution_count": 5,
      "outputs": [
        {
          "output_type": "stream",
          "name": "stdout",
          "text": [
            "['Iron Maiden', 'Opeth', 'Metallica', 'Megadeth', 'Amon Amarth', 'Slayer', 'Death', 'Dream Theater']\n"
          ]
        }
      ]
    },
    {
      "cell_type": "code",
      "metadata": {
        "colab": {
          "base_uri": "https://localhost:8080/"
        },
        "id": "ryA8Ng8lt4pz",
        "outputId": "aaddf429-0401-46ba-e564-5cbcac12a896"
      },
      "source": [
        "# можем создать таблицу, передавая строки\n",
        "\n",
        "with open(\"nhl_players.csv\", mode='w', newline='') as players:\n",
        "    writer = csv.writer(players)\n",
        "    writer.writerow([\"Connor McDavid\", \"C\", 56, 33, 16.5])\n",
        "    writer.writerow([\"Auston Matthews\", \"C\", 52, 41, 18.5])\n",
        "    writer.writerow([\"Alex DeBrincat\", \"L\", 52, 32, 20.7])\n",
        "    writer.writerow([\"Mikko Rantanen\", \"R\", 52, 30, 17.0])\n",
        "    writer.writerow([\"Kirill Kaprizov\", \"L\", 55, 27, 17.2])\n",
        "\n",
        "with open(\"nhl_players.csv\", mode=\"r\", newline='') as players:\n",
        "    reader = csv.reader(players)\n",
        "    print(f\"{'name':<20}{'pos':<7}{'games':<7}{'goals':<7}{'shots':<5}\")\n",
        "    for row in reader:\n",
        "        name, pos, games, goals, shots = row\n",
        "        print(f\"{name:<20}{pos:<7}{games:<7}{goals:<7}{shots:>5}\")"
      ],
      "execution_count": 6,
      "outputs": [
        {
          "output_type": "stream",
          "name": "stdout",
          "text": [
            "name                pos    games  goals  shots\n",
            "Connor McDavid      C      56     33      16.5\n",
            "Auston Matthews     C      52     41      18.5\n",
            "Alex DeBrincat      L      52     32      20.7\n",
            "Mikko Rantanen      R      52     30      17.0\n",
            "Kirill Kaprizov     L      55     27      17.2\n"
          ]
        }
      ]
    },
    {
      "cell_type": "markdown",
      "metadata": {
        "id": "3pRo-utLvr_u"
      },
      "source": [
        "модуль os"
      ]
    },
    {
      "cell_type": "code",
      "metadata": {
        "id": "K-TP9JUkvolF"
      },
      "source": [
        "import os\n",
        "\n",
        "path = \"new_file.txt\"\n",
        "\n",
        "# переименует new_file.txt в file.txt. ошибка, если такого файла нет\n",
        "# NB! изменение необратимо, лучше просто создавать новый файл с новым названием и записывать туда содержимое старого\n",
        "\n",
        "# os.rename(path, path.replace(\"new_\", \"\"))\n",
        "\n",
        "try: \n",
        "    os.rename(path, path.replace(\"new_\", \"\"))\n",
        "except FileNotFoundError:\n",
        "    print(\"no files to rename!\")\n",
        "\n",
        "# можно создать папку (лучше тоже с проверкой, что такой папки нет)\n",
        "# os.mkdir(\"new_dir\")\n",
        "try: \n",
        "    os.mkdir(\"new_dir\")\n",
        "except FileExistsError:\n",
        "    print(\"directory already exists!\")\n"
      ],
      "execution_count": 7,
      "outputs": []
    },
    {
      "cell_type": "code",
      "metadata": {
        "id": "fBofaODD3hcE"
      },
      "source": [
        "# есть специальные методы (см методы os.path)\n",
        "# проверяем, что такой папки нет, тогда создаем\n",
        "if not os.path.exists(\"new_dir\"):\n",
        "    os.mkdir(\"new_dir\")\n",
        "\n",
        "path = \"file.txt\"\n",
        "if os.path.exists(path):\n",
        "    os.rename(path, path.replace(\"file\", \"again_new_file\"))"
      ],
      "execution_count": 8,
      "outputs": []
    },
    {
      "cell_type": "code",
      "metadata": {
        "id": "o9tUw3r9xyOq"
      },
      "source": [
        "# создадим 10 файлов с разным содержанием\n",
        "for i in range(1, 11):\n",
        "    with open(\"new_dir/\" + str(i) + \".txt\", mode='w') as curr_file:\n",
        "        curr_file.write(f\"I am a file number {str(i)}\")"
      ],
      "execution_count": 9,
      "outputs": []
    },
    {
      "cell_type": "code",
      "metadata": {
        "colab": {
          "base_uri": "https://localhost:8080/"
        },
        "id": "3hG217ZQx9_R",
        "outputId": "a455ca56-b26c-481d-aeb1-06570d113781"
      },
      "source": [
        "# получить список всех названий файлов в папке методом list_dir\n",
        "\n",
        "file_names = os.listdir(\"new_dir\")\n",
        "print(file_names)"
      ],
      "execution_count": 10,
      "outputs": [
        {
          "output_type": "stream",
          "name": "stdout",
          "text": [
            "['10.txt', '1.txt', '7.txt', '8.txt', '6.txt', '5.txt', '4.txt', '2.txt', '3.txt', '9.txt']\n"
          ]
        }
      ]
    },
    {
      "cell_type": "code",
      "metadata": {
        "id": "5Mxg-0y4ydpG"
      },
      "source": [
        "# прочитаем все файлы из папки и сохраним их слегка измененное содержимое в другую папку, которую создадим в процессе\n",
        "if not os.path.exists(\"new_dir_updated\"):\n",
        "    os.mkdir(\"new_dir_updated\")\n",
        "\n",
        "for f in file_names:\n",
        "    # проверяем что файл это файл (если данные чистые, это можно пропустить)\n",
        "    if os.path.isfile(\"new_dir/\" + f):\n",
        "        with open(\"new_dir/\" + f,) as curr_file:\n",
        "            text = curr_file.read()\n",
        "            with open(\"new_dir_updated/\" + f, mode=\"w\") as new_file:\n",
        "                new_file.write(text.upper())"
      ],
      "execution_count": 19,
      "outputs": []
    },
    {
      "cell_type": "markdown",
      "metadata": {
        "id": "d_51PuH72uT8"
      },
      "source": [
        "more on relative paths"
      ]
    },
    {
      "cell_type": "code",
      "metadata": {
        "id": "Z5QmKiS95fH-"
      },
      "source": [
        "# для выхода из папки в относительном пути используются две точки:\n",
        "# допустим, если код запускается из папки my_project/code, а данные нужно считать из папки \n",
        "# my_project/data, то путь может выглядеть так:\n",
        "\n",
        "rel_path_to_data = \"../data/lemmas.csv\""
      ],
      "execution_count": null,
      "outputs": []
    }
  ]
}