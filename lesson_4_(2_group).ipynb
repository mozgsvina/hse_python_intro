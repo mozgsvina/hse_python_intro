{
  "nbformat": 4,
  "nbformat_minor": 0,
  "metadata": {
    "colab": {
      "name": "lesson_4_(2_group).ipynb",
      "provenance": [],
      "authorship_tag": "ABX9TyPESN+nZ/TiLFrcAGy/M4ww",
      "include_colab_link": true
    },
    "kernelspec": {
      "name": "python3",
      "display_name": "Python 3"
    },
    "language_info": {
      "name": "python"
    }
  },
  "cells": [
    {
      "cell_type": "markdown",
      "metadata": {
        "id": "view-in-github",
        "colab_type": "text"
      },
      "source": [
        "<a href=\"https://colab.research.google.com/github/mozgsvina/hse_python_intro/blob/main/lesson_4_(2_group).ipynb\" target=\"_parent\"><img src=\"https://colab.research.google.com/assets/colab-badge.svg\" alt=\"Open In Colab\"/></a>"
      ]
    },
    {
      "cell_type": "markdown",
      "metadata": {
        "id": "DrmyIlh0fB3r"
      },
      "source": [
        "Разбор д/з"
      ]
    },
    {
      "cell_type": "code",
      "metadata": {
        "id": "3avBmiMjaWuM",
        "colab": {
          "base_uri": "https://localhost:8080/"
        },
        "outputId": "f93726d5-5fd4-4207-8e76-c7bae958683f"
      },
      "source": [
        "\"\"\"\n",
        "эта программа удаляет часть строки\n",
        "\"\"\"\n",
        "\n",
        "some_text = \"прИВЕтдд\"\n",
        "# способ 1\n",
        "# отрезаем по одному символу справа, проверяем оставшуюся часть методом islower() \n",
        "# если возвращается True, досрочно выходим из цикла\n",
        "for i in range(len(some_text)):\n",
        "    some_text = some_text[:-1]\n",
        "    if some_text.islower():\n",
        "        break\n",
        "\n",
        "another_text = \"прИВЕтдд\"\n",
        "# способ 2\n",
        "# почти то же самое, немного наоборот\n",
        "for i in range(len(another_text)):\n",
        "    if not another_text.islower():\n",
        "         another_text = another_text[:-1]\n",
        "    else:\n",
        "        break\n",
        "\n",
        "some_text = \"fffFFFsss\"\n",
        "\n",
        "# удаляем все маленькие буквы (другой результат!)\n",
        "for char in some_text:\n",
        "    if char.isupper():\n",
        "        some_text = some_text.replace(char, \"\")\n",
        "\n",
        "print(some_text)"
      ],
      "execution_count": 1,
      "outputs": [
        {
          "output_type": "stream",
          "name": "stdout",
          "text": [
            "fffsss\n"
          ]
        }
      ]
    },
    {
      "cell_type": "code",
      "metadata": {
        "id": "Ku5ThzwDiLzS",
        "colab": {
          "base_uri": "https://localhost:8080/"
        },
        "outputId": "2ded8281-552c-449b-dd9c-de6036ad1715"
      },
      "source": [
        "# range для повторения\n",
        "for i in range(5):\n",
        "    print(\"Hello!\")"
      ],
      "execution_count": null,
      "outputs": [
        {
          "output_type": "stream",
          "name": "stdout",
          "text": [
            "Hello!\n",
            "Hello!\n",
            "Hello!\n",
            "Hello!\n",
            "Hello!\n"
          ]
        }
      ]
    },
    {
      "cell_type": "code",
      "metadata": {
        "id": "q29RjdCRiVFi",
        "colab": {
          "base_uri": "https://localhost:8080/"
        },
        "outputId": "13389141-971a-40a6-b00b-40091deb8e58"
      },
      "source": [
        "\"\"\"\n",
        "программа, которая меняет регистр всех буквы\n",
        "\"\"\"\n",
        "\n",
        "caps = \"mY TEXT IS WRONG.\"\n",
        "# new = \"\"\n",
        "# for char in caps:\n",
        "#     if char.islower():\n",
        "#         new += char.upper()\n",
        "#     else:\n",
        "#         new += char.lower()\n",
        "# print(new)\n",
        "\n",
        "caps = caps.swapcase()\n",
        "print(caps)"
      ],
      "execution_count": null,
      "outputs": [
        {
          "output_type": "stream",
          "name": "stdout",
          "text": [
            "My text is wrong.\n"
          ]
        }
      ]
    },
    {
      "cell_type": "code",
      "metadata": {
        "id": "SXlftk1ajas1",
        "colab": {
          "base_uri": "https://localhost:8080/"
        },
        "outputId": "7fef21a0-001c-4ad4-f739-94391880b971"
      },
      "source": [
        "\"\"\"программа, которая округляет элементы списка\"\"\"\n",
        "\n",
        "numbers = [1.2, 2.3, 3.4]\n",
        "\n",
        "new_numbs = []\n",
        "for num in numbers:\n",
        "    new_numbs.append(round(num))\n",
        "\n",
        "numbers = [round(num) for num in numbers] \n",
        "numbers"
      ],
      "execution_count": null,
      "outputs": [
        {
          "output_type": "execute_result",
          "data": {
            "text/plain": [
              "[1, 2, 3]"
            ]
          },
          "metadata": {},
          "execution_count": 4
        }
      ]
    },
    {
      "cell_type": "code",
      "metadata": {
        "id": "DwUrevm8k4Qh",
        "colab": {
          "base_uri": "https://localhost:8080/"
        },
        "outputId": "7191dfc9-9e74-47ef-ac08-a3bb96a10ec6"
      },
      "source": [
        "\"\"\" программа, которая сохраняет только те слова, в которых больше одной буквы \"а\" \"\"\"\n",
        "\n",
        "# способ с созданием нового списка\n",
        "words = [\"кара\", \"леса\", \"окно\"]\n",
        "a_words = []\n",
        "for w in words:\n",
        "    if w.count(\"а\") > 1:\n",
        "        a_words.append(w)\n",
        "\n",
        "# способ с удалением\n",
        "for w in words.copy():\n",
        "    if w.count(\"а\") < 2:\n",
        "        words.remove(w)\n",
        "\n",
        "print(a_words)\n",
        "print(words)"
      ],
      "execution_count": null,
      "outputs": [
        {
          "output_type": "stream",
          "name": "stdout",
          "text": [
            "['кара']\n",
            "['кара']\n"
          ]
        }
      ]
    },
    {
      "cell_type": "code",
      "metadata": {
        "id": "NSpYgHl1mK-X",
        "colab": {
          "base_uri": "https://localhost:8080/"
        },
        "outputId": "a239fbc5-adea-4859-b198-792984e808a5"
      },
      "source": [
        "# способ с list comprehension\n",
        "words = [\"кара\", \"леса\", \"окно\"]\n",
        "words = [w for w in words if w.count(\"а\") > 1]\n",
        "print(words)"
      ],
      "execution_count": null,
      "outputs": [
        {
          "output_type": "execute_result",
          "data": {
            "text/plain": [
              "['кара']"
            ]
          },
          "metadata": {},
          "execution_count": 6
        }
      ]
    },
    {
      "cell_type": "code",
      "metadata": {
        "id": "dTV1MS81mzU9",
        "colab": {
          "base_uri": "https://localhost:8080/"
        },
        "outputId": "79368009-bf2f-4ea2-8267-d4e372d4d95d"
      },
      "source": [
        "# сокращение операции присваивания\n",
        "\n",
        "a = 1\n",
        "a += 1 # a = a + 1\n",
        "word = \"snow\"\n",
        "word += \"man\" # word = word + \"man\"\n",
        "\n",
        "b = 2\n",
        "b *= 3 # b = b * 3\n",
        "print(b) # 6"
      ],
      "execution_count": null,
      "outputs": [
        {
          "output_type": "execute_result",
          "data": {
            "text/plain": [
              "6"
            ]
          },
          "metadata": {},
          "execution_count": 7
        }
      ]
    },
    {
      "cell_type": "markdown",
      "metadata": {
        "id": "MO8w_WwJsGZp"
      },
      "source": [
        "Кортежи (tuples)"
      ]
    },
    {
      "cell_type": "code",
      "metadata": {
        "id": "hURk9Xokn8PU",
        "colab": {
          "base_uri": "https://localhost:8080/"
        },
        "outputId": "11a7a68d-434c-4066-90aa-499c35ac5979"
      },
      "source": [
        "# кортеж (tuple)\n",
        "# неизменяемый список\n",
        "# итеририруемый и упорядоченный\n",
        "\n",
        "names = (\"Anya\", \"Masha\", \"Katya\")\n",
        "\n",
        "for name in names:\n",
        "    print(name)\n",
        "\n",
        "user_info = (\"Anya\", 12)\n",
        "\n",
        "# распаковка\n",
        "name, age = user_info\n",
        "# name, age = \"Katya\", 13\n",
        "\n",
        "print(name)\n",
        "print(age)\n",
        "\n",
        "# сохранить в три переменные день, месяц и год (одной строкой)\n",
        "date = (2, 10, 2021)\n",
        "\n",
        "# day = date[0]\n",
        "# month = date[1]\n",
        "# year = date[2]\n",
        "\n",
        "\n"
      ],
      "execution_count": null,
      "outputs": [
        {
          "output_type": "stream",
          "name": "stdout",
          "text": [
            "Anya\n",
            "Masha\n",
            "Katya\n",
            "Anya\n",
            "12\n"
          ]
        }
      ]
    },
    {
      "cell_type": "code",
      "metadata": {
        "id": "8D2PFso41y60",
        "colab": {
          "base_uri": "https://localhost:8080/"
        },
        "outputId": "3cc4ee39-f7d9-4a5a-e043-2306fa6e20c9"
      },
      "source": [
        "date = (3, 10, 2021)\n",
        "\n",
        "day, month, year = date\n",
        "\n",
        "print(f\"сегодня {day}.{month}.{year}.\")\n"
      ],
      "execution_count": null,
      "outputs": [
        {
          "output_type": "stream",
          "name": "stdout",
          "text": [
            "сегодня 3.10.2021.\n"
          ]
        }
      ]
    },
    {
      "cell_type": "code",
      "metadata": {
        "id": "xVUGzRT-ppHt"
      },
      "source": [
        "abc = \"abc\"\n",
        "a, b, c = abc"
      ],
      "execution_count": null,
      "outputs": []
    },
    {
      "cell_type": "code",
      "metadata": {
        "id": "FbipaT6gqAMb",
        "colab": {
          "base_uri": "https://localhost:8080/"
        },
        "outputId": "de58f249-95a4-4853-8667-64edbb77d684"
      },
      "source": [
        "# меняем местами значения переменных через третью\n",
        "a = 5\n",
        "b = 10\n",
        "\n",
        "c = a\n",
        "a = b\n",
        "b = c\n",
        "print(a)\n",
        "print(b)"
      ],
      "execution_count": null,
      "outputs": [
        {
          "output_type": "stream",
          "name": "stdout",
          "text": [
            "10\n",
            "5\n"
          ]
        }
      ]
    },
    {
      "cell_type": "code",
      "metadata": {
        "id": "Tqp4SgTFqU8h",
        "colab": {
          "base_uri": "https://localhost:8080/"
        },
        "outputId": "7cf21ce3-e26b-4bf3-a757-af62e64d09c4"
      },
      "source": [
        "# меняем местами переменные через кортеж\n",
        "a = 5\n",
        "b = 10\n",
        "a, b = b, a\n",
        "print(a, b)\n"
      ],
      "execution_count": null,
      "outputs": [
        {
          "output_type": "stream",
          "name": "stdout",
          "text": [
            "10 5\n"
          ]
        }
      ]
    },
    {
      "cell_type": "code",
      "metadata": {
        "id": "NaH_v43iqiuL",
        "colab": {
          "base_uri": "https://localhost:8080/"
        },
        "outputId": "3e750d4e-f886-45cb-ebea-1fc02b8d97f0"
      },
      "source": [
        "# enumerate()\n",
        "words = [\"кара\", \"леса\", \"окно\"]\n",
        "\n",
        "for i, word in enumerate(words):\n",
        "    print(f\"{i}: {word}\")\n",
        "\n",
        "name = \"Аня\"\n",
        "print(f\"Меня зовут {name}\")"
      ],
      "execution_count": null,
      "outputs": [
        {
          "output_type": "stream",
          "name": "stdout",
          "text": [
            "0: кара\n",
            "1: леса\n",
            "2: окно\n",
            "Меня зовут Аня\n"
          ]
        }
      ]
    },
    {
      "cell_type": "code",
      "metadata": {
        "id": "jo8aZYzOrvsR",
        "colab": {
          "base_uri": "https://localhost:8080/"
        },
        "outputId": "04d63209-2ca9-4172-ffcb-5629f69db300"
      },
      "source": [
        "# split() и join()\n",
        "\n",
        "words = input(\"Введите два слова: \")\n",
        "print(type(words))\n",
        "# split() превращает строку в список, разбивая ее по пробелу (по умолчанию), \n",
        "# либо по указанному разделителю\n",
        "\n",
        "word_list = words.split()\n",
        "print(type(word_list))"
      ],
      "execution_count": 3,
      "outputs": [
        {
          "output_type": "stream",
          "name": "stdout",
          "text": [
            "Введите два слова: раз два\n",
            "<class 'str'>\n",
            "<class 'list'>\n"
          ]
        }
      ]
    },
    {
      "cell_type": "code",
      "metadata": {
        "id": "B4g7qj8auibI",
        "colab": {
          "base_uri": "https://localhost:8080/"
        },
        "outputId": "2db29c00-8484-479c-813a-329eddc77512"
      },
      "source": [
        "# join() соединяет элементы списка в строку, используя указанный разделитель (здесь пробел)\n",
        "sent_words = [\"I\", \"am\", \"a\", \"sentence\", \"!\"]\n",
        "sentence = \" \".join(sent_words)\n",
        "\n",
        "print(sentence)\n",
        "print(type(sentence))"
      ],
      "execution_count": 4,
      "outputs": [
        {
          "output_type": "stream",
          "name": "stdout",
          "text": [
            "I am a sentence !\n",
            "<class 'str'>\n"
          ]
        }
      ]
    },
    {
      "cell_type": "code",
      "metadata": {
        "id": "VO9rue06vLro",
        "colab": {
          "base_uri": "https://localhost:8080/"
        },
        "outputId": "fa01b9cb-1088-418b-f2eb-9175ffc9b3e6"
      },
      "source": [
        "words = input(\"Введите два слова через запятую: \")\n",
        "# получаем список, разбивая по запятой\n",
        "word_list = words.split(\",\")\n",
        "# превратим список в кортеж (это не имеет особого смысла здесь, просто для тренировки)\n",
        "word_tuple = tuple(word_list)\n",
        "# распаковать кортеж в переменные\n",
        "word_1, word_2 = word_tuple\n",
        "print(word_1, word_2)"
      ],
      "execution_count": 7,
      "outputs": [
        {
          "output_type": "stream",
          "name": "stdout",
          "text": [
            "Введите два слова через запятую: сталактит,сталагмит\n",
            "сталактит сталагмит\n"
          ]
        }
      ]
    },
    {
      "cell_type": "markdown",
      "metadata": {
        "id": "7d6qUXAy5ORC"
      },
      "source": [
        "Словарь (dict)"
      ]
    },
    {
      "cell_type": "code",
      "metadata": {
        "id": "of8ZhOB4yOCe",
        "colab": {
          "base_uri": "https://localhost:8080/"
        },
        "outputId": "fb07e094-5986-43f4-baad-d0ddf98b113c"
      },
      "source": [
        "# создание словаря\n",
        "countries = {\"Russia\": 12, \"USA\": 2, \"Finland\": 10, \"UK\": 2}\n",
        "names = {1: \"Anya\", 2: \"Nastya\", 3: \"Anya\"}\n",
        "\n",
        "# обращение к значению по ключу\n",
        "print(countries[\"Russia\"]) # 12\n",
        "print(names[2]) # \"Nastya\"\n",
        "\n",
        "# добавление пары ключ-значение\n",
        "countries[\"France\"] = 5\n",
        "\n",
        "# изменение значения по ключу\n",
        "countries[\"France\"] = 6\n",
        "countries[\"France\"] += 1"
      ],
      "execution_count": 8,
      "outputs": [
        {
          "output_type": "stream",
          "name": "stdout",
          "text": [
            "12\n",
            "Nastya\n"
          ]
        }
      ]
    },
    {
      "cell_type": "code",
      "metadata": {
        "id": "X9v3qrkV7TYi",
        "colab": {
          "base_uri": "https://localhost:8080/"
        },
        "outputId": "ea189269-6eb9-4233-bf7a-92de8b5083fc"
      },
      "source": [
        "# .keys() \n",
        "\n",
        "names = {1: \"Anya\", 2: \"Nastya\", 3: \"Anya\"}\n",
        "\n",
        "for country in countries.keys():\n",
        "    countries[country] += 1\n",
        "\n",
        "# names = {1: \"Anya\", 2: \"Nastya\", 3: \"Anya\"}\n",
        "# names{1: \"ANYA\", 2: \"NASTYA\", 3: \"ANYA\"}\n",
        "\n",
        "\n",
        "# а можно так:\n",
        "for i in names:\n",
        "    names[i] = names[i].upper()\n",
        "\n",
        "print(names)"
      ],
      "execution_count": 9,
      "outputs": [
        {
          "output_type": "stream",
          "name": "stdout",
          "text": [
            "{1: 'ANYA', 2: 'NASTYA', 3: 'ANYA'}\n"
          ]
        }
      ]
    },
    {
      "cell_type": "code",
      "metadata": {
        "id": "BrXRY2yLAS17",
        "colab": {
          "base_uri": "https://localhost:8080/"
        },
        "outputId": "17cc6f71-fd4b-4ece-95de-b5481fb532ba"
      },
      "source": [
        "syn_dict = {\n",
        "            \"красивый\": [\"симпатичный\", \"обаятельный\"],\n",
        "            \"светлый\": [\"бледный\", \"прозрачный\"],\n",
        "            \"низкий\": [\"короткий\"]\n",
        "            }\n",
        "\n",
        "\n",
        "syn_number = len(syn_dict[\"светлый\"])\n",
        "print(f\"В нашем словаре есть {syn_number} для синонима 'светлый'.\")\n",
        "\n",
        "new_syn = \"глубокий\"\n",
        "syn_dict[\"низкий\"].append(new_syn)\n",
        "\n",
        "print(syn_dict)\n",
        "\n",
        "# добавьте слово с одним или двумя синонимом\n",
        "# удалите синоним \"прозрачный\" для слова светлый\n",
        "\n",
        "syn_dict[\"красный\"] = [\"алый\"]\n",
        "syn_dict[\"светлый\"].remove(\"прозрачный\")\n",
        "\n",
        "print(syn_dict)"
      ],
      "execution_count": 11,
      "outputs": [
        {
          "output_type": "stream",
          "name": "stdout",
          "text": [
            "В нашем словаре есть 2 для синонима 'светлый'.\n",
            "{'красивый': ['симпатичный', 'обаятельный'], 'светлый': ['бледный', 'прозрачный'], 'низкий': ['короткий', 'глубокий']}\n",
            "{'красивый': ['симпатичный', 'обаятельный'], 'светлый': ['бледный'], 'низкий': ['короткий', 'глубокий'], 'красный': ['алый']}\n"
          ]
        }
      ]
    }
  ]
}