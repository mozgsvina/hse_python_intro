{
  "nbformat": 4,
  "nbformat_minor": 0,
  "metadata": {
    "colab": {
      "name": "notes_for_lesson_3.ipynb",
      "private_outputs": true,
      "provenance": [],
      "authorship_tag": "ABX9TyPn3vtvt5HVuf6Dpf/KKkes",
      "include_colab_link": true
    },
    "kernelspec": {
      "name": "python3",
      "display_name": "Python 3"
    },
    "language_info": {
      "name": "python"
    }
  },
  "cells": [
    {
      "cell_type": "markdown",
      "metadata": {
        "id": "view-in-github",
        "colab_type": "text"
      },
      "source": [
        "<a href=\"https://colab.research.google.com/github/mozgsvina/hse_python_intro/blob/main/notes_for_lesson_3.ipynb\" target=\"_parent\"><img src=\"https://colab.research.google.com/assets/colab-badge.svg\" alt=\"Open In Colab\"/></a>"
      ]
    },
    {
      "cell_type": "markdown",
      "metadata": {
        "id": "OOYWaffT8S16"
      },
      "source": [
        "Разбор задач из д/з"
      ]
    },
    {
      "cell_type": "code",
      "metadata": {
        "id": "CvbemkMMYxeM"
      },
      "source": [
        "# задача с удалением -ан- (1)\n",
        "\n",
        "words = [\"банан\", \"кран\", \"АНанас\", \"палка\", \"экран\", \"лось\"]\n",
        "an_words = []\n",
        "# для цикла создаем поверхностную копию words методом copy(), а удаляем из исходного списка\n",
        "# иначе будет работать неправильно!\n",
        "for word in words.copy():\n",
        "    if \"ан\" in word.lower():\n",
        "        an_words.append(word)\n",
        "        words.remove(word)\n",
        "print(\"Исходный список без слов, содержащих -ан-:\", \", \".join(words))\n",
        "print(\"Новый список со словами, содержащими -ан-:\", \", \".join(an_words))"
      ],
      "execution_count": null,
      "outputs": []
    },
    {
      "cell_type": "code",
      "metadata": {
        "id": "CeU46ZPfYxLn"
      },
      "source": [
        "# задача с удалением -ан- (2)\n",
        "words = [\"банан\", \"кран\", \"АНанас\", \"палка\", \"экран\", \"лось\"]\n",
        "new_words = [word for word in words if \"ан\" in word.lower()]\n",
        "print(\"Новый список со словами, содержащими -ан-:\", \", \".join(an_words))\n",
        "print(\"Исходный список не изменен:\", \", \".join(words))\n",
        "# можем также перезаписать исходный список, если нужно\n",
        "words = [word for word in words if word not in new_words]\n",
        "print(\"Теперь мы перезаписали исходный список:\", \", \".join(words))"
      ],
      "execution_count": null,
      "outputs": []
    },
    {
      "cell_type": "code",
      "metadata": {
        "id": "Ve7Zcy8CdZ-G"
      },
      "source": [
        "# задача с поиском букв в тексте (1) с методом count()\n",
        "\n",
        "letters = input(\"letters to search: \").split()\n",
        "text = input(\"text: \")\n",
        "\n",
        "for letter in letters:\n",
        "    count = text.lower().count(letter.lower())\n",
        "    print(f\"Буква {letter.upper()} встретилась {count} раз(а)\")"
      ],
      "execution_count": null,
      "outputs": []
    },
    {
      "cell_type": "code",
      "metadata": {
        "id": "bZpZYGqFeFd1"
      },
      "source": [
        "# задача с поиском букв в тексте (2) с вложенными циклами\n",
        "letters = input(\"letters to search: \").lower().split()\n",
        "text = input(\"text: \")\n",
        "\n",
        "for letter in letters:\n",
        "    count = 0\n",
        "    for symb in text.lower():\n",
        "        if symb == letter:\n",
        "            count += 1\n",
        "    print(f\"Буква {letter.upper()} встретилась {count} раз(а)\")"
      ],
      "execution_count": null,
      "outputs": []
    },
    {
      "cell_type": "code",
      "metadata": {
        "id": "lRF6HCl9gShi"
      },
      "source": [
        "# задача с вложенными списками (1)\n",
        "# функция sum() возвращает сумму чисел в переданном одноуровневом списке\n",
        "\n",
        "nested_lists = [[1, 2, 3],\n",
        "                [4, 5, 6],\n",
        "                [7, 8, 9]]\n",
        "lst_sum = 0\n",
        "for lst in nested_lists:\n",
        "    lst_sum += sum(lst) \n",
        "\n",
        "print(\"Сумма чисел из вложенных списков равна\", lst_sum)\n"
      ],
      "execution_count": null,
      "outputs": []
    },
    {
      "cell_type": "code",
      "metadata": {
        "id": "JORc_sPtiAGU"
      },
      "source": [
        "# задача с вложенными списками (2)\n",
        "# без использования sum()\n",
        "nested_lists = [[1, 2, 3],\n",
        "                [4, 5, 6],\n",
        "                [7, 8, 9]]\n",
        "lst_sum = 0\n",
        "for lst in nested_lists:\n",
        "    for num in lst:\n",
        "        lst_sum += num\n",
        "\n",
        "print(\"Сумма чисел из вложенных списков равна\", lst_sum)\n",
        "\n",
        "# есть, конечно, другие решения, некоторые из которых более красивые и более сложные.\n",
        "# есть готовые решения для таких задач.\n",
        "# но для нас сейчас важно освоить концецию списков, итераций по ним и основные функции"
      ],
      "execution_count": null,
      "outputs": []
    },
    {
      "cell_type": "code",
      "metadata": {
        "id": "eOFe6Xo3wQfW"
      },
      "source": [
        "# задача с удалением длинных слова (1) с созданием нового списка\n",
        "words = [\"компьютер\", \"тв\", \"ром\", \"электричество\"]\n",
        "long_words = [word for word in words if len(word) > 5]\n",
        "print(\"Исходный список без изменений:\", \", \".join(words))\n",
        "print(\"Новый список сдлинными словами:\", \", \".join(long_words))\n",
        "\n",
        "# аналогичная конструкция с for, это полезно понимать (!)\n",
        "# я бы даже сказала, важнее понять это, а потом уже list comprehension\n",
        "long_words2 = []\n",
        "for word in words:\n",
        "    if len(word) > 5:\n",
        "        long_words2.append(word)\n",
        "print(\"Другой список сдлинными словами, полученный вторым способом:\", \", \".join(long_words2))"
      ],
      "execution_count": null,
      "outputs": []
    },
    {
      "cell_type": "code",
      "metadata": {
        "id": "THZeCbnQya7q"
      },
      "source": [
        "# задача с удалением длинных слова (2) с изменением исходного списка, вариант (а)\n",
        "words = [\"компьютер\", \"тв\", \"ром\", \"электричество\"]\n",
        "# deleted_words = [] \n",
        "for word in words.copy():\n",
        "    if len(word) <= 5:\n",
        "        # deleted_words.append(word)\n",
        "        words.remove(word)\n",
        "        \n",
        "print(\"Исходный список, из которого мы удалили короткие слова:\", \", \".join(words))\n",
        "# print(\"Можем также записать удаленные слова в отдельный список:\", \", \".join(deleted_words))"
      ],
      "execution_count": null,
      "outputs": []
    },
    {
      "cell_type": "code",
      "metadata": {
        "id": "W7Y76uXczMww"
      },
      "source": [
        "# задача с удалением длинных слова (2) с изменением исходного списка, вариант (б)\n",
        "words = [\"компьютер\", \"тв\", \"ром\", \"электричество\"]\n",
        "words = [word for word in words if len(word) > 5]\n",
        "\n",
        "print(\"Исходный список, из которого мы удалили короткие слова:\", \", \".join(words))"
      ],
      "execution_count": null,
      "outputs": []
    },
    {
      "cell_type": "markdown",
      "metadata": {
        "id": "tUJK6kubdFL0"
      },
      "source": [
        "Сокращение операции присваивания и объединение строк:"
      ]
    },
    {
      "cell_type": "code",
      "metadata": {
        "id": "tZGCi1_0dKXZ"
      },
      "source": [
        "x = 0\n",
        "x = x + 1  # увеличивает значение x на единицу\n",
        "x += 1 # тоже увеличивает значение x на единицу\n",
        "print(x)\n",
        "\n",
        "word = \"snow\"\n",
        "word += \"man\"  # аналогично записи word = word + \"man\"\n",
        "print(word)\n",
        "\n",
        "# объединение списка в строку. в кавычках указывается разделитель\n",
        "comma_joined = ','.join([\"some\", \"comma\", \"separated\", \"values\"])  # \"some,comma,separated,values\"\n",
        "space_joined = ' '.join([\"I\", \"can\", \"be\", \"a\", \"sentence!\"])\n",
        "print(comma_joined, space_joined, sep=\"\\n\")\n",
        "print(type(comma_joined))"
      ],
      "execution_count": null,
      "outputs": []
    },
    {
      "cell_type": "markdown",
      "metadata": {
        "id": "TaP8Rt8K8e29"
      },
      "source": [
        "Условный оператор if"
      ]
    },
    {
      "cell_type": "code",
      "metadata": {
        "id": "qopnvJSXibzJ"
      },
      "source": [
        "# оба блока if будут проверены и выполнены\n",
        "x = 5\n",
        "if x >= 3:\n",
        "    print(\"passed.\")\n",
        "if x >= 4:\n",
        "    print(\"good job!\")\n"
      ],
      "execution_count": null,
      "outputs": []
    },
    {
      "cell_type": "code",
      "metadata": {
        "id": "QDlo9fIhjEHm"
      },
      "source": [
        "# только одна команда сработает. если выполнится одно из условий (первое истинное), остальные условия не будут проверяться\n",
        "# если ни одно из условий не будет являться истинным, то выполнится блок else\n",
        "# else может быть только один. это необязательная часть.\n",
        "x = 7\n",
        "if x >= 8:\n",
        "    print(\"excellent\")\n",
        "elif x >= 6:\n",
        "    print(\"good\")\n",
        "elif x > 3:\n",
        "    print(\"passed\")\n",
        "else:\n",
        "    print(\"fail\")"
      ],
      "execution_count": null,
      "outputs": []
    },
    {
      "cell_type": "code",
      "metadata": {
        "id": "iC12PYKH2Cgy"
      },
      "source": [
        "my_list = list(range(10)) # правая граница не входит\n",
        "print(my_list)\n",
        "print(my_list[3:5]) # правая граница не входит\n",
        "my_list[1:-1] = []  # leave only first and last element\n",
        "# my_list[1:len(my_list)-1] = [] # same\n",
        "print(my_list)"
      ],
      "execution_count": null,
      "outputs": []
    },
    {
      "cell_type": "markdown",
      "metadata": {
        "id": "1KJIE7pPhyIM"
      },
      "source": [
        "Команды break и continue:"
      ]
    },
    {
      "cell_type": "code",
      "metadata": {
        "id": "dsymtr3-hxY3"
      },
      "source": [
        "for number in range(100):\n",
        "  if number % 5 == 0:\n",
        "    continue\n",
        "  elif number == 29:\n",
        "    break\n",
        "  print(number, end=' ')"
      ],
      "execution_count": null,
      "outputs": []
    },
    {
      "cell_type": "code",
      "metadata": {
        "id": "8KlBm8Cn22_y"
      },
      "source": [
        "# задача с выведением слова с заглавной буквой и словом триггером остановки \"стоп\"\n",
        "words = [\"США\", \"оливки\", \"Достоевский\", \"НИУ ВШЭ\", \"бумага\", \"стоп\", \"Байден\", \"ОК\"]\n",
        "for word in words:\n",
        "    if word == \"стоп\":\n",
        "        break\n",
        "    if word[0].isupper():\n",
        "        print(word)"
      ],
      "execution_count": null,
      "outputs": []
    },
    {
      "cell_type": "code",
      "metadata": {
        "id": "EdudiVsu4JLv"
      },
      "source": [
        "# аналогично с continue. Оно довольно редко незаменимо, но можно посмотреть, как работает.\n",
        "words = [\"США\", \"оливки\", \"Достоевский\", \"НИУ ВШЭ\", \"бумага\", \"стоп\", \"Байден\", \"ОК\"]\n",
        "for word in words:\n",
        "    if word == \"стоп\":\n",
        "        break\n",
        "    if word[0].islower():\n",
        "        continue\n",
        "    print(word)"
      ],
      "execution_count": null,
      "outputs": []
    },
    {
      "cell_type": "markdown",
      "metadata": {
        "id": "SER18_eTkPnF"
      },
      "source": [
        "Любое выражение может идентифицироваться как True или False:"
      ]
    },
    {
      "cell_type": "code",
      "metadata": {
        "id": "Dj---HAyKiJc"
      },
      "source": [
        "# 0 и пустые объекты интерперетируются как False, числа и непустые объекты как True\n",
        "if 1:\n",
        "  print(\"I am printed!\")\n",
        "\n",
        "if \"some string\":\n",
        "  print(\"I am printed!\")\n",
        "\n",
        "if \"\":\n",
        "  print(\"I am not printed!\")\n",
        "\n",
        "if 0:\n",
        "  print(\"I am not printed!\")"
      ],
      "execution_count": null,
      "outputs": []
    },
    {
      "cell_type": "code",
      "metadata": {
        "id": "n_tJcucy5E61"
      },
      "source": [
        "# например, можно искользовать это так! не переживайте, если это не очень понятно. \n",
        "# pop() возвращает последний элемент и удаляет его\n",
        "\n",
        "students = [\"Ann\", \"Noam\", \"Sally\"]\n",
        "while students:\n",
        "    curr_student = students.pop()\n",
        "    print(f\"Now it's {curr_student}'s time to answer!\")\n",
        "\n",
        "print(\"Everyone in the class have answered!\")\n"
      ],
      "execution_count": null,
      "outputs": []
    },
    {
      "cell_type": "markdown",
      "metadata": {
        "id": "LqDOH_9i6oz-"
      },
      "source": [
        "Работа с текстов и немного статистики. Базовая токенизация и исследование длины слов"
      ]
    },
    {
      "cell_type": "code",
      "metadata": {
        "id": "CXwU0JRwRyoT"
      },
      "source": [
        "sample_text = \"\"\"Опубликованы результаты электронного голосования\n",
        "на выборах в Госдуму в Москве. Они спрятаны в общем массиве данных — их очень очень трудно найти\"\"\"\n",
        "words = sample_text.split()\n",
        "print(words)\n",
        "words = [word.strip(\".\").lower() for word in words]\n",
        "print(words)\n",
        "words = [word for word in words if word.isalpha()]\n",
        "print(words)\n",
        "word_lens = [len(word) for word in words]\n",
        "print(word_lens)\n",
        "mean_len = (sum(word_lens) / len(word_lens))\n",
        "print(mean_len)\n",
        "mean_len = round(sum(word_lens) / len(word_lens), 2) # придумать как всегда выводить с двумя знаками после запятой\n",
        "print(mean_len)\n"
      ],
      "execution_count": null,
      "outputs": []
    },
    {
      "cell_type": "code",
      "metadata": {
        "id": "70kpjHAoUnDq"
      },
      "source": [
        "# здесь мы загружаем модуль statistics из стандартной библиотеки питона.\n",
        "# если написать просто import statistics то ко всем объектам этого модуля \n",
        "# нужно будет обращаться через его название, например, так statistics.mean()\n",
        "# если дополнительно импортировать конкретные объекты / функции  с помощью from ... import ...., \n",
        "# то можно обращаться к ним напрямую, как мы делаем ниже\n",
        "from statistics import mean, median, mode\n",
        "\n",
        "# word_lens.append(6)\n",
        "# (!) обратить внимание, как считается мода\n",
        "\n",
        "# функции из модуля statistics:\n",
        "mean_len = round(mean(word_lens), 2)\n",
        "median_len = median(word_lens)\n",
        "mode_len = mode(word_lens)\n",
        "\n",
        "# это уже обычные функции\n",
        "min_len = min(word_lens)\n",
        "max_len = max(word_lens)\n",
        "\n",
        "print(sorted(word_lens))\n",
        "print(f\"Количество слов в тексте равно {len(word_lens)}\")\n",
        "print(f\"Самое длинное слово в тексте состоит из {max_len} букв, самое короткое слово в тексте — из {min_len}.\")\n",
        "print(f\"Среднее значение длины слова равно {mean}, медиана равна {median}, мода равна {mode}.\")"
      ],
      "execution_count": null,
      "outputs": []
    },
    {
      "cell_type": "markdown",
      "metadata": {
        "id": "GtWetR4c8IZI"
      },
      "source": [
        "Ошибки в программах. Обработка исключений."
      ]
    },
    {
      "cell_type": "code",
      "metadata": {
        "id": "cO1exWvuZ7Rx"
      },
      "source": [
        "try:\n",
        "    age = int(input(\"What's your age? \"))\n",
        "    print(f\"You were born in {2021-age}.\")\n",
        "except ValueError:\n",
        "    print(\"ValueError, type your age in digits\")\n",
        "except KeyboardInterrupt:\n",
        "    print(\"KeyboardInterrupt, you've left before answering!\")\n"
      ],
      "execution_count": null,
      "outputs": []
    },
    {
      "cell_type": "code",
      "metadata": {
        "id": "HC4k28vKbtqf"
      },
      "source": [
        "numbers = [1, 2, 3, 4, 5]\n",
        "try:\n",
        "    number = int(input(\"Какое число вы хотите добавить? \"))\n",
        "    position = int(input(\"На какую позицию вы хотите добавить число? \"))\n",
        "    numbers[position] = number\n",
        "    print(numbers)    \n",
        "except IndexError:\n",
        "    print(\"Такого индекса нет!\")\n",
        "except ValueError:\n",
        "    print(\"Пожалуйста, используйте число.\")\n",
        "except:\n",
        "    print(\"Что-то пошло не так и мы не знаем, что :(\")\n",
        "\n"
      ],
      "execution_count": null,
      "outputs": []
    }
  ]
}