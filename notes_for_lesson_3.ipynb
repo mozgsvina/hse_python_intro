{
  "nbformat": 4,
  "nbformat_minor": 0,
  "metadata": {
    "colab": {
      "name": "notes_for_lesson_3.ipynb",
      "provenance": [],
      "authorship_tag": "ABX9TyMm7p0taLfKLQN2Vo9uN8XV",
      "include_colab_link": true
    },
    "kernelspec": {
      "name": "python3",
      "display_name": "Python 3"
    },
    "language_info": {
      "name": "python"
    }
  },
  "cells": [
    {
      "cell_type": "markdown",
      "metadata": {
        "id": "view-in-github",
        "colab_type": "text"
      },
      "source": [
        "<a href=\"https://colab.research.google.com/github/mozgsvina/hse_python_intro/blob/main/notes_for_lesson_3.ipynb\" target=\"_parent\"><img src=\"https://colab.research.google.com/assets/colab-badge.svg\" alt=\"Open In Colab\"/></a>"
      ]
    },
    {
      "cell_type": "markdown",
      "metadata": {
        "id": "OOYWaffT8S16"
      },
      "source": [
        "Разбор задач из д/з"
      ]
    },
    {
      "cell_type": "code",
      "metadata": {
        "colab": {
          "base_uri": "https://localhost:8080/"
        },
        "id": "CvbemkMMYxeM",
        "outputId": "c2f2909b-572b-4b6d-d854-5a477b7fbab3"
      },
      "source": [
        "# задача с удалением -ан- (1)\n",
        "\n",
        "words = [\"банан\", \"кран\", \"АНанас\", \"палка\", \"экран\", \"лось\"]\n",
        "an_words = []\n",
        "# для цикла создаем поверхностную копию words методом copy(), а удаляем из исходного списка\n",
        "# иначе будет работать неправильно!\n",
        "for word in words.copy():\n",
        "    if \"ан\" in word.lower():\n",
        "        an_words.append(word)\n",
        "        words.remove(word)\n",
        "print(\"Исходный список без слов, содержащих -ан-:\", \", \".join(words))\n",
        "print(\"Новый список со словами, содержащими -ан-:\", \", \".join(an_words))"
      ],
      "execution_count": 2,
      "outputs": [
        {
          "output_type": "stream",
          "name": "stdout",
          "text": [
            "Исходный список без слов, содержащих -ан-: палка, лось\n",
            "Новый список со словами, содержащими -ан-: банан, кран, АНанас, экран\n"
          ]
        }
      ]
    },
    {
      "cell_type": "code",
      "metadata": {
        "colab": {
          "base_uri": "https://localhost:8080/"
        },
        "id": "CeU46ZPfYxLn",
        "outputId": "da0d196e-d988-41a1-c1a8-cb4aa9d43557"
      },
      "source": [
        "# задача с удалением -ан- (2)\n",
        "\n",
        "words = [\"банан\", \"кран\", \"АНанас\", \"палка\", \"экран\", \"лось\"]\n",
        "new_words = [word for word in words if \"ан\" in word.lower()]\n",
        "print(\"Новый список со словами, содержащими -ан-:\", \", \".join(an_words))\n",
        "print(\"Исходный список не изменен:\", \", \".join(words))\n",
        "# можем также перезаписать исходный список, если нужно\n",
        "words = [word for word in words if word not in new_words]\n",
        "print(\"Теперь мы перезаписали исходный список:\", \", \".join(words))"
      ],
      "execution_count": 3,
      "outputs": [
        {
          "output_type": "stream",
          "name": "stdout",
          "text": [
            "Новый список со словами, содержащими -ан-: банан, кран, АНанас, экран\n",
            "Исходный список не изменен: банан, кран, АНанас, палка, экран, лось\n",
            "Теперь мы перезаписали исходный список: палка, лось\n"
          ]
        }
      ]
    },
    {
      "cell_type": "code",
      "metadata": {
        "colab": {
          "base_uri": "https://localhost:8080/"
        },
        "id": "Ve7Zcy8CdZ-G",
        "outputId": "ab9d25ad-f54e-4f24-dc97-9f073a1709a1"
      },
      "source": [
        "# задача с поиском букв в тексте (1) с методом count()\n",
        "\n",
        "letters = input(\"letters to search: \").split()\n",
        "text = input(\"text: \")\n",
        "\n",
        "for letter in letters:\n",
        "    count = text.lower().count(letter.lower())\n",
        "    print(f\"Буква {letter.upper()} встретилась {count} раз(а)\")"
      ],
      "execution_count": 4,
      "outputs": [
        {
          "output_type": "stream",
          "name": "stdout",
          "text": [
            "letters to search: а у е\n",
            "text: Акула нет может утонуть\n",
            "Буква А встретилась 2 раз(а)\n",
            "Буква У встретилась 3 раз(а)\n",
            "Буква Е встретилась 2 раз(а)\n"
          ]
        }
      ]
    },
    {
      "cell_type": "code",
      "metadata": {
        "colab": {
          "base_uri": "https://localhost:8080/"
        },
        "id": "bZpZYGqFeFd1",
        "outputId": "c34185d2-edd0-4e70-9e7d-76f3da5870ce"
      },
      "source": [
        "# задача с поиском букв в тексте (2) с вложенными циклами\n",
        "\n",
        "letters = input(\"letters to search: \").lower().split()\n",
        "text = input(\"text: \")\n",
        "\n",
        "for letter in letters:\n",
        "    count = 0\n",
        "    for symb in text.lower():\n",
        "        if symb == letter:\n",
        "            count += 1\n",
        "    print(f\"Буква {letter.upper()} встретилась {count} раз(а)\")"
      ],
      "execution_count": 5,
      "outputs": [
        {
          "output_type": "stream",
          "name": "stdout",
          "text": [
            "letters to search: к л м\n",
            "text: Собака хочет гулять\n",
            "Буква К встретилась 1 раз(а)\n",
            "Буква Л встретилась 1 раз(а)\n",
            "Буква М встретилась 0 раз(а)\n"
          ]
        }
      ]
    },
    {
      "cell_type": "code",
      "metadata": {
        "colab": {
          "base_uri": "https://localhost:8080/"
        },
        "id": "lRF6HCl9gShi",
        "outputId": "163e27b1-ed26-4740-90a5-f5ce178866e6"
      },
      "source": [
        "# задача с вложенными списками (1)\n",
        "# функция sum() возвращает сумму чисел в переданном одноуровневом списке\n",
        "\n",
        "nested_lists = [[1, 2, 3],\n",
        "                [4, 5, 6],\n",
        "                [7, 8, 9]]\n",
        "lst_sum = 0\n",
        "for lst in nested_lists:\n",
        "    lst_sum += sum(lst) \n",
        "\n",
        "print(\"Сумма чисел из вложенных списков равна\", lst_sum)\n"
      ],
      "execution_count": 6,
      "outputs": [
        {
          "output_type": "stream",
          "name": "stdout",
          "text": [
            "Сумма чисел из вложенных списков равна 45\n"
          ]
        }
      ]
    },
    {
      "cell_type": "code",
      "metadata": {
        "colab": {
          "base_uri": "https://localhost:8080/"
        },
        "id": "JORc_sPtiAGU",
        "outputId": "35b67892-9aae-4091-b3fd-eba0689a641d"
      },
      "source": [
        "# задача с вложенными списками (2)\n",
        "# без использования sum()\n",
        "\n",
        "nested_lists = [[1, 2, 3],\n",
        "                [4, 5, 6],\n",
        "                [7, 8, 9]]\n",
        "lst_sum = 0\n",
        "for lst in nested_lists:\n",
        "    for num in lst:\n",
        "        lst_sum += num\n",
        "\n",
        "print(\"Сумма чисел из вложенных списков равна\", lst_sum)\n",
        "\n",
        "# есть, конечно, другие решения, некоторые из которых более красивые и более сложные.\n",
        "# есть готовые решения для таких задач.\n",
        "# но для нас сейчас важно освоить концецию списков, итераций по ним и основные функции"
      ],
      "execution_count": 7,
      "outputs": [
        {
          "output_type": "stream",
          "name": "stdout",
          "text": [
            "Сумма чисел из вложенных списков равна 45\n"
          ]
        }
      ]
    },
    {
      "cell_type": "code",
      "metadata": {
        "colab": {
          "base_uri": "https://localhost:8080/"
        },
        "id": "eOFe6Xo3wQfW",
        "outputId": "b8635efe-35d4-460c-d0fd-1b3a2215ba85"
      },
      "source": [
        "# задача с удалением длинных слова (1) с созданием нового списка\n",
        "\n",
        "words = [\"компьютер\", \"тв\", \"ром\", \"электричество\"]\n",
        "long_words = [word for word in words if len(word) > 5]\n",
        "print(\"Исходный список без изменений:\", \", \".join(words))\n",
        "print(\"Новый список сдлинными словами:\", \", \".join(long_words))\n",
        "\n",
        "# аналогичная конструкция с for, это полезно понимать (!)\n",
        "# я бы даже сказала, важнее понять это, а потом уже list comprehension\n",
        "long_words2 = []\n",
        "for word in words:\n",
        "    if len(word) > 5:\n",
        "        long_words2.append(word)\n",
        "print(\"Другой список сдлинными словами, полученный вторым способом:\", \", \".join(long_words2))"
      ],
      "execution_count": 8,
      "outputs": [
        {
          "output_type": "stream",
          "name": "stdout",
          "text": [
            "Исходный список без изменений: компьютер, тв, ром, электричество\n",
            "Новый список сдлинными словами: компьютер, электричество\n",
            "Другой список сдлинными словами, полученный вторым способом: компьютер, электричество\n"
          ]
        }
      ]
    },
    {
      "cell_type": "code",
      "metadata": {
        "colab": {
          "base_uri": "https://localhost:8080/"
        },
        "id": "THZeCbnQya7q",
        "outputId": "fc8db27e-42ac-4ff4-d1ed-90566c6f1f5f"
      },
      "source": [
        "# задача с удалением длинных слова (2) с изменением исходного списка, вариант (а)\n",
        "\n",
        "words = [\"компьютер\", \"тв\", \"ром\", \"электричество\"]\n",
        "# deleted_words = [] \n",
        "for word in words.copy():\n",
        "    if len(word) <= 5:\n",
        "        # deleted_words.append(word)\n",
        "        words.remove(word)\n",
        "        \n",
        "print(\"Исходный список, из которого мы удалили короткие слова:\", \", \".join(words))\n",
        "# print(\"Можем также записать удаленные слова в отдельный список:\", \", \".join(deleted_words))"
      ],
      "execution_count": 9,
      "outputs": [
        {
          "output_type": "stream",
          "name": "stdout",
          "text": [
            "Исходный список, из которого мы удалили короткие слова: компьютер, электричество\n"
          ]
        }
      ]
    },
    {
      "cell_type": "code",
      "metadata": {
        "colab": {
          "base_uri": "https://localhost:8080/"
        },
        "id": "W7Y76uXczMww",
        "outputId": "3d7cb6c1-389d-4c5e-fa09-87f097e39f02"
      },
      "source": [
        "# задача с удалением длинных слова (2) с изменением исходного списка, вариант (б)\n",
        "\n",
        "words = [\"компьютер\", \"тв\", \"ром\", \"электричество\"]\n",
        "words = [word for word in words if len(word) > 5]\n",
        "\n",
        "print(\"Исходный список, из которого мы удалили короткие слова:\", \", \".join(words))"
      ],
      "execution_count": 10,
      "outputs": [
        {
          "output_type": "stream",
          "name": "stdout",
          "text": [
            "Исходный список, из которого мы удалили короткие слова: компьютер, электричество\n"
          ]
        }
      ]
    },
    {
      "cell_type": "markdown",
      "metadata": {
        "id": "tUJK6kubdFL0"
      },
      "source": [
        "Сокращение операции присваивания и объединение строк:"
      ]
    },
    {
      "cell_type": "code",
      "metadata": {
        "id": "tZGCi1_0dKXZ",
        "colab": {
          "base_uri": "https://localhost:8080/"
        },
        "outputId": "713158ae-eece-49d8-c208-accf30ec9b93"
      },
      "source": [
        "x = 0\n",
        "x = x + 1  # увеличивает значение x на единицу\n",
        "x += 1 # тоже увеличивает значение x на единицу\n",
        "print(x)\n",
        "\n",
        "word = \"snow\"\n",
        "word += \"man\"  # аналогично записи word = word + \"man\"\n",
        "print(word)\n",
        "\n",
        "# объединение списка в строку. в кавычках указывается разделитель\n",
        "comma_joined = ','.join([\"some\", \"comma\", \"separated\", \"values\"])  # \"some,comma,separated,values\"\n",
        "space_joined = ' '.join([\"I\", \"can\", \"be\", \"a\", \"sentence!\"])\n",
        "print(comma_joined, space_joined, sep=\"\\n\")\n",
        "print(type(comma_joined))"
      ],
      "execution_count": 11,
      "outputs": [
        {
          "output_type": "stream",
          "name": "stdout",
          "text": [
            "2\n",
            "snowman\n",
            "some,comma,separated,values\n",
            "I can be a sentence!\n",
            "<class 'str'>\n"
          ]
        }
      ]
    },
    {
      "cell_type": "markdown",
      "metadata": {
        "id": "TaP8Rt8K8e29"
      },
      "source": [
        "Условный оператор if"
      ]
    },
    {
      "cell_type": "code",
      "metadata": {
        "colab": {
          "base_uri": "https://localhost:8080/"
        },
        "id": "qopnvJSXibzJ",
        "outputId": "45c4c734-68ef-480b-ae01-8998450a316f"
      },
      "source": [
        "# оба блока if будут проверены и выполнены\n",
        "x = 5\n",
        "if x >= 3:\n",
        "    print(\"passed.\")\n",
        "if x >= 4:\n",
        "    print(\"good job!\")\n"
      ],
      "execution_count": 12,
      "outputs": [
        {
          "output_type": "stream",
          "name": "stdout",
          "text": [
            "passed.\n",
            "good job!\n"
          ]
        }
      ]
    },
    {
      "cell_type": "code",
      "metadata": {
        "colab": {
          "base_uri": "https://localhost:8080/"
        },
        "id": "QDlo9fIhjEHm",
        "outputId": "820d3b1a-bb5f-42ae-ee63-8086d0c5d888"
      },
      "source": [
        "# только одна команда сработает. если выполнится одно из условий (первое истинное), остальные условия не будут проверяться\n",
        "# если ни одно из условий не будет являться истинным, то выполнится блок else\n",
        "# else может быть только один. это необязательная часть.\n",
        "x = 7\n",
        "if x >= 8:\n",
        "    print(\"excellent\")\n",
        "elif x >= 6:\n",
        "    print(\"good\")\n",
        "elif x > 3:\n",
        "    print(\"passed\")\n",
        "else:\n",
        "    print(\"fail\")"
      ],
      "execution_count": 13,
      "outputs": [
        {
          "output_type": "stream",
          "name": "stdout",
          "text": [
            "good\n"
          ]
        }
      ]
    },
    {
      "cell_type": "code",
      "metadata": {
        "colab": {
          "base_uri": "https://localhost:8080/"
        },
        "id": "iC12PYKH2Cgy",
        "outputId": "970fa890-d13f-4059-bb1b-de2ba7e010bb"
      },
      "source": [
        "my_list = list(range(10)) # правая граница не входит\n",
        "print(my_list)\n",
        "print(my_list[3:5]) # правая граница не входит\n",
        "my_list[1:-1] = []  # leave only first and last element\n",
        "# my_list[1:len(my_list)-1] = [] # same\n",
        "print(my_list)"
      ],
      "execution_count": 14,
      "outputs": [
        {
          "output_type": "stream",
          "name": "stdout",
          "text": [
            "[0, 1, 2, 3, 4, 5, 6, 7, 8, 9]\n",
            "[3, 4]\n",
            "[0, 9]\n"
          ]
        }
      ]
    },
    {
      "cell_type": "markdown",
      "metadata": {
        "id": "1KJIE7pPhyIM"
      },
      "source": [
        "Команды break и continue:"
      ]
    },
    {
      "cell_type": "code",
      "metadata": {
        "id": "dsymtr3-hxY3",
        "colab": {
          "base_uri": "https://localhost:8080/"
        },
        "outputId": "6f3dae3c-7296-4e55-ecfd-f54003d1aba8"
      },
      "source": [
        "for number in range(100):\n",
        "  if number % 5 == 0:\n",
        "    continue\n",
        "  elif number == 29:\n",
        "    break\n",
        "  print(number, end=' ')"
      ],
      "execution_count": 15,
      "outputs": [
        {
          "output_type": "stream",
          "name": "stdout",
          "text": [
            "1 2 3 4 6 7 8 9 11 12 13 14 16 17 18 19 21 22 23 24 26 27 28 "
          ]
        }
      ]
    },
    {
      "cell_type": "code",
      "metadata": {
        "colab": {
          "base_uri": "https://localhost:8080/"
        },
        "id": "8KlBm8Cn22_y",
        "outputId": "bcf0de48-d5a5-42f3-e08d-69c6ceaed819"
      },
      "source": [
        "# задача с выведением слова с заглавной буквой и словом триггером остановки \"стоп\"\n",
        "words = [\"США\", \"оливки\", \"Достоевский\", \"НИУ ВШЭ\", \"бумага\", \"стоп\", \"Байден\", \"ОК\"]\n",
        "for word in words:\n",
        "    if word == \"стоп\":\n",
        "        break\n",
        "    if word[0].isupper():\n",
        "        print(word)"
      ],
      "execution_count": 16,
      "outputs": [
        {
          "output_type": "stream",
          "name": "stdout",
          "text": [
            "США\n",
            "Достоевский\n",
            "НИУ ВШЭ\n"
          ]
        }
      ]
    },
    {
      "cell_type": "code",
      "metadata": {
        "colab": {
          "base_uri": "https://localhost:8080/"
        },
        "id": "EdudiVsu4JLv",
        "outputId": "6cdcd07c-4849-4097-eddd-0ffe062b24fa"
      },
      "source": [
        "# аналогично с continue. Оно довольно редко незаменимо, но можно посмотреть, как работает.\n",
        "words = [\"США\", \"оливки\", \"Достоевский\", \"НИУ ВШЭ\", \"бумага\", \"стоп\", \"Байден\", \"ОК\"]\n",
        "for word in words:\n",
        "    if word == \"стоп\":\n",
        "        break\n",
        "    if word[0].islower():\n",
        "        continue\n",
        "    print(word)"
      ],
      "execution_count": 17,
      "outputs": [
        {
          "output_type": "stream",
          "name": "stdout",
          "text": [
            "США\n",
            "Достоевский\n",
            "НИУ ВШЭ\n"
          ]
        }
      ]
    },
    {
      "cell_type": "markdown",
      "metadata": {
        "id": "SER18_eTkPnF"
      },
      "source": [
        "Любое выражение может идентифицироваться как True или False:"
      ]
    },
    {
      "cell_type": "code",
      "metadata": {
        "id": "Dj---HAyKiJc",
        "colab": {
          "base_uri": "https://localhost:8080/"
        },
        "outputId": "5ceb506e-43fd-48f5-d281-171d4ee3b3c3"
      },
      "source": [
        "# 0 и пустые объекты интерперетируются как False, числа и непустые объекты как True\n",
        "if 1:\n",
        "  print(\"I am printed!\")\n",
        "\n",
        "if \"some string\":\n",
        "  print(\"I am printed!\")\n",
        "\n",
        "if \"\":\n",
        "  print(\"I am not printed!\")\n",
        "\n",
        "if 0:\n",
        "  print(\"I am not printed!\")"
      ],
      "execution_count": 18,
      "outputs": [
        {
          "output_type": "stream",
          "name": "stdout",
          "text": [
            "I am printed!\n",
            "I am printed!\n"
          ]
        }
      ]
    },
    {
      "cell_type": "code",
      "metadata": {
        "colab": {
          "base_uri": "https://localhost:8080/"
        },
        "id": "n_tJcucy5E61",
        "outputId": "fb755167-2c1f-4fa0-9f73-cee37a4fbd4e"
      },
      "source": [
        "# например, можно искользовать это так! не переживайте, если это не очень понятно. \n",
        "# pop() возвращает последний элемент и удаляет его\n",
        "\n",
        "students = [\"Ann\", \"Noam\", \"Sally\"]\n",
        "while students:\n",
        "    curr_student = students.pop()\n",
        "    print(f\"Now it's {curr_student}'s time to answer!\")\n",
        "\n",
        "print(\"Everyone in the class have answered!\")\n"
      ],
      "execution_count": 19,
      "outputs": [
        {
          "output_type": "stream",
          "name": "stdout",
          "text": [
            "Now it's Sally's time to answer!\n",
            "Now it's Noam's time to answer!\n",
            "Now it's Ann's time to answer!\n",
            "Everyone in the class have answered!\n"
          ]
        }
      ]
    },
    {
      "cell_type": "markdown",
      "metadata": {
        "id": "LqDOH_9i6oz-"
      },
      "source": [
        "Работа с текстом и немного статистики. Базовая токенизация и исследование длины слов\n"
      ]
    },
    {
      "cell_type": "code",
      "metadata": {
        "id": "CXwU0JRwRyoT",
        "colab": {
          "base_uri": "https://localhost:8080/"
        },
        "outputId": "758574ea-38c9-41d0-cba7-07e149f8b930"
      },
      "source": [
        "sample_text = \"\"\"Опубликованы результаты электронного голосования\n",
        "на выборах в Госдуму в Москве. Они спрятаны в общем массиве данных — их очень очень трудно найти\"\"\"\n",
        "words = sample_text.split()\n",
        "print(words)\n",
        "words = [word.strip(\".\").lower() for word in words]\n",
        "print(words)\n",
        "words = [word for word in words if word.isalpha()]\n",
        "print(words)\n",
        "word_lens = [len(word) for word in words]\n",
        "print(word_lens)\n",
        "mean_len = (sum(word_lens) / len(word_lens))\n",
        "print(mean_len)\n",
        "mean_len = round(sum(word_lens) / len(word_lens), 2) # придумать как всегда выводить с двумя знаками после запятой\n",
        "print(mean_len)\n"
      ],
      "execution_count": 20,
      "outputs": [
        {
          "output_type": "stream",
          "name": "stdout",
          "text": [
            "['Опубликованы', 'результаты', 'электронного', 'голосования', 'на', 'выборах', 'в', 'Госдуму', 'в', 'Москве.', 'Они', 'спрятаны', 'в', 'общем', 'массиве', 'данных', '—', 'их', 'очень', 'очень', 'трудно', 'найти']\n",
            "['опубликованы', 'результаты', 'электронного', 'голосования', 'на', 'выборах', 'в', 'госдуму', 'в', 'москве', 'они', 'спрятаны', 'в', 'общем', 'массиве', 'данных', '—', 'их', 'очень', 'очень', 'трудно', 'найти']\n",
            "['опубликованы', 'результаты', 'электронного', 'голосования', 'на', 'выборах', 'в', 'госдуму', 'в', 'москве', 'они', 'спрятаны', 'в', 'общем', 'массиве', 'данных', 'их', 'очень', 'очень', 'трудно', 'найти']\n",
            "[12, 10, 12, 11, 2, 7, 1, 7, 1, 6, 3, 8, 1, 5, 7, 6, 2, 5, 5, 6, 5]\n",
            "5.809523809523809\n",
            "5.81\n"
          ]
        }
      ]
    },
    {
      "cell_type": "code",
      "metadata": {
        "id": "70kpjHAoUnDq",
        "colab": {
          "base_uri": "https://localhost:8080/"
        },
        "outputId": "9c69115d-e384-4e2e-d76a-202e16e90e7c"
      },
      "source": [
        "# здесь мы загружаем модуль statistics из стандартной библиотеки питона.\n",
        "# если написать просто import statistics то ко всем объектам этого модуля \n",
        "# нужно будет обращаться через его название, например, так statistics.mean()\n",
        "# если дополнительно импортировать конкретные объекты / функции  с помощью from ... import ...., \n",
        "# то можно обращаться к ним напрямую, как мы делаем ниже\n",
        "from statistics import mean, median, mode\n",
        "\n",
        "# word_lens.append(6)\n",
        "# (!) обратить внимание, как считается мода\n",
        "\n",
        "# функции из модуля statistics:\n",
        "mean_len = round(mean(word_lens), 2)\n",
        "median_len = median(word_lens)\n",
        "mode_len = mode(word_lens)\n",
        "\n",
        "# это уже обычные функции\n",
        "min_len = min(word_lens)\n",
        "max_len = max(word_lens)\n",
        "\n",
        "print(sorted(word_lens))\n",
        "print(f\"Количество слов в тексте равно {len(word_lens)}\")\n",
        "print(f\"Самое длинное слово в тексте состоит из {max_len} букв, самое короткое слово в тексте — из {min_len}.\")\n",
        "print(f\"Среднее значение длины слова равно {mean_len}, медиана равна {median_len}, мода равна {mode_len}.\")"
      ],
      "execution_count": 25,
      "outputs": [
        {
          "output_type": "stream",
          "name": "stdout",
          "text": [
            "[1, 1, 1, 2, 2, 3, 5, 5, 5, 5, 6, 6, 6, 7, 7, 7, 8, 10, 11, 12, 12]\n",
            "Количество слов в тексте равно 21\n",
            "Самое длинное слово в тексте состоит из 12 букв, самое короткое слово в тексте — из 1.\n",
            "Среднее значение длины слова равно 5.81, медиана равна 6, мода равна 5.\n"
          ]
        }
      ]
    },
    {
      "cell_type": "markdown",
      "metadata": {
        "id": "GtWetR4c8IZI"
      },
      "source": [
        "Ошибки в программах. Обработка исключений."
      ]
    },
    {
      "cell_type": "code",
      "metadata": {
        "id": "cO1exWvuZ7Rx",
        "colab": {
          "base_uri": "https://localhost:8080/"
        },
        "outputId": "654d5566-fc8f-4722-cbf2-b991628ffb81"
      },
      "source": [
        "try:\n",
        "    age = int(input(\"What's your age? \"))\n",
        "    print(f\"You were born in {2021-age}.\")\n",
        "except ValueError:\n",
        "    print(\"ValueError, type your age in digits\")\n",
        "except KeyboardInterrupt:\n",
        "    print(\"KeyboardInterrupt, you've left before answering!\")\n"
      ],
      "execution_count": 22,
      "outputs": [
        {
          "output_type": "stream",
          "name": "stdout",
          "text": [
            "What's your age? пять лет\n",
            "ValueError, type your age in digits\n"
          ]
        }
      ]
    },
    {
      "cell_type": "code",
      "metadata": {
        "id": "HC4k28vKbtqf",
        "colab": {
          "base_uri": "https://localhost:8080/"
        },
        "outputId": "e9b09cb0-57b4-49fb-c1a0-65dab56aa4a9"
      },
      "source": [
        "numbers = [1, 2, 3, 4, 5]\n",
        "try:\n",
        "    number = int(input(\"Какое число вы хотите добавить? \"))\n",
        "    position = int(input(\"На какую позицию вы хотите добавить число? \"))\n",
        "    numbers[position] = number\n",
        "    print(numbers)    \n",
        "except IndexError:\n",
        "    print(\"Такого индекса нет!\")\n",
        "except ValueError:\n",
        "    print(\"Пожалуйста, используйте число.\")\n",
        "except:\n",
        "    print(\"Что-то пошло не так и мы не знаем, что :(\")\n",
        "\n"
      ],
      "execution_count": 23,
      "outputs": [
        {
          "output_type": "stream",
          "name": "stdout",
          "text": [
            "Какое число вы хотите добавить? 13\n",
            "На какую позицию вы хотите добавить число? 13\n",
            "Такого индекса нет!\n"
          ]
        }
      ]
    },
    {
      "cell_type": "markdown",
      "metadata": {
        "id": "tkKeWNgX_Gu-"
      },
      "source": [
        "Оформление д/з и не только. Прошу вас пока делать так."
      ]
    },
    {
      "cell_type": "code",
      "metadata": {
        "colab": {
          "base_uri": "https://localhost:8080/"
        },
        "id": "-or4Zd03_Lw3",
        "outputId": "2246ca08-1975-48ed-8a8c-c6e0875e6d3e"
      },
      "source": [
        "\"\"\"программа для подсчета количества символов в строке\"\"\"\n",
        "\n",
        "print(\"Во введенной вами строке\", len(input(\"Введите строку: \")), \"символов.\")\n",
        "\n",
        "\n",
        "# делать отдельный файл с адекватным названием и разрешением .py для одной задачи.\n",
        "# начинающим еще раз настоятельно рекомендую работать в пайчарме, под каждый урок и д/з создавать отдельный проект\n",
        "# В начале скрипта использовать doc-strings для описания того, что делает программа.\n",
        "# Если вы (уже учили Питон))) и делаете задание в блокноте (Jupyter, Colab) делайте докстрингс у каждой секции (cell), внутри которой делаете задачу. На одно д/з один блокнот.\n"
      ],
      "execution_count": 24,
      "outputs": [
        {
          "output_type": "stream",
          "name": "stdout",
          "text": [
            "Введите строку: Я ем яблоко.\n",
            "Во введенной вами строке 12 символов.\n"
          ]
        }
      ]
    }
  ]
}