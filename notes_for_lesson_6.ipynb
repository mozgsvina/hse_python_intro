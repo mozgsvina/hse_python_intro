{
  "nbformat": 4,
  "nbformat_minor": 0,
  "metadata": {
    "colab": {
      "name": "notes_for_lesson_6.ipynb",
      "provenance": [],
      "collapsed_sections": [],
      "authorship_tag": "ABX9TyMdRzjmRP7+CFErXFFz7Lv2",
      "include_colab_link": true
    },
    "kernelspec": {
      "name": "python3",
      "display_name": "Python 3"
    },
    "language_info": {
      "name": "python"
    }
  },
  "cells": [
    {
      "cell_type": "markdown",
      "metadata": {
        "id": "view-in-github",
        "colab_type": "text"
      },
      "source": [
        "<a href=\"https://colab.research.google.com/github/mozgsvina/hse_python_intro/blob/main/notes_for_lesson_6.ipynb\" target=\"_parent\"><img src=\"https://colab.research.google.com/assets/colab-badge.svg\" alt=\"Open In Colab\"/></a>"
      ]
    },
    {
      "cell_type": "markdown",
      "metadata": {
        "id": "oir8r31atUH0"
      },
      "source": [
        "Разбор д/з №4"
      ]
    },
    {
      "cell_type": "code",
      "metadata": {
        "id": "7scqI-6RB4cq",
        "colab": {
          "base_uri": "https://localhost:8080/"
        },
        "outputId": "b4f12c0d-1c35-4af5-9092-6ada2c99c120"
      },
      "source": [
        "'''функция список --> словарь с их частотой'''\n",
        "\n",
        "def calculate_freqs(list_to_process):\n",
        "    freq_dict = {}\n",
        "    for el in list_to_process:\n",
        "        if el in freq_dict:\n",
        "            freq_dict[el] += 1\n",
        "        else:\n",
        "            freq_dict[el] = 1\n",
        "    return freq_dict\n",
        "\n",
        "# вызываем функцию с разными списками\n",
        "print(calculate_freqs([1, 1, 3, 5, 5, 5]))\n",
        "print(calculate_freqs([\"one\", \"two\", \"two\", \"three\", \"three\", \"three\"]))\n",
        "\n",
        "# проверяем работу на пустом списке\n",
        "calculate_freqs([])"
      ],
      "execution_count": 2,
      "outputs": [
        {
          "output_type": "stream",
          "name": "stdout",
          "text": [
            "{1: 2, 3: 1, 5: 3}\n",
            "{'one': 1, 'two': 2, 'three': 3}\n"
          ]
        },
        {
          "output_type": "execute_result",
          "data": {
            "text/plain": [
              "{}"
            ]
          },
          "metadata": {},
          "execution_count": 2
        }
      ]
    },
    {
      "cell_type": "code",
      "metadata": {
        "id": "3AUTckp7B4Or",
        "colab": {
          "base_uri": "https://localhost:8080/"
        },
        "outputId": "db0eea2a-af0b-4174-d6b3-59b8a4051124"
      },
      "source": [
        "'''функция список и строка --> список строк исходного списка, заканчивающийся на подстроку или -1'''\n",
        "\n",
        "def filter_words(words, end):\n",
        "    new_words = []\n",
        "    for word in words:\n",
        "        if word.endswith(end):\n",
        "            new_words.append(word)\n",
        "    if len(new_words) > 0:\n",
        "        return new_words\n",
        "    else:\n",
        "        return -1\n",
        "\n",
        "# вызываем функцию и сохраняем результат в переменную\n",
        "my_words = filter_words([\"cat\", \"hat\", \"bark\", \"kite\", \"bet\"], \"at\")\n",
        "print(my_words)\n",
        "# вызываем функцию на пустом списке\n",
        "print(filter_words([],\"\"))\n",
        "print(filter_words([\"cat\", \"hat\", \"bark\", \"kite\", \"bet\"],\"\"))"
      ],
      "execution_count": 7,
      "outputs": [
        {
          "output_type": "stream",
          "name": "stdout",
          "text": [
            "['cat', 'hat']\n",
            "-1\n",
            "['cat', 'hat', 'bark', 'kite', 'bet']\n"
          ]
        }
      ]
    },
    {
      "cell_type": "code",
      "metadata": {
        "id": "UsshUyXZB4Eq",
        "colab": {
          "base_uri": "https://localhost:8080/"
        },
        "outputId": "c60deb86-1096-490e-fad0-9bed50f48b3d"
      },
      "source": [
        "word_list = []\n",
        "print(\"Enter words, 'stop' to stop.\")\n",
        "\n",
        "while True:\n",
        "    word = input(\"Enter a word: \")\n",
        "    if word == \"stop\":\n",
        "        break\n",
        "    word_list.append(word)\n",
        "\n",
        "words = filter_words(word_list, \"ei\") # в задании было \"ость\"\n",
        "if words == -1:\n",
        "    print(\"no such words\")\n",
        "else:\n",
        "    print(words)"
      ],
      "execution_count": 8,
      "outputs": [
        {
          "output_type": "stream",
          "name": "stdout",
          "text": [
            "Enter words, 'stop' to stop.\n",
            "Enter a word: hei\n",
            "Enter a word: rei\n",
            "Enter a word: day\n",
            "Enter a word: stop\n",
            "['hei', 'rei']\n"
          ]
        }
      ]
    },
    {
      "cell_type": "code",
      "metadata": {
        "id": "i5WHLuORtfdN",
        "colab": {
          "base_uri": "https://localhost:8080/"
        },
        "outputId": "236739bf-6c46-41dc-e402-72b703f2e520"
      },
      "source": [
        "'''функция граммы и вещество --> миллилитры'''\n",
        "\n",
        "def grams_to_ml(grams=10, product=\"water\"):    \n",
        "    if product == \"milk\":\n",
        "        result = grams * 1.04\n",
        "    elif  product == \"olive oil\":\n",
        "        result = grams * 1.1\n",
        "    else:\n",
        "        result = grams\n",
        "    return f\"{result:.1f}\"\n",
        "\n",
        "# print(grams_to_ml())\n",
        "# print(grams_to_ml(50))\n",
        "# print(grams_to_ml(product=\"olive oil\"))\n",
        "# print(grams_to_ml(30, \"milk\"))\n",
        "# print(grams_to_ml(product=\"milk\", grams=200))\n",
        "\n",
        "product_type = \"milk\"\n",
        "grams = 200\n",
        "mls = grams_to_ml(grams, product_type)\n",
        "\n",
        "\n",
        "\n",
        "# дополнение про форматирование\n",
        "print(f\"{'product':<10}{'grams':<10}{'milligrams':<10}\")\n",
        "print(f\"{product_type:<10}{grams:<10}{mls:<10}\")\n"
      ],
      "execution_count": 12,
      "outputs": [
        {
          "output_type": "stream",
          "name": "stdout",
          "text": [
            "product   grams     milligrams\n",
            "milk      200       208.0     \n"
          ]
        }
      ]
    },
    {
      "cell_type": "markdown",
      "metadata": {
        "id": "h-WMhxzNthQO"
      },
      "source": [
        "Еще немного про словари и множества"
      ]
    },
    {
      "cell_type": "code",
      "metadata": {
        "colab": {
          "base_uri": "https://localhost:8080/"
        },
        "id": "nbqkBsk0d2IG",
        "outputId": "ce935956-fb72-4f68-d8d9-263ede0ef5c8"
      },
      "source": [
        "# удаление элемента по значению\n",
        "names = {\"Nastya\" : 20, \"Margo\": 33, \"Anya\" : 52}\n",
        "\n",
        "del names[\"Anya\"]\n",
        "print(names)  # {'Nastya': 20, 'Margo': 33}"
      ],
      "execution_count": 14,
      "outputs": [
        {
          "output_type": "stream",
          "name": "stdout",
          "text": [
            "{'Nastya': 20, 'Margo': 33}\n"
          ]
        }
      ]
    },
    {
      "cell_type": "code",
      "metadata": {
        "id": "4gDTfddt4os5",
        "colab": {
          "base_uri": "https://localhost:8080/"
        },
        "outputId": "14ce7934-0ce1-446d-d6a8-9c6955f30ccd"
      },
      "source": [
        "# метод get() для получения значения по ключу\n",
        "names = {\"Nastya\" : 20, \"Margo\": 33, \"Anya\" : 52}\n",
        "print(names.get(\"Anya\"))  # возвращает None если такого ключа нет\n",
        "print(names[\"Anya\"])  # выбрасывает ошибку если такого ключа нет\n",
        "print(names.get(\"Any\")) # возвращает None\n",
        "print(names.get(\"Any\", \"no such key\")) # возвращает \"no such key\"\n",
        "\n",
        "# нельзя изменять словарь через цикл (во время перебора)\n",
        "for name in names:\n",
        "    names[name] += 1\n",
        "    # так нельзя:\n",
        "    # if names[name] > 50:\n",
        "    #     del names[name]\n",
        "\n",
        "\n",
        "# преобразование ключей и значений в список\n",
        "names_list = list(names.keys())  # ['Nastya', 'Margo', 'Anya']\n",
        "rate_list = list(names.values())  # [21, 34, 53]\n",
        "rated_names_list = list(names.items())  # [('Nastya', 21), ('Margo', 34), ('Anya', 53)]\n",
        "\n",
        "# выводим ключи в (обратном) порядке сортировки\n",
        "for name in sorted(names.keys(), reverse=True):\n",
        "    print(name, end=' ')\n",
        "print()\n",
        "# upate() для обновления или добавления элемента\n",
        "names.update({\"Anya\": 22}) \n",
        "names.update({\"Eliza\": 23})\n",
        "names.update(Katya=21)\n",
        "print(names)\n",
        "\n",
        "\n",
        "# ГЕНЕРАЦИЯ СЛОВАРЕЙ\n",
        "names_dict = {name.upper(): rate for name, rate in names.items()}\n",
        "print(names_dict)\n"
      ],
      "execution_count": 22,
      "outputs": [
        {
          "output_type": "stream",
          "name": "stdout",
          "text": [
            "52\n",
            "52\n",
            "None\n",
            "no such key\n",
            "Nastya Margo Anya \n",
            "{'Nastya': 21, 'Margo': 34, 'Anya': 22, 'Eliza': 23, 'Katya': 21}\n",
            "{'NASTYA': 21, 'MARGO': 34, 'ANYA': 22, 'ELIZA': 23, 'KATYA': 21}\n"
          ]
        }
      ]
    },
    {
      "cell_type": "markdown",
      "metadata": {
        "id": "4T1iTHmwRk17"
      },
      "source": [
        "Регулярные выражения в Питоне"
      ]
    },
    {
      "cell_type": "code",
      "metadata": {
        "id": "6DGn6WjGRkWr",
        "colab": {
          "base_uri": "https://localhost:8080/"
        },
        "outputId": "dafc6410-eb2f-4acd-8dc2-5e96c8dbc5e5"
      },
      "source": [
        "import re\n",
        "\n",
        "# fullmatch провярет, совпадает ли ВСЯ строка с шаблоном\n",
        "pattern = r\"...\"\n",
        "word = \"cat\"\n",
        "\n",
        "print(re.fullmatch(pattern, word)) # если совпадает, возвращается некоторый объект, содержащий текст совпадения и интерпретирующийся как True\n",
        "\n",
        "if re.fullmatch(pattern, word):\n",
        "    print(\"Match!\")\n",
        "\n",
        "# group() возвращает строку из match объекта\n",
        "print(re.fullmatch(pattern, word).group())"
      ],
      "execution_count": 2,
      "outputs": [
        {
          "output_type": "stream",
          "name": "stdout",
          "text": [
            "<re.Match object; span=(0, 3), match='cat'>\n",
            "Match!\n",
            "cat\n"
          ]
        }
      ]
    },
    {
      "cell_type": "code",
      "metadata": {
        "id": "MEDZzw4USUFm",
        "colab": {
          "base_uri": "https://localhost:8080/"
        },
        "outputId": "a262e814-21da-42fd-85bd-aecfc99e0b03"
      },
      "source": [
        "cats = ['cat', 'Cat', 'cats', 'cat']\n",
        "for cat in cats:\n",
        "    if re.fullmatch(\"cat\", cat):\n",
        "        print(cat)\n",
        "\n",
        "for i, cat in enumerate(cats):\n",
        "    if re.fullmatch(\"cat\", cat):\n",
        "        print(i, cat)"
      ],
      "execution_count": 3,
      "outputs": [
        {
          "output_type": "stream",
          "name": "stdout",
          "text": [
            "cat\n",
            "cat\n",
            "0 cat\n",
            "3 cat\n"
          ]
        }
      ]
    },
    {
      "cell_type": "code",
      "metadata": {
        "id": "2CaCItORTEWG",
        "colab": {
          "base_uri": "https://localhost:8080/"
        },
        "outputId": "923a0577-6213-4e88-8ad3-fdb373a44090"
      },
      "source": [
        "id = \"001\"\n",
        "\n",
        "if re.fullmatch(r\"\\d{3}\", id):\n",
        "    print(\"valid id\")\n",
        "else:\n",
        "    print(\"invalid id\")\n",
        "\n",
        "# тернарный оператор, можно записать через обычный if\n",
        "print(\"valid id\" if re.fullmatch(r\"\\d{3}\", id) else \"invalid id\")"
      ],
      "execution_count": 4,
      "outputs": [
        {
          "output_type": "stream",
          "name": "stdout",
          "text": [
            "valid id\n",
            "valid id\n"
          ]
        }
      ]
    },
    {
      "cell_type": "code",
      "metadata": {
        "id": "CBK54kUPUXSZ",
        "colab": {
          "base_uri": "https://localhost:8080/"
        },
        "outputId": "214f8da8-5e15-41d6-e00b-6b4e73d566a2"
      },
      "source": [
        "# строка из одной или более заглавных букв\n",
        "pattern = \"[A-Z]+\"\n",
        "cats = ['cat', 'Cat', 'cats', 'CAT', 'CATS']\n",
        "for cat in cats:\n",
        "    if re.fullmatch(pattern, cat):\n",
        "        print(cat)"
      ],
      "execution_count": 5,
      "outputs": [
        {
          "output_type": "stream",
          "name": "stdout",
          "text": [
            "CAT\n",
            "CATS\n"
          ]
        }
      ]
    },
    {
      "cell_type": "code",
      "metadata": {
        "id": "ug38pgfyaDxa",
        "colab": {
          "base_uri": "https://localhost:8080/"
        },
        "outputId": "d0df1be3-c04a-48a0-d213-ca60657c6cd6"
      },
      "source": [
        "# search ищет первое вхождение в строке по шаблону\n",
        "\n",
        "text =  \"Well, there's Spam egg sausage and spam, that's not got much spam in it.\"\n",
        "spam = re.search(\"[Ss]pam\", text)\n",
        "\n",
        "print(f\"найдено слово {spam.group()}\" if spam else \"that's not got much spam in it\")"
      ],
      "execution_count": 6,
      "outputs": [
        {
          "output_type": "stream",
          "name": "stdout",
          "text": [
            "найдено слово Spam\n"
          ]
        }
      ]
    },
    {
      "cell_type": "code",
      "metadata": {
        "id": "No4uE-THcQ7f",
        "colab": {
          "base_uri": "https://localhost:8080/"
        },
        "outputId": "5df78778-bf16-4b19-ae60-d05a33392c42"
      },
      "source": [
        "# match ищет только в начале строки\n",
        "\n",
        "text =  \"Well, there's spam egg sausage and spam, that's not got much spam in it.\"\n",
        "spam = re.match(\"[Ss]pam\", text)\n",
        "print(spam)\n",
        "print(f\"найдено слово {spam.group()}\" if spam else \"that's not got much spam in it\")\n",
        "\n",
        "not_spam = re.match(\"Well\", text)\n",
        "print(f\"найдено слово {not_spam.group()}\" if not_spam else \"that's not got much spam in it\")"
      ],
      "execution_count": 7,
      "outputs": [
        {
          "output_type": "stream",
          "name": "stdout",
          "text": [
            "None\n",
            "that's not got much spam in it\n",
            "найдено слово Well\n"
          ]
        }
      ]
    },
    {
      "cell_type": "code",
      "metadata": {
        "id": "zGCcB2N0snQa",
        "colab": {
          "base_uri": "https://localhost:8080/"
        },
        "outputId": "09d5898c-033f-4558-86cc-aa72416e3846"
      },
      "source": [
        "# findall() находит все вхождения\n",
        "text = \"Well, there's egg and bacon; egg sausage and bacon; egg and spam; egg, bacon and spam; egg, bacon, \" \\\n",
        "       \"sausage and spam; spam, bacon, sausage and spam; spam, egg, spam, spam, bacon and spam; spam, spam, \" \\\n",
        "       \"spam, egg and spam; spam, spam, spam, spam, spam, spam, baked beans, spam, spam, spam and spam; or \" \\\n",
        "       \"Lobster thermidor aux crevettes with a mornay sauce garnished with truffle pâté, \" \\\n",
        "       \"brandy and with a fried egg on top and spam.\"\n",
        "\n",
        "print(re.findall(r\"\\w+ and spam\", text))"
      ],
      "execution_count": 8,
      "outputs": [
        {
          "output_type": "stream",
          "name": "stdout",
          "text": [
            "['egg and spam', 'bacon and spam', 'sausage and spam', 'sausage and spam', 'bacon and spam', 'egg and spam', 'spam and spam', 'top and spam']\n"
          ]
        }
      ]
    },
    {
      "cell_type": "markdown",
      "metadata": {
        "id": "L-39K_spWI-2"
      },
      "source": [
        "Замена и разбиение строк"
      ]
    },
    {
      "cell_type": "code",
      "metadata": {
        "id": "5WnQCE_PU_rl",
        "colab": {
          "base_uri": "https://localhost:8080/"
        },
        "outputId": "5944b55a-0e9b-48d7-f508-2d4dfc5b6133"
      },
      "source": [
        "# sub() для замены\n",
        "text = \"today is october 11, 2021. tomorrow will be 12\"\n",
        "       \n",
        "pattern = \"\\d+\"\n",
        "text = re.sub(pattern, \"NUM\", text)\n",
        "print(text)"
      ],
      "execution_count": 9,
      "outputs": [
        {
          "output_type": "stream",
          "name": "stdout",
          "text": [
            "today is october NUM, NUM. tomorrow will be NUM\n"
          ]
        }
      ]
    },
    {
      "cell_type": "code",
      "metadata": {
        "id": "17deBJVpYTuI",
        "colab": {
          "base_uri": "https://localhost:8080/"
        },
        "outputId": "2674b27e-b443-4f88-c2e9-3517e62e4eac"
      },
      "source": [
        "# разбиение строк на элементы списка (похоже на split)\n",
        "\n",
        "text = \"today is october 11, 2021. tomorrow will be 12\"\n",
        "\n",
        "text_split_1 = re.split(r\"\\.\", text)\n",
        "print(text_split_1)  # ['today is october 11, 2021', ' tomorrow will be 12']\n",
        "\n",
        "text_split_2 = re.split(r\"[.,]\", text)\n",
        "print(text_split_2)"
      ],
      "execution_count": 11,
      "outputs": [
        {
          "output_type": "stream",
          "name": "stdout",
          "text": [
            "['today is october 11, 2021', ' tomorrow will be 12']\n",
            "['today is october 11', ' 2021', ' tomorrow will be 12']\n"
          ]
        }
      ]
    },
    {
      "cell_type": "code",
      "metadata": {
        "id": "F6lPVR4RkpTC",
        "colab": {
          "base_uri": "https://localhost:8080/"
        },
        "outputId": "3e18c16a-a7ac-4354-ce3b-ab08ee79adba"
      },
      "source": [
        "# найти все слова в строке состоящие из двух символов\n",
        "text = \"today is october 11, 2021. tomorrow will be 12\"\n",
        "\n",
        "# пытаемся так, находятся не все\n",
        "# re.findall(r\" \\w\\w \", text)\n",
        "\n",
        "words = re.split(\"[,. ]\", text)\n",
        "\n",
        "for word in words:\n",
        "    if re.fullmatch(\"..\", word):\n",
        "        print(word)\n"
      ],
      "execution_count": 13,
      "outputs": [
        {
          "output_type": "stream",
          "name": "stdout",
          "text": [
            "is\n",
            "11\n",
            "be\n",
            "12\n"
          ]
        }
      ]
    }
  ]
}