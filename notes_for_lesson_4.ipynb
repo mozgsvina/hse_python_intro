{
  "nbformat": 4,
  "nbformat_minor": 0,
  "metadata": {
    "colab": {
      "name": "notes_for_lesson_4.ipynb",
      "provenance": [],
      "authorship_tag": "ABX9TyMU7G9zf3LAXuA0R7w8/yhd",
      "include_colab_link": true
    },
    "kernelspec": {
      "name": "python3",
      "display_name": "Python 3"
    },
    "language_info": {
      "name": "python"
    }
  },
  "cells": [
    {
      "cell_type": "markdown",
      "metadata": {
        "id": "view-in-github",
        "colab_type": "text"
      },
      "source": [
        "<a href=\"https://colab.research.google.com/github/mozgsvina/hse_python_intro/blob/main/notes_for_lesson_4.ipynb\" target=\"_parent\"><img src=\"https://colab.research.google.com/assets/colab-badge.svg\" alt=\"Open In Colab\"/></a>"
      ]
    },
    {
      "cell_type": "markdown",
      "metadata": {
        "id": "e-hsow0AmABk"
      },
      "source": [
        "Разбор д/з"
      ]
    },
    {
      "cell_type": "code",
      "metadata": {
        "id": "yWzpW29-mB3Z",
        "colab": {
          "base_uri": "https://localhost:8080/"
        },
        "outputId": "22004fd8-41fb-412d-ed1b-4f2ad77d65bf"
      },
      "source": [
        "\"\"\"\n",
        "считаем среднюю длину слова без предлогов\n",
        "\"\"\"\n",
        "\n",
        "import statistics as stat\n",
        "\n",
        "text = \"\"\"Он начал читать роман несколько дней назад. Забросив книгу из-за \n",
        "срочных дел, он вернулся к ней лишь в вагоне, на обратном пути в усадьбу; \n",
        "постепенно его захватывало развитие сюжета, фигуры персонажей.\"\"\"\n",
        "\n",
        "preps = [\"в\", \"на\", \"из-за\", \"к\"]\n",
        "\n",
        "words = [word.lower().strip('.,;') for word in text.split()]\n",
        "lens = [len(word) for word in words if word not in preps]\n",
        "\n",
        "mean_len = stat.mean(lens)\n",
        "\n",
        "print(f\"Средняя длина слова равна {mean_len:.2f}.\")"
      ],
      "execution_count": 1,
      "outputs": [
        {
          "output_type": "stream",
          "name": "stdout",
          "text": [
            "Средняя длина слова равна 5.96.\n"
          ]
        }
      ]
    },
    {
      "cell_type": "code",
      "metadata": {
        "colab": {
          "base_uri": "https://localhost:8080/"
        },
        "id": "cIZd5o19ftDd",
        "outputId": "9f3ebaea-5d41-4d58-b0f2-70cead153bb4"
      },
      "source": [
        "# в f-строке за выражением в фигурных скобках может следовать двоеточие и и спецификатор, который задает форматирование. \n",
        "# .3f задает форматирование для числа с плаваюющей запятой, ограничивая количество знаков после запятой (т.е. округляет до тысячных). \n",
        "# для других типов (не f) могут применяться другие форматы\n",
        "# форматирование зависит от типа, буква (s, d - decimal, f) обозначает тип представления\n",
        "# s используется по умолчанию и представляет объекты как строки, в т.ч. нестроковые\n",
        "# пока что этого достаточно :)\n",
        "\n",
        "name = \"Anya\"\n",
        "\n",
        "print(f'{16.67467:.3f}')\n",
        "print(f\"Hello, {name:s}\") # тоже самое, что без :s\n",
        "\n",
        "# группировка цифр\n",
        "print(f'{40075017:,d}')\n",
        "print(f'{40075017.4545:,.2f}')"
      ],
      "execution_count": 2,
      "outputs": [
        {
          "output_type": "stream",
          "name": "stdout",
          "text": [
            "16.675\n",
            "Hello, Anya\n",
            "40,075,017\n",
            "40,075,017.45\n"
          ]
        }
      ]
    },
    {
      "cell_type": "code",
      "metadata": {
        "id": "o5eQBw_zDYfe",
        "colab": {
          "base_uri": "https://localhost:8080/"
        },
        "outputId": "762d813f-add3-46f7-d374-fc62761859ec"
      },
      "source": [
        "\"\"\"\n",
        "разбиваем текст на предложения подручными средствами\n",
        "\"\"\"\n",
        "\n",
        "text = \"Он начал читать роман несколько дней назад! Забросив книгу из-за \" \\\n",
        "        \"срочных дел, он вернулся к ней лишь в вагоне, на обратном пути в усадьбу; \" \\\n",
        "        \"постепенно его захватывало развитие сюжета, фигуры персонажей... \" \\\n",
        "        \"Что будет дальше??? Узнаем!?!?\"\n",
        "\n",
        "# как ad hoc решение для повторяющихся знаков препинания добавила пробел после знака и перенос \n",
        "# строки для конца абзаца (которого тут нет,но он бы мог стать проблемой)\n",
        "sent_delimeters = ['. ', '! ', '? ', '… ', '\\n']\n",
        "\n",
        "for sd in sent_delimeters:\n",
        "    # добавляю к знаку препинания разделитель, чтобы не потерять знак препинания\n",
        "    text = text.replace(sd, sd + '|')\n",
        "\n",
        "sents = text.split(\"|\")\n",
        "sents = [sent.strip() for sent in sents]\n",
        "print(sents)"
      ],
      "execution_count": 3,
      "outputs": [
        {
          "output_type": "stream",
          "name": "stdout",
          "text": [
            "['Он начал читать роман несколько дней назад!', 'Забросив книгу из-за срочных дел, он вернулся к ней лишь в вагоне, на обратном пути в усадьбу; постепенно его захватывало развитие сюжета, фигуры персонажей...', 'Что будет дальше???', 'Узнаем!?!?']\n"
          ]
        }
      ]
    },
    {
      "cell_type": "code",
      "metadata": {
        "id": "yh60UlPVJbd5",
        "colab": {
          "base_uri": "https://localhost:8080/"
        },
        "outputId": "ca2dac1f-53c0-46f5-a7b0-2ee0bbe07637"
      },
      "source": [
        "\"\"\"\n",
        "ищем триграммы и выводим, содержащие букву.\n",
        "я плоховато придумала и сформулировала задачу, по хорошему здесь бы только триграммы оставить,\n",
        "но пытаюсь следовать задаче и использовать то решение, что мы разбирали на паре.\n",
        "можно делать и иначе!\n",
        "\"\"\"\n",
        "\n",
        "text = \"мама мыла раму мылом.\"\n",
        "\n",
        "trigrams = []\n",
        "\n",
        "# так можно найти все триграмы в тексте, считая пробелы и другие символы\n",
        "for i in range(len(text)):\n",
        "    if i < len(text) - 2:\n",
        "        trigrams.append(text[i:i + 3])\n",
        "    elif i == len(text) - 2:\n",
        "        trigrams.append(text[i:])\n",
        "\n",
        "\n",
        "# избавляемся от ненужных (с пробелом в середине) и обрезаем пробелы и пунктуацию из остальных\n",
        "trigrams = [tg.strip(' !,.?-;') for tg in trigrams if tg[1].isalpha()]\n",
        "print(\"Все триграммы (и их кусочки):\", trigrams)\n",
        "\n",
        "# создаем список уникальных триграмм\n",
        "unique_tgs = []\n",
        "for tg in trigrams:\n",
        "    if tg not in unique_tgs:\n",
        "        unique_tgs.append(tg)\n",
        "print(\"Уникальные триграммы (и их кусочки):\", unique_tgs)\n",
        "\n",
        "# ищем все по заданной букве\n",
        "letter = input(\"Введите букву для поиска триграмм: \")\n",
        "for tg in unique_tgs:\n",
        "    if letter in tg:\n",
        "        print(tg)\n"
      ],
      "execution_count": 5,
      "outputs": [
        {
          "output_type": "stream",
          "name": "stdout",
          "text": [
            "Все триграммы (и их кусочки): ['мам', 'ама', 'ма', 'мы', 'мыл', 'ыла', 'ла', 'ра', 'рам', 'аму', 'му', 'мы', 'мыл', 'ыло', 'лом', 'ом']\n",
            "Уникальные триграммы (и их кусочки): ['мам', 'ама', 'ма', 'мы', 'мыл', 'ыла', 'ла', 'ра', 'рам', 'аму', 'му', 'ыло', 'лом', 'ом']\n",
            "Введите букву для поиска триграмм: ы\n",
            "мы\n",
            "мыл\n",
            "ыла\n",
            "ыло\n"
          ]
        }
      ]
    },
    {
      "cell_type": "markdown",
      "metadata": {
        "id": "r2BuAatU4i07"
      },
      "source": [
        "Списки и кортежи"
      ]
    },
    {
      "cell_type": "code",
      "metadata": {
        "id": "6HcddI4ZTaVU",
        "colab": {
          "base_uri": "https://localhost:8080/"
        },
        "outputId": "efaf5e35-c36a-4434-808f-d515a8086815"
      },
      "source": [
        "# поверхностное копирование для списком с изменяемым типом элементов чревато ошибками\n",
        "lst = [[1, \"Russia\"], [2, \"USA\"]]\n",
        "copied_lst = lst.copy()\n",
        "lst[0][0] = 6\n",
        "copied_lst[0][1] = \"Israel\"\n",
        "print(lst)\n",
        "print(copied_lst)"
      ],
      "execution_count": 6,
      "outputs": [
        {
          "output_type": "stream",
          "name": "stdout",
          "text": [
            "[[6, 'Israel'], [2, 'USA']]\n",
            "[[6, 'Israel'], [2, 'USA']]\n"
          ]
        }
      ]
    },
    {
      "cell_type": "code",
      "metadata": {
        "colab": {
          "base_uri": "https://localhost:8080/"
        },
        "id": "K8MHUpi_Vukm",
        "outputId": "73eb5780-388b-42ea-90a6-ca059da9f7a9"
      },
      "source": [
        "# если элементы неизменяемые, такого не произойдет\n",
        "names = [\"Anya\", \"Nastya\", \"Margo\"]\n",
        "names_copied = names.copy()\n",
        "names[1] = \"Julia\"\n",
        "print(names)\n",
        "print(names_copied)"
      ],
      "execution_count": 7,
      "outputs": [
        {
          "output_type": "stream",
          "name": "stdout",
          "text": [
            "['Anya', 'Julia', 'Margo']\n",
            "['Anya', 'Nastya', 'Margo']\n"
          ]
        }
      ]
    },
    {
      "cell_type": "code",
      "metadata": {
        "id": "ibQrDHhRVRCO",
        "colab": {
          "base_uri": "https://localhost:8080/"
        },
        "outputId": "d3a279be-50a0-4e43-c251-43d46d1914b4"
      },
      "source": [
        "# метод pop() (в комбинации с append())имитирует структуру стэка\n",
        "names = [\"Anya\"]\n",
        "names.append(\"Nastya\")\n",
        "names.append(\"Margo\")\n",
        "while names:\n",
        "    name = names.pop()\n",
        "    print(f\"Hello, {name}!\")\n",
        "print(\"Hello all!\")"
      ],
      "execution_count": 8,
      "outputs": [
        {
          "output_type": "stream",
          "name": "stdout",
          "text": [
            "Hello, Margo!\n",
            "Hello, Nastya!\n",
            "Hello, Anya!\n",
            "Hello all!\n"
          ]
        }
      ]
    },
    {
      "cell_type": "code",
      "metadata": {
        "id": "DDb7WsvzV2XC",
        "colab": {
          "base_uri": "https://localhost:8080/"
        },
        "outputId": "d49fd616-502e-4cb4-d5d9-642dab6e197a"
      },
      "source": [
        "# кортежи (tuples) похожи на списки, но неизменяемые\n",
        "# скобочки не обязательны\n",
        "names = (\"Anya\", \"Nastya\", \"Margo\")\n",
        "info = (\"Anya\", 28)\n",
        "print(type(info))"
      ],
      "execution_count": 9,
      "outputs": [
        {
          "output_type": "stream",
          "name": "stdout",
          "text": [
            "<class 'tuple'>\n"
          ]
        }
      ]
    },
    {
      "cell_type": "code",
      "metadata": {
        "colab": {
          "base_uri": "https://localhost:8080/"
        },
        "id": "gxDWBCvPXWgR",
        "outputId": "48ea0fed-dacd-4fe2-d646-8d432b493c5c"
      },
      "source": [
        "# распаковка\n",
        "name, age = info\n",
        "print(name)"
      ],
      "execution_count": 10,
      "outputs": [
        {
          "output_type": "stream",
          "name": "stdout",
          "text": [
            "Anya\n"
          ]
        }
      ]
    },
    {
      "cell_type": "code",
      "metadata": {
        "id": "Ky9ybXuKWsXo",
        "colab": {
          "base_uri": "https://localhost:8080/"
        },
        "outputId": "96f535e0-05fb-4dec-8795-dc20dfb3c413"
      },
      "source": [
        "# распаковка для обмена значений переменных\n",
        "a = 25\n",
        "b = 10\n",
        "a, b = b, a\n",
        "print(a, b)"
      ],
      "execution_count": 11,
      "outputs": [
        {
          "output_type": "stream",
          "name": "stdout",
          "text": [
            "10 25\n"
          ]
        }
      ]
    },
    {
      "cell_type": "code",
      "metadata": {
        "id": "BKPQH09XXMaY",
        "colab": {
          "base_uri": "https://localhost:8080/"
        },
        "outputId": "d394eb0d-dfbf-4e3b-899e-df991a6547e7"
      },
      "source": [
        "# распаковка списков и строк\n",
        "line = 'AB'\n",
        "a, b = line\n",
        "lst = [1, 2, 3]\n",
        "a, b, c = lst\n",
        "print(a)"
      ],
      "execution_count": 12,
      "outputs": [
        {
          "output_type": "stream",
          "name": "stdout",
          "text": [
            "1\n"
          ]
        }
      ]
    },
    {
      "cell_type": "code",
      "metadata": {
        "id": "om1Id0nXX3qn",
        "colab": {
          "base_uri": "https://localhost:8080/"
        },
        "outputId": "69ab1a3b-a7e1-4a26-ced2-fe80789d0210"
      },
      "source": [
        "# безопасный цикл - аналог цикла с range()\n",
        "names = [\"Anya\", \"Nastya\", \"Margo\"]\n",
        "list(enumerate(names))\n",
        "\n",
        "for i, val in enumerate(names):\n",
        "    print(i, \":\", val)\n"
      ],
      "execution_count": 13,
      "outputs": [
        {
          "output_type": "stream",
          "name": "stdout",
          "text": [
            "0 : Anya\n",
            "1 : Nastya\n",
            "2 : Margo\n"
          ]
        }
      ]
    },
    {
      "cell_type": "markdown",
      "metadata": {
        "id": "cvXTBcKtUGVz"
      },
      "source": [
        "Словари (dict)"
      ]
    },
    {
      "cell_type": "code",
      "metadata": {
        "id": "xsUfCUeIZOIO",
        "colab": {
          "base_uri": "https://localhost:8080/"
        },
        "outputId": "a2c9cd5b-30e1-427e-fd5b-cbfa6e72c6d6"
      },
      "source": [
        "names = {\"Anya\" : 52, \"Nastya\" : 20, \"Margo\": 33}\n",
        "\n",
        "print(names[\"Anya\"]) # обращение к значению через ключ\n",
        "# keys() возвращает итерируемый объект\n",
        "for name in names.keys():\n",
        "    print(f\"{name} is {names[name]} years old.\")\n"
      ],
      "execution_count": 14,
      "outputs": [
        {
          "output_type": "stream",
          "name": "stdout",
          "text": [
            "52\n",
            "Anya is 52 years old.\n",
            "Nastya is 20 years old.\n",
            "Margo is 33 years old.\n"
          ]
        }
      ]
    },
    {
      "cell_type": "code",
      "metadata": {
        "id": "8xw5se6haDvX",
        "colab": {
          "base_uri": "https://localhost:8080/"
        },
        "outputId": "882ae6ad-b875-457b-a8a7-1f1b74adc0c3"
      },
      "source": [
        "# items() возвращает кортеж\n",
        "for name, age in names.items():\n",
        "    print(f\"{name} is {age} years old.\")"
      ],
      "execution_count": 15,
      "outputs": [
        {
          "output_type": "stream",
          "name": "stdout",
          "text": [
            "Anya is 52 years old.\n",
            "Nastya is 20 years old.\n",
            "Margo is 33 years old.\n"
          ]
        }
      ]
    },
    {
      "cell_type": "code",
      "metadata": {
        "id": "ofrJVpq7aVVF",
        "colab": {
          "base_uri": "https://localhost:8080/"
        },
        "outputId": "9ce6fdad-57bc-4f88-acfa-2b5a64ce8acb"
      },
      "source": [
        "# add element\n",
        "names[\"Helen\"] = 25\n",
        "print(names)\n",
        "# change element by key\n",
        "names[\"Anya\"] = 7\n",
        "print(names)"
      ],
      "execution_count": 16,
      "outputs": [
        {
          "output_type": "stream",
          "name": "stdout",
          "text": [
            "{'Anya': 52, 'Nastya': 20, 'Margo': 33, 'Helen': 25}\n",
            "{'Anya': 7, 'Nastya': 20, 'Margo': 33, 'Helen': 25}\n"
          ]
        }
      ]
    },
    {
      "cell_type": "code",
      "metadata": {
        "id": "cLxhI_3Ib35l",
        "colab": {
          "base_uri": "https://localhost:8080/"
        },
        "outputId": "814a05e3-864b-4497-f41a-2198b4efb181"
      },
      "source": [
        "# словарь, который содержит символы (ключи) и для каждого его частоту в данном тексте (значение)\n",
        "text = \"Он начал читать роман несколько дней назад. Забросив книгу из-за\" \\\n",
        "        \"срочных дел, он вернулся к ней лишь в вагоне, на обратном пути в усадьбу;\" \\\n",
        "        \"постепенно его захватывало развитие сюжета, фигуры персонажей.\" \\\n",
        "        \"Что будет дальше?? Узнаем!\".lower()\n",
        "freq_dict = {}\n",
        "\n",
        "for char in text:\n",
        "    if not char.isspace():\n",
        "        freq = text.count(char)\n",
        "        freq_dict[char] = freq\n",
        "\n",
        "print(freq_dict)"
      ],
      "execution_count": 17,
      "outputs": [
        {
          "output_type": "stream",
          "name": "stdout",
          "text": [
            "{'о': 16, 'н': 18, 'а': 20, 'ч': 4, 'л': 7, 'и': 9, 'т': 10, 'ь': 5, 'р': 8, 'м': 3, 'е': 16, 'с': 8, 'к': 4, 'д': 6, 'й': 3, 'з': 7, '.': 2, 'б': 4, 'в': 8, 'г': 4, 'у': 8, '-': 1, 'ы': 3, 'х': 2, ',': 3, 'я': 1, 'ш': 2, 'п': 4, ';': 1, 'ю': 1, 'ж': 2, 'ф': 1, '?': 2, '!': 1}\n"
          ]
        }
      ]
    },
    {
      "cell_type": "code",
      "metadata": {
        "colab": {
          "base_uri": "https://localhost:8080/"
        },
        "id": "W18A9VJEYpa3",
        "outputId": "98b46682-ba5c-4301-dc80-00895ac931fe"
      },
      "source": [
        "# решение без count()\n",
        "text = \"вот и лето прошло, словно и не бывало\"\n",
        "freq_dict = {}\n",
        "for char in text:\n",
        "    if char in freq_dict:\n",
        "        freq_dict[char] += 1\n",
        "    else:\n",
        "        freq_dict[char] = 1\n",
        "freq_dict"
      ],
      "execution_count": 18,
      "outputs": [
        {
          "output_type": "execute_result",
          "data": {
            "text/plain": [
              "{' ': 7,\n",
              " ',': 1,\n",
              " 'а': 1,\n",
              " 'б': 1,\n",
              " 'в': 3,\n",
              " 'е': 2,\n",
              " 'и': 2,\n",
              " 'л': 4,\n",
              " 'н': 2,\n",
              " 'о': 7,\n",
              " 'п': 1,\n",
              " 'р': 1,\n",
              " 'с': 1,\n",
              " 'т': 2,\n",
              " 'ш': 1,\n",
              " 'ы': 1}"
            ]
          },
          "metadata": {},
          "execution_count": 18
        }
      ]
    },
    {
      "cell_type": "markdown",
      "metadata": {
        "id": "HKfmbvmxZfSO"
      },
      "source": [
        "Собственные функции"
      ]
    },
    {
      "cell_type": "code",
      "metadata": {
        "colab": {
          "base_uri": "https://localhost:8080/"
        },
        "id": "s8LO7hvYZ7LA",
        "outputId": "4614f720-8486-4946-9123-21ceb00dd764"
      },
      "source": [
        "# простая функция, определение:\n",
        "\n",
        "def say_hello():\n",
        "    name = input(\"What's your name? \")\n",
        "    print(\"Hello,\", name + \"!\")\n",
        "\n",
        "\n",
        "# вызов\n",
        "say_hello()"
      ],
      "execution_count": 19,
      "outputs": [
        {
          "output_type": "stream",
          "name": "stdout",
          "text": [
            "What's your name? Anya\n",
            "Hello, Anya!\n"
          ]
        }
      ]
    },
    {
      "cell_type": "code",
      "metadata": {
        "id": "n7rb3vVsfZf_",
        "colab": {
          "base_uri": "https://localhost:8080/"
        },
        "outputId": "f97b5bf4-e365-485c-ffa1-f9fe7838deaa"
      },
      "source": [
        "# функция с параметром, определение:\n",
        "def say_goodbye(name):\n",
        "    print(f\"See you later, {name}!\")\n",
        "\n",
        "\n",
        "my_name = \"Anya\"\n",
        "\n",
        "# вызов\n",
        "say_goodbye(my_name)\n",
        "say_goodbye(\"Lera\")"
      ],
      "execution_count": 20,
      "outputs": [
        {
          "output_type": "stream",
          "name": "stdout",
          "text": [
            "See you later, Anya!\n",
            "See you later, Lera!\n"
          ]
        }
      ]
    },
    {
      "cell_type": "code",
      "metadata": {
        "colab": {
          "base_uri": "https://localhost:8080/"
        },
        "id": "fff9Uo2Dadlk",
        "outputId": "a9ef2d39-6352-4619-f6d6-804968112880"
      },
      "source": [
        "# функция с параметроми, которая возвращает значение, определение:\n",
        "def get_initials(name, surname):\n",
        "    name = name[0].upper()\n",
        "    surname = surname[0].upper()\n",
        "    initials = name + '. ' + surname + '.'\n",
        "    return initials\n",
        "\n",
        "# вызов и сохранение значения в переменную\n",
        "my_initials = get_initials(\"Anya\", \"Moskvina\")\n",
        "print(my_initials)\n"
      ],
      "execution_count": 75,
      "outputs": [
        {
          "output_type": "stream",
          "name": "stdout",
          "text": [
            "A. M.\n"
          ]
        }
      ]
    },
    {
      "cell_type": "code",
      "metadata": {
        "colab": {
          "base_uri": "https://localhost:8080/"
        },
        "id": "Qm78tpmtat7N",
        "outputId": "1b877b66-cee1-4db7-d799-5ea6eccfe7ab"
      },
      "source": [
        "# функция, которая возводит в степень\n",
        "def to_pow(num, pow):\n",
        "    return num ** pow\n",
        "\n",
        "for i in range(100):\n",
        "    print(to_pow(i, 2), end =\" \")"
      ],
      "execution_count": 22,
      "outputs": [
        {
          "output_type": "stream",
          "name": "stdout",
          "text": [
            "0 1 4 9 16 25 36 49 64 81 100 121 144 169 196 225 256 289 324 361 400 441 484 529 576 625 676 729 784 841 900 961 1024 1089 1156 1225 1296 1369 1444 1521 1600 1681 1764 1849 1936 2025 2116 2209 2304 2401 2500 2601 2704 2809 2916 3025 3136 3249 3364 3481 3600 3721 3844 3969 4096 4225 4356 4489 4624 4761 4900 5041 5184 5329 5476 5625 5776 5929 6084 6241 6400 6561 6724 6889 7056 7225 7396 7569 7744 7921 8100 8281 8464 8649 8836 9025 9216 9409 9604 9801 "
          ]
        }
      ]
    },
    {
      "cell_type": "code",
      "metadata": {
        "id": "SWyZ_L0Ijd6q",
        "colab": {
          "base_uri": "https://localhost:8080/"
        },
        "outputId": "2b4ab6f8-44b2-4fbd-a9ce-cea3131aad6a"
      },
      "source": [
        "def get_freq(text):\n",
        "    letter_freq = {}\n",
        "    for letter in text:\n",
        "        l_freq = text.count(letter)\n",
        "        letter_freq[letter] = l_freq\n",
        "    return letter_freq\n",
        "\n",
        "\n",
        "story = \"Он начал читать роман несколько дней назад. Забросив книгу из-за\" \\\n",
        "        \"срочных дел, он вернулся к ней лишь в вагоне, на обратном пути в усадьбу;\" \\\n",
        "        \"постепенно его захватывало развитие сюжета, фигуры персонажей.\" \\\n",
        "        \"Что будет дальше?? Узнаем!\".lower()\n",
        "\n",
        "print(get_freq(story))"
      ],
      "execution_count": 23,
      "outputs": [
        {
          "output_type": "stream",
          "name": "stdout",
          "text": [
            "{'о': 16, 'н': 18, ' ': 31, 'а': 20, 'ч': 4, 'л': 7, 'и': 9, 'т': 10, 'ь': 5, 'р': 8, 'м': 3, 'е': 16, 'с': 8, 'к': 4, 'д': 6, 'й': 3, 'з': 7, '.': 2, 'б': 4, 'в': 8, 'г': 4, 'у': 8, '-': 1, 'ы': 3, 'х': 2, ',': 3, 'я': 1, 'ш': 2, 'п': 4, ';': 1, 'ю': 1, 'ж': 2, 'ф': 1, '?': 2, '!': 1}\n"
          ]
        }
      ]
    },
    {
      "cell_type": "code",
      "metadata": {
        "colab": {
          "base_uri": "https://localhost:8080/"
        },
        "id": "7QG_d7L9jvhm",
        "outputId": "354950d9-e34d-4d8c-d478-4dade86f8a7b"
      },
      "source": [
        "# самый простой способ сделать словарь из двух списков выглядит так:\n",
        "\n",
        "letters = ['a', 'b', 'c']\n",
        "numbers = [1, 2, 3]\n",
        "\n",
        "new_dict_1 = dict(zip(letters, numbers))\n",
        "# но мы еще не проходили zip()\n",
        "\n",
        "# но если хочется, можно так\n",
        "new_dict_2 = {}\n",
        "for i in range(len(letters)):\n",
        "    new_dict_2[letters[i]] = numbers[i]\n",
        "\n",
        "print(new_dict_1)\n",
        "print(new_dict_2)\n"
      ],
      "execution_count": 27,
      "outputs": [
        {
          "output_type": "stream",
          "name": "stdout",
          "text": [
            "{'a': 1, 'b': 2, 'c': 3}\n",
            "{'a': 1, 'b': 2, 'c': 3}\n"
          ]
        }
      ]
    }
  ]
}