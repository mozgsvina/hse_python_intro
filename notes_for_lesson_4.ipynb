{
  "nbformat": 4,
  "nbformat_minor": 0,
  "metadata": {
    "colab": {
      "name": "notes_for_lesson_4.ipynb",
      "private_outputs": true,
      "provenance": [],
      "authorship_tag": "ABX9TyMTZuXVVB8m3Tel0TeY2UYh",
      "include_colab_link": true
    },
    "kernelspec": {
      "name": "python3",
      "display_name": "Python 3"
    },
    "language_info": {
      "name": "python"
    }
  },
  "cells": [
    {
      "cell_type": "markdown",
      "metadata": {
        "id": "view-in-github",
        "colab_type": "text"
      },
      "source": [
        "<a href=\"https://colab.research.google.com/github/mozgsvina/hse_python_intro/blob/main/notes_for_lesson_4.ipynb\" target=\"_parent\"><img src=\"https://colab.research.google.com/assets/colab-badge.svg\" alt=\"Open In Colab\"/></a>"
      ]
    },
    {
      "cell_type": "markdown",
      "metadata": {
        "id": "e-hsow0AmABk"
      },
      "source": [
        "Разбор д/з"
      ]
    },
    {
      "cell_type": "code",
      "metadata": {
        "id": "yWzpW29-mB3Z"
      },
      "source": [
        "\"\"\"\n",
        "считаем среднюю длину слова без предлогов\n",
        "\"\"\"\n",
        "\n",
        "import statistics as stat\n",
        "\n",
        "text = \"\"\"Он начал читать роман несколько дней назад. Забросив книгу из-за \n",
        "срочных дел, он вернулся к ней лишь в вагоне, на обратном пути в усадьбу; \n",
        "постепенно его захватывало развитие сюжета, фигуры персонажей.\"\"\"\n",
        "\n",
        "preps = [\"в\", \"на\", \"из-за\", \"к\"]\n",
        "\n",
        "words = [word.lower().strip('.,;') for word in text.split()]\n",
        "lens = [len(word) for word in words if word not in preps]\n",
        "\n",
        "mean_len = stat.mean(lens)\n",
        "\n",
        "print(f\"Средняя длина слова равна {mean_len:.2f}.\")"
      ],
      "execution_count": null,
      "outputs": []
    },
    {
      "cell_type": "code",
      "metadata": {
        "id": "cIZd5o19ftDd"
      },
      "source": [
        "# форматирование зависит от типа, буква (s, d, f) обозначает тип представления\n",
        "# s используется по умолчанию и представляет нестроковые объекты как строки\n",
        "# пока что этого достаточно :)\n",
        "\n",
        "name = \"Anya\"\n",
        "\n",
        "print(f'{16.67467:.3f}')\n",
        "print(f\"Hello, {name:s}\") # тоже самое, что без :s\n",
        "\n",
        "# группировка цифр\n",
        "print(f'{40075017:,d}')\n",
        "print(f'{40075017.4545:,.2f}')"
      ],
      "execution_count": null,
      "outputs": []
    },
    {
      "cell_type": "code",
      "metadata": {
        "id": "o5eQBw_zDYfe"
      },
      "source": [
        "\"\"\"\n",
        "разбиваем текст на предложения подручными средствами\n",
        "\"\"\"\n",
        "\n",
        "text = \"Он начал читать роман несколько дней назад! Забросив книгу из-за \" \\\n",
        "        \"срочных дел, он вернулся к ней лишь в вагоне, на обратном пути в усадьбу; \" \\\n",
        "        \"постепенно его захватывало развитие сюжета, фигуры персонажей... \" \\\n",
        "        \"Что будет дальше??? Узнаем!?!?\"\n",
        "\n",
        "# как ad hoc решение для повторяющихся знаков препинания добавила пробел после знака и перенос \n",
        "# строки для конца абзаца (которого тут нет,но он бы мог стать проблемой)\n",
        "sent_delimeters = ['. ', '! ', '? ', '… ', '\\n']\n",
        "\n",
        "for sd in sent_delimeters:\n",
        "    # добавляю к знаку препинания разделитель, чтобы не потерять знак препинания\n",
        "    text = text.replace(sd, sd + '|')\n",
        "\n",
        "sents = text.split(\"|\")\n",
        "sents = [sent.strip() for sent in sents]\n",
        "print(sents)"
      ],
      "execution_count": null,
      "outputs": []
    },
    {
      "cell_type": "code",
      "metadata": {
        "id": "yh60UlPVJbd5"
      },
      "source": [
        "\"\"\"\n",
        "ищем триграммы и выводим, содержащие букву.\n",
        "я плоховато придумала и сформулировала задачу, по хорошему здесь бы только триграммы оставить,\n",
        "но пытаюсь следовать задаче и использовать то решение, что мы разбирали на паре.\n",
        "можно делать и иначе!\n",
        "\"\"\"\n",
        "\n",
        "text = \"мама мыла раму мылом.\"\n",
        "\n",
        "trigrams = []\n",
        "\n",
        "# так можно найти все триграмы в тексте, считая пробелы и другие символы\n",
        "for i in range(len(text)):\n",
        "    if i < len(text) - 2:\n",
        "        trigrams.append(text[i:i + 3])\n",
        "    elif i == len(text) - 2:\n",
        "        trigrams.append(text[i:])\n",
        "\n",
        "\n",
        "# избавляемся от ненужных (с пробелом в середине) и обрезаем пробелы и пунктуацию из остальных\n",
        "trigrams = [tg.strip(' !,.?-;') for tg in trigrams if tg[1].isalpha()]\n",
        "print(\"Все триграммы (и их кусочки):\", trigrams)\n",
        "\n",
        "# создаем список уникальных триграмм\n",
        "unique_tgs = []\n",
        "for tg in trigrams:\n",
        "    if tg not in unique_tgs:\n",
        "        unique_tgs.append(tg)\n",
        "print(\"Уникальные триграммы (и их кусочки):\", unique_tgs)\n",
        "\n",
        "# ищем все по заданной букве\n",
        "letter = input(\"Введите букву для поиска триграмм: \")\n",
        "for tg in unique_tgs:\n",
        "    if letter in tg:\n",
        "        print(tg)\n"
      ],
      "execution_count": null,
      "outputs": []
    },
    {
      "cell_type": "markdown",
      "metadata": {
        "id": "r2BuAatU4i07"
      },
      "source": [
        "Списки и кортежи"
      ]
    },
    {
      "cell_type": "code",
      "metadata": {
        "id": "6HcddI4ZTaVU"
      },
      "source": [
        "# поверхностное копирование для списком с изменяемым типом элементов чревато ошибками\n",
        "lst = [[1, \"Russia\"], [2, \"USA\"]]\n",
        "copied_lst = lst.copy()\n",
        "lst[0][0] = 6\n",
        "copied_lst[0][1] = \"Israel\"\n",
        "print(lst)\n",
        "print(copied_lst)"
      ],
      "execution_count": null,
      "outputs": []
    },
    {
      "cell_type": "code",
      "metadata": {
        "id": "K8MHUpi_Vukm"
      },
      "source": [
        "# если элементы неизменяемые, такого не произойдет\n",
        "names = [\"Anya\", \"Nastya\", \"Margo\"]\n",
        "names_copied = names.copy()\n",
        "names[1] = \"Julia\"\n",
        "print(names)\n",
        "print(names_copied)"
      ],
      "execution_count": null,
      "outputs": []
    },
    {
      "cell_type": "code",
      "metadata": {
        "id": "ibQrDHhRVRCO"
      },
      "source": [
        "# метод pop() (в комбинации с append())имитирует структуру стэка\n",
        "names = [\"Anya\"]\n",
        "names.append(\"Nastya\")\n",
        "names.append(\"Margo\")\n",
        "while names:\n",
        "    name = names.pop()\n",
        "    print(f\"Hello, {name}!\")\n",
        "print(\"Hello all!\")"
      ],
      "execution_count": null,
      "outputs": []
    },
    {
      "cell_type": "code",
      "metadata": {
        "id": "DDb7WsvzV2XC"
      },
      "source": [
        "# кортежи (tuples) похожи на списки, но неизменяемые\n",
        "# скобочки не обязательны\n",
        "names = (\"Anya\", \"Nastya\", \"Margo\")\n",
        "info = (\"Anya\", 28)\n",
        "print(type(info))"
      ],
      "execution_count": null,
      "outputs": []
    },
    {
      "cell_type": "code",
      "metadata": {
        "id": "gxDWBCvPXWgR"
      },
      "source": [
        "# распаковка\n",
        "name, age = info\n",
        "print(name)"
      ],
      "execution_count": null,
      "outputs": []
    },
    {
      "cell_type": "code",
      "metadata": {
        "id": "Ky9ybXuKWsXo"
      },
      "source": [
        "# распаковка для обмена значений переменных\n",
        "a = 25\n",
        "b = 10\n",
        "a, b = b, a\n",
        "print(a, b)"
      ],
      "execution_count": null,
      "outputs": []
    },
    {
      "cell_type": "code",
      "metadata": {
        "id": "BKPQH09XXMaY"
      },
      "source": [
        "# распаковка списков и строк\n",
        "line = 'AB'\n",
        "a, b = line\n",
        "lst = [1, 2, 3]\n",
        "a, b, c = lst\n",
        "print(a)"
      ],
      "execution_count": null,
      "outputs": []
    },
    {
      "cell_type": "code",
      "metadata": {
        "id": "om1Id0nXX3qn"
      },
      "source": [
        "# безопасный цикл - аналог цикла с range()\n",
        "names = [\"Anya\", \"Nastya\", \"Margo\"]\n",
        "list(enumerate(names))\n",
        "\n",
        "for i, val in enumerate(names):\n",
        "    print(i, \":\", val)\n"
      ],
      "execution_count": null,
      "outputs": []
    },
    {
      "cell_type": "markdown",
      "metadata": {
        "id": "cvXTBcKtUGVz"
      },
      "source": [
        "Словари (dict)"
      ]
    },
    {
      "cell_type": "code",
      "metadata": {
        "id": "xsUfCUeIZOIO"
      },
      "source": [
        "names = {\"Anya\" : 52, \"Nastya\" : 20, \"Margo\": 33}\n",
        "\n",
        "print(names[\"Anya\"]) # обращение к значению через ключ\n",
        "# keys() возвращает итерируемый объект\n",
        "for name in names.keys():\n",
        "    print(f\"{name} is {names[name]} years old.\")\n"
      ],
      "execution_count": null,
      "outputs": []
    },
    {
      "cell_type": "code",
      "metadata": {
        "id": "8xw5se6haDvX"
      },
      "source": [
        "# items() возвращает кортеж\n",
        "for name, age in names.items():\n",
        "    print(f\"{name} is {age} years old.\")"
      ],
      "execution_count": null,
      "outputs": []
    },
    {
      "cell_type": "code",
      "metadata": {
        "id": "ofrJVpq7aVVF"
      },
      "source": [
        "# add element\n",
        "names[\"Helen\"] = 25\n",
        "print(names)\n",
        "# change element by key\n",
        "names[\"Anya\"] = 7\n",
        "print(names)"
      ],
      "execution_count": null,
      "outputs": []
    },
    {
      "cell_type": "code",
      "metadata": {
        "id": "cLxhI_3Ib35l"
      },
      "source": [
        "# словарь, который содержит символы (ключи) и для каждого его частоту в данном тексте (значение)\n",
        "text = \"Он начал читать роман несколько дней назад. Забросив книгу из-за\" \\\n",
        "        \"срочных дел, он вернулся к ней лишь в вагоне, на обратном пути в усадьбу;\" \\\n",
        "        \"постепенно его захватывало развитие сюжета, фигуры персонажей.\" \\\n",
        "        \"Что будет дальше?? Узнаем!\".lower()\n",
        "freq_dict = {}\n",
        "\n",
        "for char in text:\n",
        "    if not char.isspace():\n",
        "        freq = text.count(char)\n",
        "        freq_dict[char] = freq\n",
        "\n",
        "print(freq_dict)"
      ],
      "execution_count": null,
      "outputs": []
    },
    {
      "cell_type": "code",
      "metadata": {
        "id": "W18A9VJEYpa3"
      },
      "source": [
        "# решение без count()\n",
        "text = \"вот и лето прошло, словно и не бывало\"\n",
        "freq_dict = {}\n",
        "for char in text:\n",
        "    if char in freq_dict:\n",
        "        freq_dict[char] += 1\n",
        "    else:\n",
        "        freq_dict[char] = 1\n",
        "freq_dict"
      ],
      "execution_count": null,
      "outputs": []
    },
    {
      "cell_type": "markdown",
      "metadata": {
        "id": "HKfmbvmxZfSO"
      },
      "source": [
        "Собственные функции"
      ]
    },
    {
      "cell_type": "code",
      "metadata": {
        "id": "s8LO7hvYZ7LA"
      },
      "source": [
        "# простая функция, определение:\n",
        "\n",
        "def say_hello():\n",
        "    name = input(\"What's your name? \")\n",
        "    print(\"Hello,\", name + \"!\")\n",
        "\n",
        "\n",
        "# вызов\n",
        "say_hello()"
      ],
      "execution_count": null,
      "outputs": []
    },
    {
      "cell_type": "code",
      "metadata": {
        "id": "n7rb3vVsfZf_"
      },
      "source": [
        "# функция с параметром, определение:\n",
        "def say_goodbye(name):\n",
        "    print(f\"See you later, {name}!\")\n",
        "\n",
        "\n",
        "my_name = \"Anya\"\n",
        "\n",
        "# вызов\n",
        "say_goodbye(my_name)\n",
        "say_goodbye(\"Lera\")"
      ],
      "execution_count": null,
      "outputs": []
    },
    {
      "cell_type": "code",
      "metadata": {
        "id": "fff9Uo2Dadlk"
      },
      "source": [
        "# функция с параметроми, которая возвращает значение, определение:\n",
        "def get_initials(name, surname):\n",
        "    name = name[0].upper()\n",
        "    surname = surname[0].upper()\n",
        "    initials = name + '. ' + surname + '.'\n",
        "    return initials\n",
        "\n",
        "# вызов и сохранение значения в переменную\n",
        "my_initials = get_initials(\"Anya\", \"Moskvina\")\n",
        "print(my_initials)\n"
      ],
      "execution_count": null,
      "outputs": []
    },
    {
      "cell_type": "code",
      "metadata": {
        "id": "Qm78tpmtat7N"
      },
      "source": [
        "# функция, которая возводит в степень\n",
        "def to_pow(num, pow):\n",
        "    return num ** pow\n",
        "\n",
        "for i in range(100):\n",
        "    print(to_pow(i, 2), end =\" \")"
      ],
      "execution_count": null,
      "outputs": []
    },
    {
      "cell_type": "code",
      "metadata": {
        "id": "SWyZ_L0Ijd6q"
      },
      "source": [
        "def get_freq(text):\n",
        "    letter_freq = {}\n",
        "    for letter in text:\n",
        "        l_freq = text.count(letter)\n",
        "        letter_freq[letter] = l_freq\n",
        "    return letter_freq\n",
        "\n",
        "\n",
        "story = \"Он начал читать роман несколько дней назад. Забросив книгу из-за\" \\\n",
        "        \"срочных дел, он вернулся к ней лишь в вагоне, на обратном пути в усадьбу;\" \\\n",
        "        \"постепенно его захватывало развитие сюжета, фигуры персонажей.\" \\\n",
        "        \"Что будет дальше?? Узнаем!\".lower()\n",
        "\n",
        "print(get_freq(story))"
      ],
      "execution_count": null,
      "outputs": []
    },
    {
      "cell_type": "code",
      "metadata": {
        "id": "7QG_d7L9jvhm"
      },
      "source": [
        "# самый простой способ сделать словарь из двух списков выглядит так:\n",
        "\n",
        "letters = ['a', 'b', 'c']\n",
        "numbers = [1, 2, 3]\n",
        "\n",
        "new_dict_1 = dict(zip(letters, numbers))\n",
        "# но мы еще не проходили zip()\n",
        "\n",
        "# но если хочется, можно так\n",
        "new_dict_2 = {}\n",
        "for i in range(len(letters)):\n",
        "    new_dict_2[letters[i]] = numbers[i]\n",
        "\n",
        "print(new_dict_1)\n",
        "print(new_dict_2)\n"
      ],
      "execution_count": null,
      "outputs": []
    }
  ]
}