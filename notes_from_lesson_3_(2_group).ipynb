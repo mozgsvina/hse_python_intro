{
  "nbformat": 4,
  "nbformat_minor": 0,
  "metadata": {
    "colab": {
      "name": "lesson_3_(2_group).ipynb",
      "provenance": [],
      "authorship_tag": "ABX9TyOqCnBx72x3zKWoZGkzWHOG",
      "include_colab_link": true
    },
    "kernelspec": {
      "name": "python3",
      "display_name": "Python 3"
    },
    "language_info": {
      "name": "python"
    }
  },
  "cells": [
    {
      "cell_type": "markdown",
      "metadata": {
        "id": "view-in-github",
        "colab_type": "text"
      },
      "source": [
        "<a href=\"https://colab.research.google.com/github/mozgsvina/hse_python_intro/blob/main/notes_from_lesson_3_(2_group).ipynb\" target=\"_parent\"><img src=\"https://colab.research.google.com/assets/colab-badge.svg\" alt=\"Open In Colab\"/></a>"
      ]
    },
    {
      "cell_type": "markdown",
      "metadata": {
        "id": "zqGxhGN_mTrg"
      },
      "source": [
        "Разбор д/з"
      ]
    },
    {
      "cell_type": "code",
      "metadata": {
        "colab": {
          "base_uri": "https://localhost:8080/"
        },
        "id": "_sM3sHIwk7gm",
        "outputId": "97e98e90-1292-47f3-fa04-d46492e77de4"
      },
      "source": [
        "\"\"\"это программа удаляет все элементы из данного списка, кроме первого и последнего\"\"\"\n",
        "\n",
        "# (1) решение задачи через доступ к элементу по индексу и добавление элементов в новый список\n",
        "\n",
        "words = [\"кот\", \"нож\", \"Аня\", \"собака\", \"клоп\", \"Анна\"]\n",
        "print(words[0]) # this prints \"кот\"\n",
        "print(words[-1]) # this prints \"Анна\" (см. отрицательная индексация)\n",
        "\n",
        "words_new = [] # создаем пустой список, чтобы добавлять туда элементы\n",
        "words_new.append(words[0]) # добавляем первый (нулевой) элемент\n",
        "words_new.append(words[-1]) # добавляем последний (минус первый) элемент\n",
        "\n",
        "# индексы 0 и -1 указывают на 1-й и последний элемент независимо от размера списка\n",
        "# еще один способ обратиться к последнему элементу: использовать длину списка и отнять от нее единицу:\n",
        "# words[len(words) - 1]\n",
        "# words_new.append(words[len(words) - 1])\n",
        "\n",
        "print(\"Новый список, в который мы добавили первое и последнее слово из исходного:\", words_new)"
      ],
      "execution_count": 1,
      "outputs": [
        {
          "output_type": "stream",
          "name": "stdout",
          "text": [
            "кот\n",
            "Анна\n",
            "Новый список, в который мы добавили первое и последнее слово из исходного: ['кот', 'Анна']\n"
          ]
        }
      ]
    },
    {
      "cell_type": "code",
      "metadata": {
        "colab": {
          "base_uri": "https://localhost:8080/"
        },
        "id": "4VZaWi8SsI3J",
        "outputId": "3a5bac12-c24a-4f7e-8e2b-07491fb04c7d"
      },
      "source": [
        "\"\"\"это программа удаляет все элементы из данного списка, кроме первого и последнего\"\"\"\n",
        "\n",
        "# (2) решение задачи через удаление среза\n",
        "\n",
        "words = [\"кот\", \"нож\", \"Аня\", \"собака\", \"клоп\", \"Анна\"]\n",
        "# находим нужный срез — все, что мы хотим удалить\n",
        "# от первого элемента (включительно) до последнего (не включительно)\n",
        "print(\"это нужный нам для удаления срез исходного списка: \", words[1:-1])  # правая граница не входит (!)\n",
        "# удалить срез списка можно путем присваивания ему пустого множества или командой del\n",
        "words[1:-1] = []  # правая граница не входит\n",
        "# del words[1:-1] # аналогично предыдущей строке\n",
        "\n",
        "# вот окончательное лаконичное решение:\n",
        "\n",
        "words = [\"кот\", \"нож\", \"Аня\", \"котэ\", \"ножэ\", \"Анна\"]\n",
        "words[1:-1] = []\n",
        "print(words)"
      ],
      "execution_count": 2,
      "outputs": [
        {
          "output_type": "stream",
          "name": "stdout",
          "text": [
            "это нужный нам для удаления срез исходного списка:  ['нож', 'Аня', 'собака', 'клоп']\n",
            "['кот', 'Анна']\n"
          ]
        }
      ]
    },
    {
      "cell_type": "code",
      "metadata": {
        "colab": {
          "base_uri": "https://localhost:8080/"
        },
        "id": "E1im2kQjsUGF",
        "outputId": "d5c185c8-c809-41f4-a7d3-24f2e9df7938"
      },
      "source": [
        "\"\"\"эта программа добавляет элемент в список на заданную пользователем позицию\"\"\"\n",
        "\n",
        "numbers = [1, 2, 3, 4]\n",
        "\n",
        "# здесь преобразование в int здесь необязательно, список может хранить любые (и разные) объекты\n",
        "element = int(input(\"Какое число добавить в список? \"))\n",
        "# а здесь преобразование в int обязательно, потому что это индекс\n",
        "pos = int(input(\"На какое место? \"))\n",
        "\n",
        "# данное условие позволяет добавить элемент в конец, н-р на 5-е место для списка длиной 4\n",
        "if pos < len(numbers) + 2:\n",
        "    numbers.insert(pos - 1, element)\n",
        "    # так же возможен вариант с заменой элемента на заданной позиции, тогда нужно изменить условие\n",
        "    # numbers[pos - 1] = element\n",
        "    print(\"Число было успешно добавлено!\")\n",
        "    print(numbers)\n",
        "else:\n",
        "    print(\"Такого индекса нет!\")"
      ],
      "execution_count": 3,
      "outputs": [
        {
          "output_type": "stream",
          "name": "stdout",
          "text": [
            "Какое число добавить в список? 666\n",
            "На какое место? 1\n",
            "Число было успешно добавлено!\n",
            "[666, 1, 2, 3, 4]\n"
          ]
        }
      ]
    },
    {
      "cell_type": "code",
      "metadata": {
        "id": "UWA3ZdfKLO4s",
        "colab": {
          "base_uri": "https://localhost:8080/"
        },
        "outputId": "83ced9ba-35f2-431a-9137-327b959858d6"
      },
      "source": [
        "# задача с удалением слов на А(а) и сохранением их в другой список (1) (без цикла)\n",
        "\n",
        "words = [\"кот\", \"Аня\", \"ад\"]\n",
        "# сделаем копию исходного списка\n",
        "words_copy = []\n",
        "# добавим в нее все слова из исходного списка\n",
        "words_copy.extend(words)\n",
        "# можно проверить резульат\n",
        "print(\"копия исходного списка:\", words_copy)\n",
        "# заведем список, в который будем добавлять удаленные слова\n",
        "removed_words = []\n",
        "\n",
        "# двойная индексация (один из способов проверить первую букву строки в списке)\n",
        "if words_copy[0][0] == \"А\" or words_copy[0][0] == \"а\":\n",
        "    removed_words.append(words_copy[0])\n",
        "    words.remove(words_copy[0])\n",
        "\n",
        "# обратите внимание, что мы работаем с копией списка, которая остается неизменной,\n",
        "# а из исходного списка мы только удаляем значения\n",
        "\n",
        "if words_copy[1][0] == \"А\" or words_copy[1][0] == \"а\":\n",
        "    removed_words.append(words_copy[1])\n",
        "    words.remove(words_copy[1])\n",
        "\n",
        "if words_copy[2][0] == \"А\" or words_copy[2][0] == \"а\":\n",
        "    removed_words.append(words_copy[2])\n",
        "    words.remove(words_copy[2])\n",
        "\n",
        "print(\"те слова, которые нужно было удалить:\", removed_words)\n",
        "print(\"исходный список с удаленными словами\", words)"
      ],
      "execution_count": 4,
      "outputs": [
        {
          "output_type": "stream",
          "name": "stdout",
          "text": [
            "копия исходного списка: ['кот', 'Аня', 'ад']\n",
            "те слова, которые нужно было удалить: ['Аня', 'ад']\n",
            "исходный список с удаленными словами ['кот']\n"
          ]
        }
      ]
    },
    {
      "cell_type": "code",
      "metadata": {
        "colab": {
          "base_uri": "https://localhost:8080/"
        },
        "id": "EN5l2DpbtOtT",
        "outputId": "a3dd4472-d29d-4462-a9d3-866527e204bb"
      },
      "source": [
        "# как еще можно проверить, что строка начинается с определенного символа?\n",
        "\n",
        "word = \"Апельсин\"\n",
        "word.startswith(\"A\") # возвращает True, если слово начинается с указанной строки\n",
        "# чтобы проверять сразу на заглавную и на строчную, можно сделать так:\n",
        "word.lower().startswith(\"a\") # вернет True, если слово начинается с А или а\n",
        "\n",
        "# итак:\n",
        "if word.lower().startswith(\"а\"):\n",
        "    print(f\"Слово '{word}' начинается с 'А' или 'а'.\")\n"
      ],
      "execution_count": 5,
      "outputs": [
        {
          "output_type": "stream",
          "name": "stdout",
          "text": [
            "Слово 'Апельсин' начинается с 'А' или 'а'.\n"
          ]
        }
      ]
    },
    {
      "cell_type": "code",
      "metadata": {
        "colab": {
          "base_uri": "https://localhost:8080/"
        },
        "id": "wqrdaC2KvMOR",
        "outputId": "786867cb-13ab-4441-e5eb-c90b32e7fcef"
      },
      "source": [
        "# задача с удалением слов на А(а) и сохранением их в другой список (2) (решение с циклом)\n",
        "\n",
        "words = [\"одеяло\", \"нож\", \"Аня\", \"орех\", \"динозавр\", \"акула\", \"Анчоус\", \"АРТ\"]\n",
        "removed_words = []\n",
        "# аналогичная идея с копией списка, если делать без копии, некоторые слова будут пропущены\n",
        "words_copy = []\n",
        "words_copy.extend(words)\n",
        "\n",
        "for word in words_copy:\n",
        "    if word[0] == \"А\" or word[0] == \"а\":\n",
        "        removed_words.append(word)\n",
        "        words.remove(word)\n",
        "\n",
        "print(\"Те слова, которые нужно удалить: \", removed_words)\n",
        "print(\"Исходный список с удаленными словами\", words)\n",
        "\n",
        "# на самом деле, здесь отдельную переменную с копией создавать не обязательно\n",
        "# можно создать поверхностную копию при объявлении цикла:\n",
        "# for word in words.copy():\n",
        "#     if word[0] == \"А\" or word[0] == \"а\":\n",
        "#         removed_words.append(word)\n",
        "#         words.remove(word)\n"
      ],
      "execution_count": 6,
      "outputs": [
        {
          "output_type": "stream",
          "name": "stdout",
          "text": [
            "Те слова, которые нужно удалить:  ['Аня', 'акула', 'Анчоус', 'АРТ']\n",
            "Исходный список с удаленными словами ['одеяло', 'нож', 'орех', 'динозавр']\n"
          ]
        }
      ]
    },
    {
      "cell_type": "markdown",
      "metadata": {
        "id": "qbk2lM9Dv00G"
      },
      "source": [
        "Функции и методы. Всегда заканчиваются на скобочки (). Могут принимать аргументы, а могут и не принимать (то, что указывается в скобках). Главное: могут производить какое-то действие и менять объект, а могут просто возвращать значение. Обратите внимание на разницу в поведении."
      ]
    },
    {
      "cell_type": "code",
      "metadata": {
        "colab": {
          "base_uri": "https://localhost:8080/"
        },
        "id": "NX5XNpK7v3ux",
        "outputId": "c51a59b5-3300-4890-c5b7-2ee20a459189"
      },
      "source": [
        "# функции\n",
        "\n",
        "print(\"kot\") # печатает слово kot в output\n",
        "len_kot = len(\"kot\") # возвращает длину строки (тип int) или списка. \n",
        "# Возвращенное значение можно сохранить в переменную или сразу же с ним что-то сделать.\n",
        "# При этом сам объект (в данном случае строка \"kot\") не изменится\n",
        "print(len(\"kot\"))\n",
        "sum([1, 2, 3]) # возвращает сумму элементов\n",
        "# input()  # возвращает данные введенные с клавиатуры\n",
        "int(3.45) # переводит переданное значение в целое число (если это возможно) и возвращает его\n",
        "\n",
        "# методы\n",
        "\n",
        "name = \"Masha\"\n",
        "name.lower()  # возвращает строку строчными буквами\n",
        "print(name)  # печатается \"Masha\", т.к. переменная name не была изменена\n",
        "\n",
        "name = name.lower()  # перезаписали переменную, присвоив ей возвращенное значение\n",
        "print(name) # печатает \"masha\""
      ],
      "execution_count": 7,
      "outputs": [
        {
          "output_type": "stream",
          "name": "stdout",
          "text": [
            "kot\n",
            "3\n",
            "Masha\n",
            "masha\n"
          ]
        }
      ]
    },
    {
      "cell_type": "code",
      "metadata": {
        "colab": {
          "base_uri": "https://localhost:8080/"
        },
        "id": "ueGk8KH2SZOn",
        "outputId": "1fdcf134-0b5a-4363-eb65-a4ed977eb806"
      },
      "source": [
        "# многие методы возвращают булево значение: True или False,\n",
        "# их удобно использовать с условным оператором if\n",
        "\n",
        "# далее посмотрим на некоторые  методы строк (str)\n",
        "name = \"masha\"\n",
        "name.islower() # возвращает True или False (здесь True)\n",
        "\n",
        "phrase = \"Hello, my name is Noam\"\n",
        "if phrase.islower():\n",
        "    print(\"Эта строка напечатана только если все символы в lowercase\")\n",
        "\n",
        "phrase.count(\"o\") # возвращает int, количество вхождений символа в строку\n",
        "print(phrase.count(\"o\"))\n",
        "\n",
        "phrase.startswith(\"H\") # возвращает True или False (да или нет)\n",
        "if phrase.startswith(\"Hello\"):\n",
        "    print(\"I do start with 'Hello'!\")"
      ],
      "execution_count": 8,
      "outputs": [
        {
          "output_type": "stream",
          "name": "stdout",
          "text": [
            "2\n",
            "I do start with 'Hello'!\n"
          ]
        }
      ]
    },
    {
      "cell_type": "code",
      "metadata": {
        "colab": {
          "base_uri": "https://localhost:8080/"
        },
        "id": "bc2PJ3f6TqiV",
        "outputId": "c96346a0-d593-456c-d9ed-eee596ce09b4"
      },
      "source": [
        "# а некоторые методы изменяют объект, на котором вызываются\n",
        "# здесь смотрим на два методы списков\n",
        "some_list = [\"one\", \"two\", \"three\"]\n",
        "print(some_list)\n",
        "some_list.sort()  # sort() сортирует список\n",
        "print(some_list)\n",
        "some_list.reverse() # reverse() меняет порядок элементов на обратный\n",
        "print(some_list)"
      ],
      "execution_count": 9,
      "outputs": [
        {
          "output_type": "stream",
          "name": "stdout",
          "text": [
            "['one', 'two', 'three']\n",
            "['one', 'three', 'two']\n",
            "['two', 'three', 'one']\n"
          ]
        }
      ]
    },
    {
      "cell_type": "code",
      "metadata": {
        "colab": {
          "base_uri": "https://localhost:8080/"
        },
        "id": "8RddGIFFxkdt",
        "outputId": "43d4a461-7876-45c0-849d-50beda23159f"
      },
      "source": [
        "sentence = \"Hello, Python!\"\n",
        "print(sentence.islower())\n",
        "print(sentence.istitle())\n",
        "# не можем менять строку!\n",
        "sentence.replace(\"l\", \"L\") # возвращает КОПИЮ строки с заданными изменениями\n",
        "print(sentence.replace(\"l\", \"L\")) # печатаем эту копию\n",
        "print(sentence) # предложение не изменилось"
      ],
      "execution_count": 10,
      "outputs": [
        {
          "output_type": "stream",
          "name": "stdout",
          "text": [
            "False\n",
            "True\n",
            "HeLLo, Python!\n",
            "Hello, Python!\n"
          ]
        }
      ]
    },
    {
      "cell_type": "code",
      "metadata": {
        "colab": {
          "base_uri": "https://localhost:8080/"
        },
        "id": "mmpMaZk2YZjB",
        "outputId": "9a79bcb3-7be2-456f-c65c-637d2d4dab25"
      },
      "source": [
        "# разница между изменяемыми и неизменяемыми типами\n",
        "\n",
        "grades = [7, 8, 3, 9, 10]\n",
        "print(grades)\n",
        "# смотрим на значение первого элемента\n",
        "print(grades[0])\n",
        "# меняем значение одного элемента\n",
        "grades[0] = 20\n",
        "print(grades)\n",
        "\n",
        "animal = \"dog\"\n",
        "# смотрим на значение первого элемента\n",
        "print(animal[0])\n",
        "# не можем менять значение одного элемента, будет ошибка!\n",
        "# animal[0] = \"D\" # так нельзя!"
      ],
      "execution_count": 11,
      "outputs": [
        {
          "output_type": "stream",
          "name": "stdout",
          "text": [
            "[7, 8, 3, 9, 10]\n",
            "7\n",
            "[20, 8, 3, 9, 10]\n",
            "d\n"
          ]
        }
      ]
    },
    {
      "cell_type": "markdown",
      "metadata": {
        "id": "tCW5WAE9XhfM"
      },
      "source": [
        "Про методы строк и списков см. подробнее в документации:\n",
        "\n",
        "\n",
        "\n",
        "*   https://docs.python.org/3/library/stdtypes.html#string-methods\n",
        "*   https://docs.python.org/3/library/stdtypes.html#mutable-sequence-types\n",
        "\n",
        "\n",
        "\n"
      ]
    },
    {
      "cell_type": "markdown",
      "metadata": {
        "id": "C4zqn-2cvr34"
      },
      "source": [
        "Цикл FOR ... IN для перебора всех значений"
      ]
    },
    {
      "cell_type": "code",
      "metadata": {
        "colab": {
          "base_uri": "https://localhost:8080/"
        },
        "id": "O6eBq6tA4Emc",
        "outputId": "9104465c-bf76-44a2-94fb-8bc1128e7096"
      },
      "source": [
        "some_list = [\"one\", \"two\", \"three\"]\n",
        "for num in some_list:\n",
        "    print(num)"
      ],
      "execution_count": 12,
      "outputs": [
        {
          "output_type": "stream",
          "name": "stdout",
          "text": [
            "one\n",
            "two\n",
            "three\n"
          ]
        }
      ]
    },
    {
      "cell_type": "code",
      "metadata": {
        "colab": {
          "base_uri": "https://localhost:8080/"
        },
        "id": "GkMx62QM9LX1",
        "outputId": "f82b98eb-3e05-4aea-94e9-330becf9f182"
      },
      "source": [
        "numbers = [1, 2, 3, 4]\n",
        "for num in numbers:\n",
        "    print(num + 1, end=\" \")"
      ],
      "execution_count": 13,
      "outputs": [
        {
          "output_type": "stream",
          "name": "stdout",
          "text": [
            "2 3 4 5 "
          ]
        }
      ]
    },
    {
      "cell_type": "code",
      "metadata": {
        "colab": {
          "base_uri": "https://localhost:8080/"
        },
        "id": "qD9b3Kb0ZLT_",
        "outputId": "ae33bce1-9b28-4612-fbba-7d381ed53f9a"
      },
      "source": [
        "words = [\"кот\", \"нож\", \"обида\", \"грусть\", \"преступление\", \"голова\"]\n",
        "for word in words:\n",
        "    # print(word)\n",
        "    # print(len(word))\n",
        "    print(f\"Длина слова '{word}' равна {len(word)}.\")\n",
        "    # print(\"Длина слова\", word, \"равна\", len(word)) # same\n",
        "\n",
        "# следующая строка (без отступа) будет выполнена только после окончания цикла\n",
        "print(\"Длина всех слов посчитана!\")"
      ],
      "execution_count": 14,
      "outputs": [
        {
          "output_type": "stream",
          "name": "stdout",
          "text": [
            "Длина слова 'кот' равна 3.\n",
            "Длина слова 'нож' равна 3.\n",
            "Длина слова 'обида' равна 5.\n",
            "Длина слова 'грусть' равна 6.\n",
            "Длина слова 'преступление' равна 12.\n",
            "Длина слова 'голова' равна 6.\n",
            "Длина всех слов посчитана!\n"
          ]
        }
      ]
    },
    {
      "cell_type": "markdown",
      "metadata": {
        "id": "1XRLNcCIZ_wD"
      },
      "source": [
        "Обратите внимание на разное использование метода isupper() в следующих двух циклах."
      ]
    },
    {
      "cell_type": "code",
      "metadata": {
        "colab": {
          "base_uri": "https://localhost:8080/"
        },
        "id": "5pjNFMVm9OtA",
        "outputId": "a9246326-e838-4b57-e7e3-b4e21edbcf16"
      },
      "source": [
        "animals = [\"dog\", \"cat\", \"OWL\", \"Hog\", \"GOOSE\"]\n",
        "\n",
        "for pet in animals:\n",
        "    if pet[0].isupper():\n",
        "        print(pet)\n"
      ],
      "execution_count": 15,
      "outputs": [
        {
          "output_type": "stream",
          "name": "stdout",
          "text": [
            "OWL\n",
            "Hog\n",
            "GOOSE\n"
          ]
        }
      ]
    },
    {
      "cell_type": "code",
      "metadata": {
        "colab": {
          "base_uri": "https://localhost:8080/"
        },
        "id": "YywGqg8nZ8km",
        "outputId": "5bca65b7-88b2-4c93-a61e-718fdf7d219b"
      },
      "source": [
        "animals = [\"dog\", \"cat\", \"OWL\", \"Hog\", \"GOOSE\"]\n",
        "\n",
        "for pet in animals:\n",
        "    if pet.isupper():\n",
        "        print(pet)\n"
      ],
      "execution_count": 16,
      "outputs": [
        {
          "output_type": "stream",
          "name": "stdout",
          "text": [
            "OWL\n",
            "GOOSE\n"
          ]
        }
      ]
    },
    {
      "cell_type": "markdown",
      "metadata": {
        "id": "IgiYMkmbbJQN"
      },
      "source": [
        "Цикл WHILE. Инструкции выполняются, пока условие истинно. Есть риск создать бесконечный цикл :)"
      ]
    },
    {
      "cell_type": "code",
      "metadata": {
        "colab": {
          "base_uri": "https://localhost:8080/"
        },
        "id": "G8WtgHMDvqyz",
        "outputId": "fe29bfd2-011c-406a-8b81-66427bac86fd"
      },
      "source": [
        "x = 20\n",
        "while x > 10:\n",
        "    print(x, end=\" \")\n",
        "    x = x - 1 "
      ],
      "execution_count": 17,
      "outputs": [
        {
          "output_type": "stream",
          "name": "stdout",
          "text": [
            "20 19 18 17 16 15 14 13 12 11 "
          ]
        }
      ]
    },
    {
      "cell_type": "code",
      "metadata": {
        "colab": {
          "base_uri": "https://localhost:8080/"
        },
        "id": "P2W6z7UMboe4",
        "outputId": "708e38b8-8220-48ca-fbf8-e8b385aad41e"
      },
      "source": [
        "grade = 0\n",
        "while grade < 100:\n",
        "    print(\"Do your homework!\")\n",
        "    # grade = grade + 25\n",
        "    grade += 25 # это сокращенный вариант строки выше\n",
        "    print(\"Your grade is\", grade)\n",
        "\n",
        "print(\"Well done!\")"
      ],
      "execution_count": 18,
      "outputs": [
        {
          "output_type": "stream",
          "name": "stdout",
          "text": [
            "Do your homework!\n",
            "Your grade is 25\n",
            "Do your homework!\n",
            "Your grade is 50\n",
            "Do your homework!\n",
            "Your grade is 75\n",
            "Do your homework!\n",
            "Your grade is 100\n",
            "Well done!\n"
          ]
        }
      ]
    },
    {
      "cell_type": "code",
      "metadata": {
        "colab": {
          "base_uri": "https://localhost:8080/"
        },
        "id": "1i4zJs-fcE_r",
        "outputId": "2397be9f-c661-405e-e643-50ee78825593"
      },
      "source": [
        "\"\"\"удаляем из списка последнее слово, до тех пор пока его длина не будет равна двум\"\"\"\n",
        "\n",
        "animals = [\"dog\", \"cat\", \"OWL\", \"Hog\", \"GOOSE\", \"camel\"]\n",
        "while len(animals) > 2:\n",
        "    print(animals)\n",
        "    animals.remove(animals[-1])\n",
        "    # del animals[-1] # или так \n",
        "\n",
        "# обратите внимание, что к концу выполнения цикла длина списка = 2, но вы это уже не выводим."
      ],
      "execution_count": 19,
      "outputs": [
        {
          "output_type": "stream",
          "name": "stdout",
          "text": [
            "['dog', 'cat', 'OWL', 'Hog', 'GOOSE', 'camel']\n",
            "['dog', 'cat', 'OWL', 'Hog', 'GOOSE']\n",
            "['dog', 'cat', 'OWL', 'Hog']\n",
            "['dog', 'cat', 'OWL']\n"
          ]
        }
      ]
    }
  ]
}