{
  "nbformat": 4,
  "nbformat_minor": 0,
  "metadata": {
    "colab": {
      "name": "notes_for_lesson_5_2.ipynb",
      "provenance": [],
      "authorship_tag": "ABX9TyPLnngBh1HQrOJsNS+1qTVp",
      "include_colab_link": true
    },
    "kernelspec": {
      "name": "python3",
      "display_name": "Python 3"
    },
    "language_info": {
      "name": "python"
    }
  },
  "cells": [
    {
      "cell_type": "markdown",
      "metadata": {
        "id": "view-in-github",
        "colab_type": "text"
      },
      "source": [
        "<a href=\"https://colab.research.google.com/github/mozgsvina/hse_python_intro/blob/main/notes_for_lesson_5_2.ipynb\" target=\"_parent\"><img src=\"https://colab.research.google.com/assets/colab-badge.svg\" alt=\"Open In Colab\"/></a>"
      ]
    },
    {
      "cell_type": "markdown",
      "metadata": {
        "id": "NGHxMUKLhoap"
      },
      "source": [
        "Разбор д/з №3"
      ]
    },
    {
      "cell_type": "code",
      "metadata": {
        "colab": {
          "base_uri": "https://localhost:8080/"
        },
        "id": "Sj8qNOFDhP7L",
        "outputId": "77197822-9574-444b-8a83-386ea7c207c2"
      },
      "source": [
        "\"\"\"\n",
        "удалить знак препинания, разбить в список, упорядочить, объединить в строку\n",
        "\"\"\"\n",
        "\n",
        "original_sentence = \"the owls are not what they seem!\"\n",
        "# sentence = original_sentence.strip(\"!\")\n",
        "# words = sentence.split()\n",
        "# words.sort()\n",
        "# words_joined = \" \".join(words)\n",
        "# print(words_joined)\n",
        "# print(original_sentence)\n",
        "\n",
        "words = original_sentence.split()\n",
        "words = [w.strip(\"!\") for w in words]\n",
        "words.sort()\n",
        "words_joined = \" \".join(words)\n",
        "print(words_joined)\n",
        "print(original_sentence)"
      ],
      "execution_count": 1,
      "outputs": [
        {
          "output_type": "stream",
          "name": "stdout",
          "text": [
            "are not owls seem the they what\n",
            "the owls are not what they seem!\n"
          ]
        }
      ]
    },
    {
      "cell_type": "code",
      "metadata": {
        "colab": {
          "base_uri": "https://localhost:8080/"
        },
        "id": "lU2Nl9MZhbP4",
        "outputId": "b755cb90-8467-4512-9256-37dcf3212630"
      },
      "source": [
        "\"\"\"Создайте словарь (тип dict), ключами которого будут строки, а значениями числа с\n",
        "дробной частью, содержащий не менее трех пар ключ-значение.\"\"\"\n",
        "\n",
        "price_list = {\"americano\": 1.5, \"cappuccino\": 2.5, \"hario\": 2.3}\n",
        "print(type(price_list))\n",
        "print(price_list)\n",
        "\n",
        "\"\"\"отдельно добавьте к созданному словарю еще одну пару ключ-значение.\"\"\"\n",
        "\n",
        "price_list[\"aeropress\"] = 2.3\n",
        "print(price_list)\n",
        "\n",
        "\"\"\"при помощи функции type определите тип ключей и значений созданного вами\n",
        "словаря\"\"\"\n",
        "\n",
        "# for key in price_list.keys():\n",
        "#     key_type = type(key)\n",
        "#     val_type = type(price_list[key])\n",
        "#     print(f\"Тип ключа {key_type}, тип значения — {val_type}.\")\n",
        "\n",
        "for key, val in price_list.items():\n",
        "    key_type = type(key)\n",
        "    val_type = type(val)\n",
        "    print(f\"Тип ключа {key_type}, тип значения — {val_type}.\")\n",
        "\n"
      ],
      "execution_count": 2,
      "outputs": [
        {
          "output_type": "stream",
          "name": "stdout",
          "text": [
            "<class 'dict'>\n",
            "{'americano': 1.5, 'cappuccino': 2.5, 'hario': 2.3}\n",
            "{'americano': 1.5, 'cappuccino': 2.5, 'hario': 2.3, 'aeropress': 2.3}\n",
            "Тип ключа <class 'str'>, тип значения — <class 'float'>.\n",
            "Тип ключа <class 'str'>, тип значения — <class 'float'>.\n",
            "Тип ключа <class 'str'>, тип значения — <class 'float'>.\n",
            "Тип ключа <class 'str'>, тип значения — <class 'float'>.\n"
          ]
        }
      ]
    },
    {
      "cell_type": "code",
      "metadata": {
        "colab": {
          "base_uri": "https://localhost:8080/"
        },
        "id": "E_WQB-v4hf73",
        "outputId": "496d615a-c155-41a8-c6f6-45a52fbf0fd4"
      },
      "source": [
        "book_info = (\"Преступление и наказание\", 1866, 4.8)\n",
        "title, year, rate = book_info\n",
        "print(f'Роман \"{title}\" был впервые опубликован в {year} и имеет среднюю оценку {rate} у наших читателей.')"
      ],
      "execution_count": 4,
      "outputs": [
        {
          "output_type": "stream",
          "name": "stdout",
          "text": [
            "Роман \"Преступление и наказание\" был впервые опубликован в 1866 и имеет среднюю оценку 4.8 у наших читателей.\n"
          ]
        }
      ]
    }
  ]
}