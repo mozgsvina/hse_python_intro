{
  "nbformat": 4,
  "nbformat_minor": 0,
  "metadata": {
    "colab": {
      "name": "notes_for_lesson_5_2.ipynb",
      "provenance": [],
      "authorship_tag": "ABX9TyPw8mUUleTDS91jC4H+WxBX",
      "include_colab_link": true
    },
    "kernelspec": {
      "name": "python3",
      "display_name": "Python 3"
    },
    "language_info": {
      "name": "python"
    }
  },
  "cells": [
    {
      "cell_type": "markdown",
      "metadata": {
        "id": "view-in-github",
        "colab_type": "text"
      },
      "source": [
        "<a href=\"https://colab.research.google.com/github/mozgsvina/hse_python_intro/blob/main/notes_for_lesson_5_2.ipynb\" target=\"_parent\"><img src=\"https://colab.research.google.com/assets/colab-badge.svg\" alt=\"Open In Colab\"/></a>"
      ]
    },
    {
      "cell_type": "markdown",
      "metadata": {
        "id": "NGHxMUKLhoap"
      },
      "source": [
        "Разбор д/з №3"
      ]
    },
    {
      "cell_type": "code",
      "metadata": {
        "colab": {
          "base_uri": "https://localhost:8080/"
        },
        "id": "Sj8qNOFDhP7L",
        "outputId": "b3d04dcf-11a8-4231-9a88-c10472c55d3b"
      },
      "source": [
        "\"\"\"\n",
        "удалить знак препинания, разбить в список, упорядочить, объединить в строку\n",
        "\"\"\"\n",
        "\n",
        "sentence = \"the owls are not what they seem!\"\n",
        "sent_copy = sentence.rstrip(\"!\")  # полезный метод strip()\n",
        "sent_list = sent_copy.split()\n",
        "sent_list.sort()\n",
        "# sent_list = sorted(sent_list)\n",
        "sent_joined = \" \".join(sent_list)\n",
        "print(sent_joined)\n",
        "print(type(sent_joined))\n",
        "print(sentence)\n"
      ],
      "execution_count": 1,
      "outputs": [
        {
          "output_type": "stream",
          "name": "stdout",
          "text": [
            "are not owls seem the they what\n",
            "<class 'str'>\n",
            "the owls are not what they seem!\n"
          ]
        }
      ]
    },
    {
      "cell_type": "code",
      "metadata": {
        "colab": {
          "base_uri": "https://localhost:8080/"
        },
        "id": "lU2Nl9MZhbP4",
        "outputId": "a791a6a2-3f60-47a8-8b9e-1ed48a235b54"
      },
      "source": [
        "\"\"\"Создайте словарь (тип dict), ключами которого будут строки, а значениями числа с\n",
        "дробной частью, содержащий не менее трех пар ключ-значение.\"\"\"\n",
        "\n",
        "price_list = {\"americano\": 1.5,\n",
        "              \"cappuccino\": 2.5,\n",
        "              \"hario\": 2.3}\n",
        "\n",
        "print(type(price_list))\n",
        "\n",
        "price_list[\"aeropress\"] = 2.3\n",
        "price_list[\"cappuccino\"] += 1  # не входило в дз\n",
        "\n",
        "print(price_list)\n",
        "\n",
        "for key in price_list:\n",
        "    key_type = type(key)\n",
        "    val_type = type(price_list[key])\n",
        "    print(f\"{key_type} : {val_type}\")\n",
        "\n",
        "for key, val in price_list.items():\n",
        "    print(f\"{type(key)} : {type(val)}\")\n",
        "\n",
        "\n",
        "key_types = [type(key) for key in price_list]\n",
        "val_types = [type(val) for val in price_list.values()]\n",
        "print(key_types)\n",
        "print(val_types)\n",
        "\n"
      ],
      "execution_count": 2,
      "outputs": [
        {
          "output_type": "stream",
          "name": "stdout",
          "text": [
            "<class 'dict'>\n",
            "{'americano': 1.5, 'cappuccino': 3.5, 'hario': 2.3, 'aeropress': 2.3}\n",
            "<class 'str'> : <class 'float'>\n",
            "<class 'str'> : <class 'float'>\n",
            "<class 'str'> : <class 'float'>\n",
            "<class 'str'> : <class 'float'>\n",
            "<class 'str'> : <class 'float'>\n",
            "<class 'str'> : <class 'float'>\n",
            "<class 'str'> : <class 'float'>\n",
            "<class 'str'> : <class 'float'>\n",
            "[<class 'str'>, <class 'str'>, <class 'str'>, <class 'str'>]\n",
            "[<class 'float'>, <class 'float'>, <class 'float'>, <class 'float'>]\n"
          ]
        }
      ]
    },
    {
      "cell_type": "code",
      "metadata": {
        "colab": {
          "base_uri": "https://localhost:8080/"
        },
        "id": "tUnOh4Of56gH",
        "outputId": "d39ca491-e479-4cde-92e1-05fd76ba25cb"
      },
      "source": [
        "\"\"\"\n",
        "создаем кортеж и распаковываем элементы в переменные\n",
        "\"\"\"\n",
        "\n",
        "book_info = (\"Преступление и наказание\", 1866, 4.8)\n",
        "# распаковка:\n",
        "title, year, rate = book_info\n",
        "print(f'Роман \"{title}\" был впервые опубликован в {year} и имеет среднюю оценку {rate} у наших читателей.')\n"
      ],
      "execution_count": 5,
      "outputs": [
        {
          "output_type": "stream",
          "name": "stdout",
          "text": [
            "Роман \"Преступление и наказание\" был впервые опубликован в 1866 и имеет среднюю оценку 4.8 у наших читателей.\n"
          ]
        }
      ]
    },
    {
      "cell_type": "code",
      "metadata": {
        "colab": {
          "base_uri": "https://localhost:8080/"
        },
        "id": "f9ZjaCkV77Da",
        "outputId": "d7571b3d-81ec-4ed8-95b0-c4cb2e0fb286"
      },
      "source": [
        "# потенциальная ошибка\n",
        "a = (4, 5)\n",
        "a = a * 3\n",
        "print(a)"
      ],
      "execution_count": 4,
      "outputs": [
        {
          "output_type": "stream",
          "name": "stdout",
          "text": [
            "(4, 5, 4, 5, 4, 5)\n"
          ]
        }
      ]
    },
    {
      "cell_type": "markdown",
      "metadata": {
        "id": "GBlANDyM7y0F"
      },
      "source": [
        "Функции"
      ]
    },
    {
      "cell_type": "code",
      "metadata": {
        "colab": {
          "base_uri": "https://localhost:8080/"
        },
        "id": "575XHaST6xS-",
        "outputId": "c16d873d-f1e4-49bb-85dc-eac1e1e54e11"
      },
      "source": [
        "def say_hi():\n",
        "    print(\"Hello!\")\n",
        "    print(\"Hi!\")\n",
        "\n",
        "\n",
        "say_hi()"
      ],
      "execution_count": 3,
      "outputs": [
        {
          "output_type": "stream",
          "name": "stdout",
          "text": [
            "Hello!\n",
            "Hi!\n"
          ]
        }
      ]
    },
    {
      "cell_type": "code",
      "metadata": {
        "colab": {
          "base_uri": "https://localhost:8080/"
        },
        "id": "EMmcwHSs72Gg",
        "outputId": "fa6df303-0d01-4a7e-8f10-f5430c2c04e1"
      },
      "source": [
        "def say_hello(name):\n",
        "    print(f\"Hello, {name}!\")\n",
        "\n",
        "\n",
        "say_hello(\"Anya\")\n",
        "my_name = \"Sasha\"\n",
        "say_hello(my_name)"
      ],
      "execution_count": 6,
      "outputs": [
        {
          "output_type": "stream",
          "name": "stdout",
          "text": [
            "Hello, Anya!\n",
            "Hello, Sasha!\n"
          ]
        }
      ]
    },
    {
      "cell_type": "code",
      "metadata": {
        "colab": {
          "base_uri": "https://localhost:8080/"
        },
        "id": "wGJghN1G8BBH",
        "outputId": "7220c14c-e5db-46b8-b0f1-e631da7baa66"
      },
      "source": [
        "def congrats(name, age):\n",
        "    print(f\"Happy Birthday, {name}! You're {age} now!\")\n",
        "\n",
        "\n",
        "congrats(my_name, 25)"
      ],
      "execution_count": 7,
      "outputs": [
        {
          "output_type": "stream",
          "name": "stdout",
          "text": [
            "Happy Birthday, Sasha! You're 25 now!\n"
          ]
        }
      ]
    },
    {
      "cell_type": "code",
      "metadata": {
        "colab": {
          "base_uri": "https://localhost:8080/"
        },
        "id": "sc3dszaP8GC3",
        "outputId": "c6425ee4-4ac2-4eed-868b-9b2c649ff250"
      },
      "source": [
        "# функция которая что-то возвращает\n",
        "def get_age(year):\n",
        "    \"\"\" считает возраст по году рождения \"\"\"\n",
        "    age = 2021 - year\n",
        "    return age\n",
        "\n",
        "\n",
        "my_age = get_age(1969)\n",
        "print(my_age)"
      ],
      "execution_count": 8,
      "outputs": [
        {
          "output_type": "stream",
          "name": "stdout",
          "text": [
            "52\n"
          ]
        }
      ]
    },
    {
      "cell_type": "code",
      "metadata": {
        "colab": {
          "base_uri": "https://localhost:8080/"
        },
        "id": "sFawBdrV8MX5",
        "outputId": "eda2ab36-dddb-4aee-b741-9cffc75bec3e"
      },
      "source": [
        "def print_len(line):\n",
        "    line_len = len(line)\n",
        "    print(line_len)\n",
        "\n",
        "\n",
        "print_len(\"my name is\")\n",
        "print_len(\"my name\")"
      ],
      "execution_count": 9,
      "outputs": [
        {
          "output_type": "stream",
          "name": "stdout",
          "text": [
            "10\n",
            "7\n"
          ]
        }
      ]
    },
    {
      "cell_type": "code",
      "metadata": {
        "id": "LsCwC0CI8XIE"
      },
      "source": [
        "def get_len(line):\n",
        "    line_len = len(line)\n",
        "    return line_len"
      ],
      "execution_count": 10,
      "outputs": []
    },
    {
      "cell_type": "code",
      "metadata": {
        "colab": {
          "base_uri": "https://localhost:8080/"
        },
        "id": "8l2gZ5Tb8YDi",
        "outputId": "0238ef3e-9f4e-459c-e317-d04888d3f7ca"
      },
      "source": [
        "curr_length = get_len(\"my name\")\n",
        "# теперь можно что-то сделать со значением\n",
        "len_list = []\n",
        "len_list.append(curr_length)\n",
        "print(len_list)"
      ],
      "execution_count": 11,
      "outputs": [
        {
          "output_type": "stream",
          "name": "stdout",
          "text": [
            "[7]\n"
          ]
        }
      ]
    },
    {
      "cell_type": "code",
      "metadata": {
        "colab": {
          "base_uri": "https://localhost:8080/"
        },
        "id": "DxBlhf3J8m2w",
        "outputId": "48b7635b-dd53-4b63-f5e6-9803ffb8836e"
      },
      "source": [
        "def get_len_wo_spaces(text):\n",
        "    text = text.replace(' ', '')\n",
        "    length = len(text)\n",
        "    return length\n",
        "\n",
        "\n",
        "print(get_len_wo_spaces(\"qwe   qwe\"))\n",
        "curr_length = get_len_wo_spaces(\"функция, 2 параментр: буква и цифра. Вернуть строку, состоящую из кол-ва букв,\"\n",
        "                                \" равного переданной цифре\")\n",
        "print(curr_length)\n",
        "print(get_len(\"функция, 2 параментр: буква и цифра. Вернуть строку, состоящую из кол-ва букв,\"\n",
        "              \" равного переданной цифре\"))"
      ],
      "execution_count": 12,
      "outputs": [
        {
          "output_type": "stream",
          "name": "stdout",
          "text": [
            "6\n",
            "89\n",
            "103\n"
          ]
        }
      ]
    },
    {
      "cell_type": "code",
      "metadata": {
        "colab": {
          "base_uri": "https://localhost:8080/"
        },
        "id": "FGMv24rc8onL",
        "outputId": "77193e13-8662-4961-c011-33c253565dd2"
      },
      "source": [
        "def multiply_letter(letter, num):\n",
        "    return letter * num\n",
        "\n",
        "\n",
        "res = multiply_letter(\"b\", 10)\n",
        "print(res)"
      ],
      "execution_count": 14,
      "outputs": [
        {
          "output_type": "stream",
          "name": "stdout",
          "text": [
            "bbbbbbbbbb\n"
          ]
        }
      ]
    },
    {
      "cell_type": "code",
      "metadata": {
        "colab": {
          "base_uri": "https://localhost:8080/"
        },
        "id": "rdb346o-8sd0",
        "outputId": "7901cb19-66fd-45a5-ae58-515287c57b82"
      },
      "source": [
        "# или так\n",
        "def multiply_letter(letter, num):\n",
        "    res_line = \"\"\n",
        "    for i in range(num):\n",
        "        res_line += letter\n",
        "    return res_line\n",
        "\n",
        "\n",
        "print(multiply_letter(\"s\", 3))\n"
      ],
      "execution_count": 16,
      "outputs": [
        {
          "output_type": "stream",
          "name": "stdout",
          "text": [
            "sss\n"
          ]
        }
      ]
    },
    {
      "cell_type": "code",
      "metadata": {
        "colab": {
          "base_uri": "https://localhost:8080/"
        },
        "id": "Q8M5K1N589U8",
        "outputId": "838222b7-21c0-4dee-aa76-e4bfe4c1e053"
      },
      "source": [
        "# значения аргументов по умолчанию\n",
        "def say_hello(name=\"stranger\"):\n",
        "    print(f\"Hello, {name}!\")\n",
        "\n",
        "\n",
        "say_hello()\n",
        "say_hello(\"Artur\")"
      ],
      "execution_count": 18,
      "outputs": [
        {
          "output_type": "stream",
          "name": "stdout",
          "text": [
            "Hello, stranger!\n",
            "Hello, Artur!\n"
          ]
        }
      ]
    },
    {
      "cell_type": "code",
      "metadata": {
        "colab": {
          "base_uri": "https://localhost:8080/",
          "height": 35
        },
        "id": "VTvpSJgS8-OG",
        "outputId": "f619ac0c-e3f6-47dc-deb6-12d0fb89b4d0"
      },
      "source": [
        "def multiply_letter(letter, num):\n",
        "    return letter * num\n",
        "\n",
        "\n",
        "multiply_letter(letter=\"а\", num=3)\n",
        "multiply_letter(\"а\", 3)"
      ],
      "execution_count": 19,
      "outputs": [
        {
          "output_type": "execute_result",
          "data": {
            "application/vnd.google.colaboratory.intrinsic+json": {
              "type": "string"
            },
            "text/plain": [
              "'ааа'"
            ]
          },
          "metadata": {},
          "execution_count": 19
        }
      ]
    },
    {
      "cell_type": "code",
      "metadata": {
        "colab": {
          "base_uri": "https://localhost:8080/"
        },
        "id": "4K58fKNs9FLa",
        "outputId": "12bdda76-e4e7-4ef2-ff43-42ccf74e8438"
      },
      "source": [
        "name = \"Anya\"\n",
        "surname = \"Moskvina\"\n",
        "\n",
        "print(name, surname, sep=\"_\", end=\" the end. \\n\")\n",
        "print(name, surname, sep=\" \", end=\"\\n\")  # аналогично print(name, surname), используются дефолтные значения sep и end\n",
        "print(\"Привет!\")"
      ],
      "execution_count": 21,
      "outputs": [
        {
          "output_type": "stream",
          "name": "stdout",
          "text": [
            "Anya_Moskvina the end. \n",
            "Anya Moskvina\n",
            "Привет!\n"
          ]
        }
      ]
    },
    {
      "cell_type": "code",
      "metadata": {
        "colab": {
          "base_uri": "https://localhost:8080/"
        },
        "id": "l4lQJaBw9TbP",
        "outputId": "34383bca-23c4-4f3d-c94c-9fe68c87766b"
      },
      "source": [
        "def divide(a=10, b=2):\n",
        "    print(round(a / b, 2))\n",
        "\n",
        "\n",
        "# позиционные аргументы\n",
        "divide(5, 3)\n",
        "divide(3, 5)\n",
        "divide()\n",
        "divide(5) # аргументы подставляются слева направо"
      ],
      "execution_count": 22,
      "outputs": [
        {
          "output_type": "stream",
          "name": "stdout",
          "text": [
            "1.67\n",
            "0.6\n",
            "5.0\n",
            "2.5\n"
          ]
        }
      ]
    },
    {
      "cell_type": "code",
      "metadata": {
        "colab": {
          "base_uri": "https://localhost:8080/"
        },
        "id": "nOrOS6b_9VLF",
        "outputId": "f7702e76-37ab-4b87-a636-2b09ae16369f"
      },
      "source": [
        "# ключевые аргументы\n",
        "divide(b=3)\n",
        "divide(b=4, a=1)\n",
        "\n",
        "for i in range(1, 50):\n",
        "    print(i ** 2, end=' ')"
      ],
      "execution_count": 23,
      "outputs": [
        {
          "output_type": "stream",
          "name": "stdout",
          "text": [
            "3.33\n",
            "0.25\n",
            "1 4 9 16 25 36 49 64 81 100 121 144 169 196 225 256 289 324 361 400 441 484 529 576 625 676 729 784 841 900 961 1024 1089 1156 1225 1296 1369 1444 1521 1600 1681 1764 1849 1936 2025 2116 2209 2304 2401 "
          ]
        }
      ]
    },
    {
      "cell_type": "code",
      "metadata": {
        "colab": {
          "base_uri": "https://localhost:8080/"
        },
        "id": "1k46pYeB9bLd",
        "outputId": "8f9ac8bf-e0f8-4fab-a46e-66868b493e7a"
      },
      "source": [
        "# функции с произвольным количеством аргументов\n",
        "m = max(1, 2, 3, 45, 6, 5)\n",
        "print(m)\n",
        "\n",
        "\n",
        "def get_sum(*args):\n",
        "    total = 0\n",
        "    for val in args:\n",
        "        total += val\n",
        "    return total\n",
        "\n",
        "\n",
        "my_sum = get_sum(1, 2, 3, 4)\n",
        "print(my_sum)"
      ],
      "execution_count": 24,
      "outputs": [
        {
          "output_type": "stream",
          "name": "stdout",
          "text": [
            "45\n",
            "10\n"
          ]
        }
      ]
    }
  ]
}